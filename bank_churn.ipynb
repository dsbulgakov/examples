{
 "cells": [
  {
   "cell_type": "markdown",
   "metadata": {},
   "source": [
    "# Отток клиентов банка"
   ]
  },
  {
   "cell_type": "markdown",
   "metadata": {},
   "source": [
    "В работе используется датасет с Kaggle https://www.kaggle.com/adammaus/predicting-churn-for-bank-customers, в котором приведены данные клиентов банка и факт их оттока. Будем строить наиболее качественную модель, которая поможет выявить клиентов, которые могут уйти. Ключевой метрикой качества будет accuracy, результат будет удобно сравнить с другими участниками соревнований на площадке kaggle. Так, у лучших работ, которые базируются на работе нейросетей, accuracy превышает 90% по данному кейсу. Попробуем получить близкий к 90% результат при помощи более быстрых и простых алгоритмов."
   ]
  },
  {
   "cell_type": "code",
   "execution_count": 1,
   "metadata": {},
   "outputs": [],
   "source": [
    "import pandas as pd\n",
    "import numpy as np\n",
    "\n",
    "from sklearn.model_selection import train_test_split\n",
    "from sklearn.tree import DecisionTreeClassifier\n",
    "from sklearn.ensemble import RandomForestClassifier\n",
    "from sklearn.metrics import accuracy_score, f1_score, recall_score, precision_score, roc_auc_score, roc_curve\n",
    "from sklearn.linear_model import LogisticRegression\n",
    "from sklearn.model_selection import RandomizedSearchCV, GridSearchCV\n",
    "from sklearn.ensemble import GradientBoostingClassifier\n",
    "import lightgbm as lgb\n",
    "from xgboost import XGBClassifier\n",
    "from catboost import CatBoostClassifier\n",
    "\n",
    "\n",
    "import warnings\n",
    "warnings.simplefilter(action='ignore', category=FutureWarning)\n",
    "from pandas.core.common import SettingWithCopyWarning\n",
    "warnings.simplefilter(action=\"ignore\", category=SettingWithCopyWarning)\n",
    "\n",
    "from sklearn.dummy import DummyClassifier\n",
    "from sklearn.preprocessing import StandardScaler, OrdinalEncoder\n",
    "from sklearn.utils import shuffle\n",
    "import matplotlib.pyplot as plt\n",
    "import seaborn as sns"
   ]
  },
  {
   "cell_type": "markdown",
   "metadata": {},
   "source": [
    "## Изучение и обработка данных:"
   ]
  },
  {
   "cell_type": "code",
   "execution_count": 2,
   "metadata": {},
   "outputs": [],
   "source": [
    "df = pd.read_csv('D:\\Churn_Modelling.csv')"
   ]
  },
  {
   "cell_type": "code",
   "execution_count": 3,
   "metadata": {},
   "outputs": [
    {
     "data": {
      "text/html": [
       "<div>\n",
       "<style scoped>\n",
       "    .dataframe tbody tr th:only-of-type {\n",
       "        vertical-align: middle;\n",
       "    }\n",
       "\n",
       "    .dataframe tbody tr th {\n",
       "        vertical-align: top;\n",
       "    }\n",
       "\n",
       "    .dataframe thead th {\n",
       "        text-align: right;\n",
       "    }\n",
       "</style>\n",
       "<table border=\"1\" class=\"dataframe\">\n",
       "  <thead>\n",
       "    <tr style=\"text-align: right;\">\n",
       "      <th></th>\n",
       "      <th>RowNumber</th>\n",
       "      <th>CustomerId</th>\n",
       "      <th>Surname</th>\n",
       "      <th>CreditScore</th>\n",
       "      <th>Geography</th>\n",
       "      <th>Gender</th>\n",
       "      <th>Age</th>\n",
       "      <th>Tenure</th>\n",
       "      <th>Balance</th>\n",
       "      <th>NumOfProducts</th>\n",
       "      <th>HasCrCard</th>\n",
       "      <th>IsActiveMember</th>\n",
       "      <th>EstimatedSalary</th>\n",
       "      <th>Exited</th>\n",
       "    </tr>\n",
       "  </thead>\n",
       "  <tbody>\n",
       "    <tr>\n",
       "      <th>column type</th>\n",
       "      <td>int64</td>\n",
       "      <td>int64</td>\n",
       "      <td>object</td>\n",
       "      <td>int64</td>\n",
       "      <td>object</td>\n",
       "      <td>object</td>\n",
       "      <td>int64</td>\n",
       "      <td>int64</td>\n",
       "      <td>float64</td>\n",
       "      <td>int64</td>\n",
       "      <td>int64</td>\n",
       "      <td>int64</td>\n",
       "      <td>float64</td>\n",
       "      <td>int64</td>\n",
       "    </tr>\n",
       "    <tr>\n",
       "      <th>null values (nb)</th>\n",
       "      <td>0</td>\n",
       "      <td>0</td>\n",
       "      <td>0</td>\n",
       "      <td>0</td>\n",
       "      <td>0</td>\n",
       "      <td>0</td>\n",
       "      <td>0</td>\n",
       "      <td>0</td>\n",
       "      <td>0</td>\n",
       "      <td>0</td>\n",
       "      <td>0</td>\n",
       "      <td>0</td>\n",
       "      <td>0</td>\n",
       "      <td>0</td>\n",
       "    </tr>\n",
       "    <tr>\n",
       "      <th>null values (%)</th>\n",
       "      <td>0</td>\n",
       "      <td>0</td>\n",
       "      <td>0</td>\n",
       "      <td>0</td>\n",
       "      <td>0</td>\n",
       "      <td>0</td>\n",
       "      <td>0</td>\n",
       "      <td>0</td>\n",
       "      <td>0</td>\n",
       "      <td>0</td>\n",
       "      <td>0</td>\n",
       "      <td>0</td>\n",
       "      <td>0</td>\n",
       "      <td>0</td>\n",
       "    </tr>\n",
       "  </tbody>\n",
       "</table>\n",
       "</div>"
      ],
      "text/plain": [
       "                 RowNumber CustomerId Surname CreditScore Geography  Gender  \\\n",
       "column type          int64      int64  object       int64    object  object   \n",
       "null values (nb)         0          0       0           0         0       0   \n",
       "null values (%)          0          0       0           0         0       0   \n",
       "\n",
       "                    Age Tenure  Balance NumOfProducts HasCrCard  \\\n",
       "column type       int64  int64  float64         int64     int64   \n",
       "null values (nb)      0      0        0             0         0   \n",
       "null values (%)       0      0        0             0         0   \n",
       "\n",
       "                 IsActiveMember EstimatedSalary Exited  \n",
       "column type               int64         float64  int64  \n",
       "null values (nb)              0               0      0  \n",
       "null values (%)               0               0      0  "
      ]
     },
     "metadata": {},
     "output_type": "display_data"
    },
    {
     "name": "stdout",
     "output_type": "stream",
     "text": [
      "Размер df: (10000, 14)\n"
     ]
    },
    {
     "data": {
      "text/html": [
       "<div>\n",
       "<style scoped>\n",
       "    .dataframe tbody tr th:only-of-type {\n",
       "        vertical-align: middle;\n",
       "    }\n",
       "\n",
       "    .dataframe tbody tr th {\n",
       "        vertical-align: top;\n",
       "    }\n",
       "\n",
       "    .dataframe thead th {\n",
       "        text-align: right;\n",
       "    }\n",
       "</style>\n",
       "<table border=\"1\" class=\"dataframe\">\n",
       "  <thead>\n",
       "    <tr style=\"text-align: right;\">\n",
       "      <th></th>\n",
       "      <th>RowNumber</th>\n",
       "      <th>CustomerId</th>\n",
       "      <th>Surname</th>\n",
       "      <th>CreditScore</th>\n",
       "      <th>Geography</th>\n",
       "      <th>Gender</th>\n",
       "      <th>Age</th>\n",
       "      <th>Tenure</th>\n",
       "      <th>Balance</th>\n",
       "      <th>NumOfProducts</th>\n",
       "      <th>HasCrCard</th>\n",
       "      <th>IsActiveMember</th>\n",
       "      <th>EstimatedSalary</th>\n",
       "      <th>Exited</th>\n",
       "    </tr>\n",
       "  </thead>\n",
       "  <tbody>\n",
       "    <tr>\n",
       "      <th>0</th>\n",
       "      <td>1</td>\n",
       "      <td>15634602</td>\n",
       "      <td>Hargrave</td>\n",
       "      <td>619</td>\n",
       "      <td>France</td>\n",
       "      <td>Female</td>\n",
       "      <td>42</td>\n",
       "      <td>2</td>\n",
       "      <td>0.00</td>\n",
       "      <td>1</td>\n",
       "      <td>1</td>\n",
       "      <td>1</td>\n",
       "      <td>101348.88</td>\n",
       "      <td>1</td>\n",
       "    </tr>\n",
       "    <tr>\n",
       "      <th>1</th>\n",
       "      <td>2</td>\n",
       "      <td>15647311</td>\n",
       "      <td>Hill</td>\n",
       "      <td>608</td>\n",
       "      <td>Spain</td>\n",
       "      <td>Female</td>\n",
       "      <td>41</td>\n",
       "      <td>1</td>\n",
       "      <td>83807.86</td>\n",
       "      <td>1</td>\n",
       "      <td>0</td>\n",
       "      <td>1</td>\n",
       "      <td>112542.58</td>\n",
       "      <td>0</td>\n",
       "    </tr>\n",
       "    <tr>\n",
       "      <th>2</th>\n",
       "      <td>3</td>\n",
       "      <td>15619304</td>\n",
       "      <td>Onio</td>\n",
       "      <td>502</td>\n",
       "      <td>France</td>\n",
       "      <td>Female</td>\n",
       "      <td>42</td>\n",
       "      <td>8</td>\n",
       "      <td>159660.80</td>\n",
       "      <td>3</td>\n",
       "      <td>1</td>\n",
       "      <td>0</td>\n",
       "      <td>113931.57</td>\n",
       "      <td>1</td>\n",
       "    </tr>\n",
       "    <tr>\n",
       "      <th>3</th>\n",
       "      <td>4</td>\n",
       "      <td>15701354</td>\n",
       "      <td>Boni</td>\n",
       "      <td>699</td>\n",
       "      <td>France</td>\n",
       "      <td>Female</td>\n",
       "      <td>39</td>\n",
       "      <td>1</td>\n",
       "      <td>0.00</td>\n",
       "      <td>2</td>\n",
       "      <td>0</td>\n",
       "      <td>0</td>\n",
       "      <td>93826.63</td>\n",
       "      <td>0</td>\n",
       "    </tr>\n",
       "    <tr>\n",
       "      <th>4</th>\n",
       "      <td>5</td>\n",
       "      <td>15737888</td>\n",
       "      <td>Mitchell</td>\n",
       "      <td>850</td>\n",
       "      <td>Spain</td>\n",
       "      <td>Female</td>\n",
       "      <td>43</td>\n",
       "      <td>2</td>\n",
       "      <td>125510.82</td>\n",
       "      <td>1</td>\n",
       "      <td>1</td>\n",
       "      <td>1</td>\n",
       "      <td>79084.10</td>\n",
       "      <td>0</td>\n",
       "    </tr>\n",
       "  </tbody>\n",
       "</table>\n",
       "</div>"
      ],
      "text/plain": [
       "   RowNumber  CustomerId   Surname  CreditScore Geography  Gender  Age  \\\n",
       "0          1    15634602  Hargrave          619    France  Female   42   \n",
       "1          2    15647311      Hill          608     Spain  Female   41   \n",
       "2          3    15619304      Onio          502    France  Female   42   \n",
       "3          4    15701354      Boni          699    France  Female   39   \n",
       "4          5    15737888  Mitchell          850     Spain  Female   43   \n",
       "\n",
       "   Tenure    Balance  NumOfProducts  HasCrCard  IsActiveMember  \\\n",
       "0       2       0.00              1          1               1   \n",
       "1       1   83807.86              1          0               1   \n",
       "2       8  159660.80              3          1               0   \n",
       "3       1       0.00              2          0               0   \n",
       "4       2  125510.82              1          1               1   \n",
       "\n",
       "   EstimatedSalary  Exited  \n",
       "0        101348.88       1  \n",
       "1        112542.58       0  \n",
       "2        113931.57       1  \n",
       "3         93826.63       0  \n",
       "4         79084.10       0  "
      ]
     },
     "metadata": {},
     "output_type": "display_data"
    }
   ],
   "source": [
    "df_info=pd.DataFrame(df.dtypes).T.rename(index={0:'column type'})\n",
    "df_info=df_info.append(pd.DataFrame(df.isnull().sum()).T.rename(index={0:'null values (nb)'}))\n",
    "df_info=df_info.append(pd.DataFrame(df.isnull().sum()/df.shape[0]*100).T.\n",
    "                             rename(index={0:'null values (%)'}))\n",
    "display(df_info)\n",
    "print('Размер df:', df.shape)\n",
    "display(df[:5])"
   ]
  },
  {
   "cell_type": "markdown",
   "metadata": {},
   "source": [
    "Датасет содержит следующие признаки:\n",
    "\n",
    "<br><b> Признаки </b>\n",
    "* RowNumber — индекс строки в данных\n",
    "* CustomerId — уникальный идентификатор клиента\n",
    "* Surname — фамилия\n",
    "* CreditScore — кредитный рейтинг\n",
    "* Geography — страна проживания\n",
    "* Gender — пол\n",
    "* Age — возраст\n",
    "* Tenure — количество недвижимости у клиента\n",
    "* Balance — баланс на счёте\n",
    "* NumOfProducts — количество продуктов банка, используемых клиентом\n",
    "* HasCrCard — наличие кредитной карты\n",
    "* IsActiveMember — активность клиента\n",
    "* EstimatedSalary — предполагаемая зарплата\n",
    "\n",
    "<br><b> Целевой признак </b>\n",
    "* Exited — факт ухода клиента"
   ]
  },
  {
   "cell_type": "markdown",
   "metadata": {},
   "source": [
    "В датасете 10000 строк и 14 признаков. Некоторые типы данных стоит изменить. Не все признаки будут полезны для построения модели. Например, RowNumber, CustomerId и Surname точно ничем не помогут, их лучше удалить."
   ]
  },
  {
   "cell_type": "code",
   "execution_count": 4,
   "metadata": {},
   "outputs": [],
   "source": [
    "df = df.drop(['RowNumber', 'Surname', 'CustomerId'], axis = 1)"
   ]
  },
  {
   "cell_type": "code",
   "execution_count": 5,
   "metadata": {},
   "outputs": [
    {
     "data": {
      "text/html": [
       "<div>\n",
       "<style scoped>\n",
       "    .dataframe tbody tr th:only-of-type {\n",
       "        vertical-align: middle;\n",
       "    }\n",
       "\n",
       "    .dataframe tbody tr th {\n",
       "        vertical-align: top;\n",
       "    }\n",
       "\n",
       "    .dataframe thead th {\n",
       "        text-align: right;\n",
       "    }\n",
       "</style>\n",
       "<table border=\"1\" class=\"dataframe\">\n",
       "  <thead>\n",
       "    <tr style=\"text-align: right;\">\n",
       "      <th></th>\n",
       "      <th>CreditScore</th>\n",
       "      <th>Age</th>\n",
       "      <th>Tenure</th>\n",
       "      <th>Balance</th>\n",
       "      <th>NumOfProducts</th>\n",
       "      <th>HasCrCard</th>\n",
       "      <th>IsActiveMember</th>\n",
       "      <th>EstimatedSalary</th>\n",
       "      <th>Exited</th>\n",
       "    </tr>\n",
       "  </thead>\n",
       "  <tbody>\n",
       "    <tr>\n",
       "      <th>count</th>\n",
       "      <td>10000.000000</td>\n",
       "      <td>10000.000000</td>\n",
       "      <td>10000.000000</td>\n",
       "      <td>10000.000000</td>\n",
       "      <td>10000.000000</td>\n",
       "      <td>10000.00000</td>\n",
       "      <td>10000.000000</td>\n",
       "      <td>10000.000000</td>\n",
       "      <td>10000.000000</td>\n",
       "    </tr>\n",
       "    <tr>\n",
       "      <th>mean</th>\n",
       "      <td>650.528800</td>\n",
       "      <td>38.921800</td>\n",
       "      <td>5.012800</td>\n",
       "      <td>76485.889288</td>\n",
       "      <td>1.530200</td>\n",
       "      <td>0.70550</td>\n",
       "      <td>0.515100</td>\n",
       "      <td>100090.239881</td>\n",
       "      <td>0.203700</td>\n",
       "    </tr>\n",
       "    <tr>\n",
       "      <th>std</th>\n",
       "      <td>96.653299</td>\n",
       "      <td>10.487806</td>\n",
       "      <td>2.892174</td>\n",
       "      <td>62397.405202</td>\n",
       "      <td>0.581654</td>\n",
       "      <td>0.45584</td>\n",
       "      <td>0.499797</td>\n",
       "      <td>57510.492818</td>\n",
       "      <td>0.402769</td>\n",
       "    </tr>\n",
       "    <tr>\n",
       "      <th>min</th>\n",
       "      <td>350.000000</td>\n",
       "      <td>18.000000</td>\n",
       "      <td>0.000000</td>\n",
       "      <td>0.000000</td>\n",
       "      <td>1.000000</td>\n",
       "      <td>0.00000</td>\n",
       "      <td>0.000000</td>\n",
       "      <td>11.580000</td>\n",
       "      <td>0.000000</td>\n",
       "    </tr>\n",
       "    <tr>\n",
       "      <th>25%</th>\n",
       "      <td>584.000000</td>\n",
       "      <td>32.000000</td>\n",
       "      <td>3.000000</td>\n",
       "      <td>0.000000</td>\n",
       "      <td>1.000000</td>\n",
       "      <td>0.00000</td>\n",
       "      <td>0.000000</td>\n",
       "      <td>51002.110000</td>\n",
       "      <td>0.000000</td>\n",
       "    </tr>\n",
       "    <tr>\n",
       "      <th>50%</th>\n",
       "      <td>652.000000</td>\n",
       "      <td>37.000000</td>\n",
       "      <td>5.000000</td>\n",
       "      <td>97198.540000</td>\n",
       "      <td>1.000000</td>\n",
       "      <td>1.00000</td>\n",
       "      <td>1.000000</td>\n",
       "      <td>100193.915000</td>\n",
       "      <td>0.000000</td>\n",
       "    </tr>\n",
       "    <tr>\n",
       "      <th>75%</th>\n",
       "      <td>718.000000</td>\n",
       "      <td>44.000000</td>\n",
       "      <td>7.000000</td>\n",
       "      <td>127644.240000</td>\n",
       "      <td>2.000000</td>\n",
       "      <td>1.00000</td>\n",
       "      <td>1.000000</td>\n",
       "      <td>149388.247500</td>\n",
       "      <td>0.000000</td>\n",
       "    </tr>\n",
       "    <tr>\n",
       "      <th>max</th>\n",
       "      <td>850.000000</td>\n",
       "      <td>92.000000</td>\n",
       "      <td>10.000000</td>\n",
       "      <td>250898.090000</td>\n",
       "      <td>4.000000</td>\n",
       "      <td>1.00000</td>\n",
       "      <td>1.000000</td>\n",
       "      <td>199992.480000</td>\n",
       "      <td>1.000000</td>\n",
       "    </tr>\n",
       "  </tbody>\n",
       "</table>\n",
       "</div>"
      ],
      "text/plain": [
       "        CreditScore           Age        Tenure        Balance  NumOfProducts  \\\n",
       "count  10000.000000  10000.000000  10000.000000   10000.000000   10000.000000   \n",
       "mean     650.528800     38.921800      5.012800   76485.889288       1.530200   \n",
       "std       96.653299     10.487806      2.892174   62397.405202       0.581654   \n",
       "min      350.000000     18.000000      0.000000       0.000000       1.000000   \n",
       "25%      584.000000     32.000000      3.000000       0.000000       1.000000   \n",
       "50%      652.000000     37.000000      5.000000   97198.540000       1.000000   \n",
       "75%      718.000000     44.000000      7.000000  127644.240000       2.000000   \n",
       "max      850.000000     92.000000     10.000000  250898.090000       4.000000   \n",
       "\n",
       "         HasCrCard  IsActiveMember  EstimatedSalary        Exited  \n",
       "count  10000.00000    10000.000000     10000.000000  10000.000000  \n",
       "mean       0.70550        0.515100    100090.239881      0.203700  \n",
       "std        0.45584        0.499797     57510.492818      0.402769  \n",
       "min        0.00000        0.000000        11.580000      0.000000  \n",
       "25%        0.00000        0.000000     51002.110000      0.000000  \n",
       "50%        1.00000        1.000000    100193.915000      0.000000  \n",
       "75%        1.00000        1.000000    149388.247500      0.000000  \n",
       "max        1.00000        1.000000    199992.480000      1.000000  "
      ]
     },
     "execution_count": 5,
     "metadata": {},
     "output_type": "execute_result"
    }
   ],
   "source": [
    "df.describe()"
   ]
  },
  {
   "cell_type": "markdown",
   "metadata": {},
   "source": [
    "При помощи метода describe получил больше информации о данных, здесь из необычного могу отметить высокий разброс значений в balance, при этом 25% квантиль = 0, т.е. очень много нулевых счетов, далее построю графики чтобы лучше увидеть распределение значений. В estimatedsalary среднее почти равно медиане, хотя в реальности в области зарплат среднее всегда заметно выше из-за особенности распределения этого показателя (распределение Пуассона), возможно датасет заранее обработан на выбросы. По среднему exited (целевой признак) видно, что отвалились 20% клиентов, соответственно дисбаланс классов 80/20. Также было бы интересно посмотреть на целевой признак у нулевых счетов:"
   ]
  },
  {
   "cell_type": "code",
   "execution_count": 6,
   "metadata": {},
   "outputs": [
    {
     "data": {
      "text/plain": [
       "0.13823610727121924"
      ]
     },
     "execution_count": 6,
     "metadata": {},
     "output_type": "execute_result"
    }
   ],
   "source": [
    "df.query('Balance == 0')['Exited'].mean()"
   ]
  },
  {
   "cell_type": "code",
   "execution_count": 7,
   "metadata": {},
   "outputs": [
    {
     "data": {
      "text/plain": [
       "0.2407958640137866"
      ]
     },
     "execution_count": 7,
     "metadata": {},
     "output_type": "execute_result"
    }
   ],
   "source": [
    "df.query('Balance > 0')['Exited'].mean()"
   ]
  },
  {
   "cell_type": "markdown",
   "metadata": {},
   "source": [
    "С нулевыми счетами отвалилось лишь 13.8% клиентов, при том что с ненулевыми - 24%. Скорее всего это можно объяснить тем, что клиенты с нулевыми считами менее активны в целом, т.е. им более безразлично являются они клиентами банка или нет. Влияние признака довольно большое в нуле, возможно стоит сделать дополнительный признак булева типа (нулевой/ненулевой счет), который может сработать на улучшение модели."
   ]
  },
  {
   "cell_type": "code",
   "execution_count": 8,
   "metadata": {},
   "outputs": [],
   "source": [
    "df['IsNotNullBalance'] = df['Balance'][df['Balance'] > 0]\n",
    "df['IsNotNullBalance'] = df['IsNotNullBalance'].fillna(0)\n",
    "df['IsNotNullBalance'][df['IsNotNullBalance'] > 0] = 1\n",
    "df['IsNotNullBalance'] = df['IsNotNullBalance'].astype('bool')"
   ]
  },
  {
   "cell_type": "code",
   "execution_count": 9,
   "metadata": {},
   "outputs": [
    {
     "data": {
      "text/html": [
       "<div>\n",
       "<style scoped>\n",
       "    .dataframe tbody tr th:only-of-type {\n",
       "        vertical-align: middle;\n",
       "    }\n",
       "\n",
       "    .dataframe tbody tr th {\n",
       "        vertical-align: top;\n",
       "    }\n",
       "\n",
       "    .dataframe thead th {\n",
       "        text-align: right;\n",
       "    }\n",
       "</style>\n",
       "<table border=\"1\" class=\"dataframe\">\n",
       "  <thead>\n",
       "    <tr style=\"text-align: right;\">\n",
       "      <th></th>\n",
       "      <th>CreditScore</th>\n",
       "      <th>Geography</th>\n",
       "      <th>Gender</th>\n",
       "      <th>Age</th>\n",
       "      <th>Tenure</th>\n",
       "      <th>Balance</th>\n",
       "      <th>NumOfProducts</th>\n",
       "      <th>HasCrCard</th>\n",
       "      <th>IsActiveMember</th>\n",
       "      <th>EstimatedSalary</th>\n",
       "      <th>Exited</th>\n",
       "      <th>IsNotNullBalance</th>\n",
       "    </tr>\n",
       "  </thead>\n",
       "  <tbody>\n",
       "    <tr>\n",
       "      <th>0</th>\n",
       "      <td>619</td>\n",
       "      <td>France</td>\n",
       "      <td>Female</td>\n",
       "      <td>42</td>\n",
       "      <td>2</td>\n",
       "      <td>0.00</td>\n",
       "      <td>1</td>\n",
       "      <td>1</td>\n",
       "      <td>1</td>\n",
       "      <td>101348.88</td>\n",
       "      <td>1</td>\n",
       "      <td>False</td>\n",
       "    </tr>\n",
       "    <tr>\n",
       "      <th>1</th>\n",
       "      <td>608</td>\n",
       "      <td>Spain</td>\n",
       "      <td>Female</td>\n",
       "      <td>41</td>\n",
       "      <td>1</td>\n",
       "      <td>83807.86</td>\n",
       "      <td>1</td>\n",
       "      <td>0</td>\n",
       "      <td>1</td>\n",
       "      <td>112542.58</td>\n",
       "      <td>0</td>\n",
       "      <td>True</td>\n",
       "    </tr>\n",
       "    <tr>\n",
       "      <th>2</th>\n",
       "      <td>502</td>\n",
       "      <td>France</td>\n",
       "      <td>Female</td>\n",
       "      <td>42</td>\n",
       "      <td>8</td>\n",
       "      <td>159660.80</td>\n",
       "      <td>3</td>\n",
       "      <td>1</td>\n",
       "      <td>0</td>\n",
       "      <td>113931.57</td>\n",
       "      <td>1</td>\n",
       "      <td>True</td>\n",
       "    </tr>\n",
       "    <tr>\n",
       "      <th>3</th>\n",
       "      <td>699</td>\n",
       "      <td>France</td>\n",
       "      <td>Female</td>\n",
       "      <td>39</td>\n",
       "      <td>1</td>\n",
       "      <td>0.00</td>\n",
       "      <td>2</td>\n",
       "      <td>0</td>\n",
       "      <td>0</td>\n",
       "      <td>93826.63</td>\n",
       "      <td>0</td>\n",
       "      <td>False</td>\n",
       "    </tr>\n",
       "    <tr>\n",
       "      <th>4</th>\n",
       "      <td>850</td>\n",
       "      <td>Spain</td>\n",
       "      <td>Female</td>\n",
       "      <td>43</td>\n",
       "      <td>2</td>\n",
       "      <td>125510.82</td>\n",
       "      <td>1</td>\n",
       "      <td>1</td>\n",
       "      <td>1</td>\n",
       "      <td>79084.10</td>\n",
       "      <td>0</td>\n",
       "      <td>True</td>\n",
       "    </tr>\n",
       "  </tbody>\n",
       "</table>\n",
       "</div>"
      ],
      "text/plain": [
       "   CreditScore Geography  Gender  Age  Tenure    Balance  NumOfProducts  \\\n",
       "0          619    France  Female   42       2       0.00              1   \n",
       "1          608     Spain  Female   41       1   83807.86              1   \n",
       "2          502    France  Female   42       8  159660.80              3   \n",
       "3          699    France  Female   39       1       0.00              2   \n",
       "4          850     Spain  Female   43       2  125510.82              1   \n",
       "\n",
       "   HasCrCard  IsActiveMember  EstimatedSalary  Exited  IsNotNullBalance  \n",
       "0          1               1        101348.88       1             False  \n",
       "1          0               1        112542.58       0              True  \n",
       "2          1               0        113931.57       1              True  \n",
       "3          0               0         93826.63       0             False  \n",
       "4          1               1         79084.10       0              True  "
      ]
     },
     "execution_count": 9,
     "metadata": {},
     "output_type": "execute_result"
    }
   ],
   "source": [
    "df.head()"
   ]
  },
  {
   "cell_type": "markdown",
   "metadata": {},
   "source": [
    "Изменим типы данных на более оптимальные/подходящие с точки зрения требования к памяти и смысла:"
   ]
  },
  {
   "cell_type": "code",
   "execution_count": 10,
   "metadata": {},
   "outputs": [],
   "source": [
    "df['CreditScore'] = df['CreditScore'].astype('int32')\n",
    "df['Age'] = df['Age'].astype('int32')\n",
    "df['NumOfProducts'] = df['NumOfProducts'].astype('int32')\n",
    "df['HasCrCard'] = df['HasCrCard'].astype('int8')\n",
    "df['IsActiveMember'] = df['IsActiveMember'].astype('bool')\n",
    "df['Exited'] = df['Exited'].astype('int8')\n",
    "df['Tenure'] = df['Tenure'].astype('int32')"
   ]
  },
  {
   "cell_type": "markdown",
   "metadata": {},
   "source": [
    "Также, имеет смысл заменить значения строкового поля gender на булево. Пусть male = 1, female = 0."
   ]
  },
  {
   "cell_type": "code",
   "execution_count": 11,
   "metadata": {},
   "outputs": [],
   "source": [
    "df['Gender'] = df['Gender'].replace('Male', 1)\n",
    "df['Gender'] = df['Gender'].replace('Female', 0)\n",
    "df['Gender'] = df['Gender'].astype('int8')"
   ]
  },
  {
   "cell_type": "code",
   "execution_count": 12,
   "metadata": {},
   "outputs": [
    {
     "name": "stdout",
     "output_type": "stream",
     "text": [
      "<class 'pandas.core.frame.DataFrame'>\n",
      "RangeIndex: 10000 entries, 0 to 9999\n",
      "Data columns (total 12 columns):\n",
      " #   Column            Non-Null Count  Dtype  \n",
      "---  ------            --------------  -----  \n",
      " 0   CreditScore       10000 non-null  int32  \n",
      " 1   Geography         10000 non-null  object \n",
      " 2   Gender            10000 non-null  int8   \n",
      " 3   Age               10000 non-null  int32  \n",
      " 4   Tenure            10000 non-null  int32  \n",
      " 5   Balance           10000 non-null  float64\n",
      " 6   NumOfProducts     10000 non-null  int32  \n",
      " 7   HasCrCard         10000 non-null  int8   \n",
      " 8   IsActiveMember    10000 non-null  bool   \n",
      " 9   EstimatedSalary   10000 non-null  float64\n",
      " 10  Exited            10000 non-null  int8   \n",
      " 11  IsNotNullBalance  10000 non-null  bool   \n",
      "dtypes: bool(2), float64(2), int32(4), int8(3), object(1)\n",
      "memory usage: 439.6+ KB\n"
     ]
    }
   ],
   "source": [
    "df.info()"
   ]
  },
  {
   "cell_type": "markdown",
   "metadata": {},
   "source": [
    "## EDA"
   ]
  },
  {
   "cell_type": "markdown",
   "metadata": {},
   "source": [
    "Сначала разделим датасет на выборки, потом затем приступим к EDA и обучению моделей:"
   ]
  },
  {
   "cell_type": "code",
   "execution_count": 13,
   "metadata": {},
   "outputs": [],
   "source": [
    "random_state = 42 # глобальный параметр псевдослучайности"
   ]
  },
  {
   "cell_type": "code",
   "execution_count": 14,
   "metadata": {},
   "outputs": [],
   "source": [
    "train, test = train_test_split(df, test_size=0.25, random_state=random_state, stratify = df['Exited'])"
   ]
  },
  {
   "cell_type": "code",
   "execution_count": 15,
   "metadata": {},
   "outputs": [
    {
     "data": {
      "text/plain": [
       "0.75"
      ]
     },
     "metadata": {},
     "output_type": "display_data"
    },
    {
     "data": {
      "text/plain": [
       "0.25"
      ]
     },
     "metadata": {},
     "output_type": "display_data"
    }
   ],
   "source": [
    "display(len(train)/len(df))\n",
    "display(len(test)/len(df))"
   ]
  },
  {
   "cell_type": "markdown",
   "metadata": {},
   "source": [
    "25% выборки отделены в качестве тестовой со стратификацией по целевому признаку."
   ]
  },
  {
   "cell_type": "code",
   "execution_count": 16,
   "metadata": {},
   "outputs": [
    {
     "data": {
      "text/html": [
       "<div>\n",
       "<style scoped>\n",
       "    .dataframe tbody tr th:only-of-type {\n",
       "        vertical-align: middle;\n",
       "    }\n",
       "\n",
       "    .dataframe tbody tr th {\n",
       "        vertical-align: top;\n",
       "    }\n",
       "\n",
       "    .dataframe thead th {\n",
       "        text-align: right;\n",
       "    }\n",
       "</style>\n",
       "<table border=\"1\" class=\"dataframe\">\n",
       "  <thead>\n",
       "    <tr style=\"text-align: right;\">\n",
       "      <th></th>\n",
       "      <th>CreditScore</th>\n",
       "      <th>Gender</th>\n",
       "      <th>Age</th>\n",
       "      <th>Tenure</th>\n",
       "      <th>Balance</th>\n",
       "      <th>NumOfProducts</th>\n",
       "      <th>HasCrCard</th>\n",
       "      <th>EstimatedSalary</th>\n",
       "      <th>Exited</th>\n",
       "    </tr>\n",
       "  </thead>\n",
       "  <tbody>\n",
       "    <tr>\n",
       "      <th>count</th>\n",
       "      <td>7500.000000</td>\n",
       "      <td>7500.000000</td>\n",
       "      <td>7500.00000</td>\n",
       "      <td>7500.000000</td>\n",
       "      <td>7500.000000</td>\n",
       "      <td>7500.000000</td>\n",
       "      <td>7500.000000</td>\n",
       "      <td>7500.000000</td>\n",
       "      <td>7500.000000</td>\n",
       "    </tr>\n",
       "    <tr>\n",
       "      <th>mean</th>\n",
       "      <td>650.507733</td>\n",
       "      <td>0.550667</td>\n",
       "      <td>38.98000</td>\n",
       "      <td>5.022800</td>\n",
       "      <td>76328.197195</td>\n",
       "      <td>1.532267</td>\n",
       "      <td>0.707200</td>\n",
       "      <td>99540.472065</td>\n",
       "      <td>0.203733</td>\n",
       "    </tr>\n",
       "    <tr>\n",
       "      <th>std</th>\n",
       "      <td>96.637724</td>\n",
       "      <td>0.497459</td>\n",
       "      <td>10.55188</td>\n",
       "      <td>2.893613</td>\n",
       "      <td>62385.961630</td>\n",
       "      <td>0.581897</td>\n",
       "      <td>0.455078</td>\n",
       "      <td>57295.127395</td>\n",
       "      <td>0.402800</td>\n",
       "    </tr>\n",
       "    <tr>\n",
       "      <th>min</th>\n",
       "      <td>350.000000</td>\n",
       "      <td>0.000000</td>\n",
       "      <td>18.00000</td>\n",
       "      <td>0.000000</td>\n",
       "      <td>0.000000</td>\n",
       "      <td>1.000000</td>\n",
       "      <td>0.000000</td>\n",
       "      <td>11.580000</td>\n",
       "      <td>0.000000</td>\n",
       "    </tr>\n",
       "    <tr>\n",
       "      <th>25%</th>\n",
       "      <td>584.000000</td>\n",
       "      <td>0.000000</td>\n",
       "      <td>32.00000</td>\n",
       "      <td>3.000000</td>\n",
       "      <td>0.000000</td>\n",
       "      <td>1.000000</td>\n",
       "      <td>0.000000</td>\n",
       "      <td>50417.950000</td>\n",
       "      <td>0.000000</td>\n",
       "    </tr>\n",
       "    <tr>\n",
       "      <th>50%</th>\n",
       "      <td>652.000000</td>\n",
       "      <td>1.000000</td>\n",
       "      <td>37.00000</td>\n",
       "      <td>5.000000</td>\n",
       "      <td>96943.320000</td>\n",
       "      <td>1.000000</td>\n",
       "      <td>1.000000</td>\n",
       "      <td>98940.675000</td>\n",
       "      <td>0.000000</td>\n",
       "    </tr>\n",
       "    <tr>\n",
       "      <th>75%</th>\n",
       "      <td>717.000000</td>\n",
       "      <td>1.000000</td>\n",
       "      <td>44.00000</td>\n",
       "      <td>8.000000</td>\n",
       "      <td>127785.447500</td>\n",
       "      <td>2.000000</td>\n",
       "      <td>1.000000</td>\n",
       "      <td>148428.572500</td>\n",
       "      <td>0.000000</td>\n",
       "    </tr>\n",
       "    <tr>\n",
       "      <th>max</th>\n",
       "      <td>850.000000</td>\n",
       "      <td>1.000000</td>\n",
       "      <td>92.00000</td>\n",
       "      <td>10.000000</td>\n",
       "      <td>222267.630000</td>\n",
       "      <td>4.000000</td>\n",
       "      <td>1.000000</td>\n",
       "      <td>199992.480000</td>\n",
       "      <td>1.000000</td>\n",
       "    </tr>\n",
       "  </tbody>\n",
       "</table>\n",
       "</div>"
      ],
      "text/plain": [
       "       CreditScore       Gender         Age       Tenure        Balance  \\\n",
       "count  7500.000000  7500.000000  7500.00000  7500.000000    7500.000000   \n",
       "mean    650.507733     0.550667    38.98000     5.022800   76328.197195   \n",
       "std      96.637724     0.497459    10.55188     2.893613   62385.961630   \n",
       "min     350.000000     0.000000    18.00000     0.000000       0.000000   \n",
       "25%     584.000000     0.000000    32.00000     3.000000       0.000000   \n",
       "50%     652.000000     1.000000    37.00000     5.000000   96943.320000   \n",
       "75%     717.000000     1.000000    44.00000     8.000000  127785.447500   \n",
       "max     850.000000     1.000000    92.00000    10.000000  222267.630000   \n",
       "\n",
       "       NumOfProducts    HasCrCard  EstimatedSalary       Exited  \n",
       "count    7500.000000  7500.000000      7500.000000  7500.000000  \n",
       "mean        1.532267     0.707200     99540.472065     0.203733  \n",
       "std         0.581897     0.455078     57295.127395     0.402800  \n",
       "min         1.000000     0.000000        11.580000     0.000000  \n",
       "25%         1.000000     0.000000     50417.950000     0.000000  \n",
       "50%         1.000000     1.000000     98940.675000     0.000000  \n",
       "75%         2.000000     1.000000    148428.572500     0.000000  \n",
       "max         4.000000     1.000000    199992.480000     1.000000  "
      ]
     },
     "execution_count": 16,
     "metadata": {},
     "output_type": "execute_result"
    }
   ],
   "source": [
    "train.describe()"
   ]
  },
  {
   "cell_type": "markdown",
   "metadata": {},
   "source": [
    "Данные разделены корректно, ключевые показатели практически не изменились."
   ]
  },
  {
   "cell_type": "markdown",
   "metadata": {},
   "source": [
    "Посмотрим на распределения количественных признаков:"
   ]
  },
  {
   "cell_type": "code",
   "execution_count": 17,
   "metadata": {},
   "outputs": [
    {
     "data": {
      "image/png": "[encoded data removed]",
      "text/plain": [
       "<Figure size 1152x864 with 9 Axes>"
      ]
     },
     "metadata": {},
     "output_type": "display_data"
    }
   ],
   "source": [
    "sns.set(style=\"whitegrid\", font_scale=1.2)\n",
    "train[train.describe().columns.to_list()].hist(figsize=(16, 12), bins=25);"
   ]
  },
  {
   "cell_type": "markdown",
   "metadata": {},
   "source": [
    "* Возраст клиентов банка распределен близко к нормальному, с небольшим хвостом. Варьируется от 18 до 92 лет.\n",
    "* В балансе есть выброс в нуле, который уже был отмечен. За исключением нуля признак распределен нормально. \n",
    "* Также был создан дополнительный признак для нулевых счетов. \n",
    "* Кредитный рейтинг немного скошен вправо. Количество клиентов возрастает до уровня ~640, затем начинает убывать вплоть до последнего бара,где наблюдается небольшой всплеск числа клиентов с максимальным рейтингом.\n",
    "* По оцениваемой зарплате мы имеем примерно одинаковое количество клиентов в каждом баре, отсюда равенство среднего и медианы, это нетипично для такого показателя.\n",
    "* Обычно клиенты пользуются 1 или 2 продуктами банка, намного реже используют 3 или 4.\n",
    "* Количество недвижимости у клиентов банка варьируется от 0 до 10, при этом показатели 0 и 10 встречаются заметно реже, чем остальные, которые встречаются примерно одинаково часто."
   ]
  },
  {
   "cell_type": "markdown",
   "metadata": {},
   "source": [
    "Для того чтобы понять как количественные признаки влияют на уход клиента построим таблицу, в которой будут представлены средние значения признаков в двух группах - тех, кто ушел (Exited=1) и тех, кто остался (Exited=0)."
   ]
  },
  {
   "cell_type": "code",
   "execution_count": 18,
   "metadata": {},
   "outputs": [],
   "source": [
    "def compare_features (features, target_name):\n",
    "    remaining = features[features[target_name] == 0].mean().to_frame().rename(columns={0:'not exited'})\n",
    "    departed = features[features[target_name] == 1].mean().to_frame().rename(columns={0:'exited'})\n",
    "    compare = remaining.join(departed, how = 'outer')\n",
    "    compare['diff_pct'] = ((compare['exited'] - compare['not exited']) / compare['exited']* 100).round(2)\n",
    "    return compare"
   ]
  },
  {
   "cell_type": "code",
   "execution_count": 19,
   "metadata": {},
   "outputs": [],
   "source": [
    "numeric_features = ['CreditScore', 'Age', 'Tenure', 'Balance', 'NumOfProducts', 'EstimatedSalary', 'Exited']"
   ]
  },
  {
   "cell_type": "code",
   "execution_count": 20,
   "metadata": {},
   "outputs": [
    {
     "data": {
      "text/html": [
       "<div>\n",
       "<style scoped>\n",
       "    .dataframe tbody tr th:only-of-type {\n",
       "        vertical-align: middle;\n",
       "    }\n",
       "\n",
       "    .dataframe tbody tr th {\n",
       "        vertical-align: top;\n",
       "    }\n",
       "\n",
       "    .dataframe thead th {\n",
       "        text-align: right;\n",
       "    }\n",
       "</style>\n",
       "<table border=\"1\" class=\"dataframe\">\n",
       "  <thead>\n",
       "    <tr style=\"text-align: right;\">\n",
       "      <th></th>\n",
       "      <th>not exited</th>\n",
       "      <th>exited</th>\n",
       "      <th>diff_pct</th>\n",
       "    </tr>\n",
       "  </thead>\n",
       "  <tbody>\n",
       "    <tr>\n",
       "      <th>CreditScore</th>\n",
       "      <td>652.159578</td>\n",
       "      <td>644.051702</td>\n",
       "      <td>-1.26</td>\n",
       "    </tr>\n",
       "    <tr>\n",
       "      <th>Age</th>\n",
       "      <td>37.523778</td>\n",
       "      <td>44.671466</td>\n",
       "      <td>16.00</td>\n",
       "    </tr>\n",
       "    <tr>\n",
       "      <th>Tenure</th>\n",
       "      <td>5.016075</td>\n",
       "      <td>5.049084</td>\n",
       "      <td>0.65</td>\n",
       "    </tr>\n",
       "    <tr>\n",
       "      <th>Balance</th>\n",
       "      <td>72586.958505</td>\n",
       "      <td>90950.368305</td>\n",
       "      <td>20.19</td>\n",
       "    </tr>\n",
       "    <tr>\n",
       "      <th>NumOfProducts</th>\n",
       "      <td>1.546383</td>\n",
       "      <td>1.477094</td>\n",
       "      <td>-4.69</td>\n",
       "    </tr>\n",
       "    <tr>\n",
       "      <th>EstimatedSalary</th>\n",
       "      <td>98868.429612</td>\n",
       "      <td>102167.067310</td>\n",
       "      <td>3.23</td>\n",
       "    </tr>\n",
       "    <tr>\n",
       "      <th>Exited</th>\n",
       "      <td>0.000000</td>\n",
       "      <td>1.000000</td>\n",
       "      <td>100.00</td>\n",
       "    </tr>\n",
       "  </tbody>\n",
       "</table>\n",
       "</div>"
      ],
      "text/plain": [
       "                   not exited         exited  diff_pct\n",
       "CreditScore        652.159578     644.051702     -1.26\n",
       "Age                 37.523778      44.671466     16.00\n",
       "Tenure               5.016075       5.049084      0.65\n",
       "Balance          72586.958505   90950.368305     20.19\n",
       "NumOfProducts        1.546383       1.477094     -4.69\n",
       "EstimatedSalary  98868.429612  102167.067310      3.23\n",
       "Exited               0.000000       1.000000    100.00"
      ]
     },
     "execution_count": 20,
     "metadata": {},
     "output_type": "execute_result"
    }
   ],
   "source": [
    "diff_table = compare_features(train[numeric_features], 'Exited')\n",
    "diff_table"
   ]
  },
  {
   "cell_type": "markdown",
   "metadata": {},
   "source": [
    "В таблице представлены средние показатели по оставшимся клиентам (not exited) и ушедшим (exited). В столбце diff_pct <b> отражена процентная разница: на сколько меньше среднее значение показателя среди ушедших клиентов чем у оставшихся."
   ]
  },
  {
   "cell_type": "markdown",
   "metadata": {},
   "source": [
    "Добавим визуализацию и сделаем выводы:"
   ]
  },
  {
   "cell_type": "code",
   "execution_count": 21,
   "metadata": {},
   "outputs": [
    {
     "data": {
      "image/png": "[encoded data removed]",
      "text/plain": [
       "<Figure size 720x288 with 1 Axes>"
      ]
     },
     "metadata": {},
     "output_type": "display_data"
    }
   ],
   "source": [
    "diff_table[['diff_pct']].drop(['Exited']).sort_values(by = 'diff_pct').plot(kind = 'barh', figsize = (10, 4), grid = True)\n",
    "plt.xlabel('Разница в % насколько больше показатель в группе оставшихся')\n",
    "plt.ylabel('Показатель')\n",
    "plt.title('Процентная разница');"
   ]
  },
  {
   "cell_type": "markdown",
   "metadata": {},
   "source": [
    "* Самая большая разница в пользу ушедших клиентов в признаке Balance: средний баланс на счёте у ушедшего клиента превышает на 19.5% баланс на счёте клиента, который остался. Но тут нужно помнить, что среди оставшихся клиентов больше количество неактивных, с нулевыми счетами. Ниже посчитаем разницу между средними с устранением нулевых счетов.\n",
    "* Средний возраст ушедшего клиента почти 45 лет, в то время как оставшегося - 37 лет.\n",
    "* Остальные признаки находятся примерно на одном уровне, не факт, что между ними есть статистически значимая разница."
   ]
  },
  {
   "cell_type": "code",
   "execution_count": 22,
   "metadata": {},
   "outputs": [
    {
     "data": {
      "text/plain": [
       "mean     120740.367307\n",
       "count      1151.000000\n",
       "Name: Balance, dtype: float64"
      ]
     },
     "execution_count": 22,
     "metadata": {},
     "output_type": "execute_result"
    }
   ],
   "source": [
    "train.query('Exited == 1 and Balance > 0')['Balance'].agg(['mean', 'count'])"
   ]
  },
  {
   "cell_type": "code",
   "execution_count": 23,
   "metadata": {},
   "outputs": [
    {
     "data": {
      "text/plain": [
       "mean     119418.544405\n",
       "count      3630.000000\n",
       "Name: Balance, dtype: float64"
      ]
     },
     "execution_count": 23,
     "metadata": {},
     "output_type": "execute_result"
    }
   ],
   "source": [
    "train.query('Exited == 0 and Balance > 0')['Balance'].agg(['mean', 'count'])"
   ]
  },
  {
   "cell_type": "markdown",
   "metadata": {},
   "source": [
    "* Если убрать нулевые счета, то средние балансы в двух группах окажутся на одном уровне."
   ]
  },
  {
   "cell_type": "markdown",
   "metadata": {},
   "source": [
    "Подготовим данные для визуализации <b>категориальных признаков:"
   ]
  },
  {
   "cell_type": "code",
   "execution_count": 24,
   "metadata": {},
   "outputs": [],
   "source": [
    "gender_share = {\n",
    "    'Факт ухода' : ['Ушел в отток', 'Остался'],\n",
    "    \n",
    "    'Доля мужчин' : [train[train['Exited'] == 1]['Gender'].mean(),\n",
    "                      train[train['Exited'] == 0]['Gender'].mean()],\n",
    "    \n",
    "    'Доля женщин' : [1 - train[train['Exited'] == 1]['Gender'].mean(),\n",
    "                      1 - train[train['Exited'] == 0]['Gender'].mean()]\n",
    "                           }\n",
    "gender_share = pd.DataFrame(data=gender_share)\n",
    "\n",
    "hascrcard_share = {\n",
    "    'Факт ухода' : ['Ушел в отток', 'Остался'],\n",
    "    \n",
    "    'Есть кредитная карта' : [train[train['Exited'] == 1]['HasCrCard'].mean(),\n",
    "                      train[train['Exited'] == 0]['HasCrCard'].mean()],\n",
    "    \n",
    "    'Нет кредитной карты' : [1 - train[train['Exited'] == 1]['HasCrCard'].mean(),\n",
    "                      1 - train[train['Exited'] == 0]['HasCrCard'].mean()]\n",
    "                           }\n",
    "hascrcard_share = pd.DataFrame(data=hascrcard_share)\n",
    "\n",
    "isactivemember_share = {\n",
    "    'Факт ухода' : ['Ушел в отток', 'Остался'],\n",
    "    \n",
    "    'Является активным клиентом' : [train[train['Exited'] == 1]['IsActiveMember'].mean(),\n",
    "                      train[train['Exited'] == 0]['IsActiveMember'].mean()],\n",
    "    \n",
    "    'Не является активным клиентом' : [1 - train[train['Exited'] == 1]['IsActiveMember'].mean(),\n",
    "                      1 - train[train['Exited'] == 0]['IsActiveMember'].mean()]\n",
    "                           }\n",
    "isactivemember_share = pd.DataFrame(data=isactivemember_share)"
   ]
  },
  {
   "cell_type": "markdown",
   "metadata": {},
   "source": [
    "Выведем таблицы с рассчитанными данными и визуализируем их:"
   ]
  },
  {
   "cell_type": "code",
   "execution_count": 25,
   "metadata": {},
   "outputs": [
    {
     "data": {
      "text/html": [
       "<div>\n",
       "<style scoped>\n",
       "    .dataframe tbody tr th:only-of-type {\n",
       "        vertical-align: middle;\n",
       "    }\n",
       "\n",
       "    .dataframe tbody tr th {\n",
       "        vertical-align: top;\n",
       "    }\n",
       "\n",
       "    .dataframe thead th {\n",
       "        text-align: right;\n",
       "    }\n",
       "</style>\n",
       "<table border=\"1\" class=\"dataframe\">\n",
       "  <thead>\n",
       "    <tr style=\"text-align: right;\">\n",
       "      <th></th>\n",
       "      <th>Факт ухода</th>\n",
       "      <th>Доля мужчин</th>\n",
       "      <th>Доля женщин</th>\n",
       "    </tr>\n",
       "  </thead>\n",
       "  <tbody>\n",
       "    <tr>\n",
       "      <th>0</th>\n",
       "      <td>Ушел в отток</td>\n",
       "      <td>0.445026</td>\n",
       "      <td>0.554974</td>\n",
       "    </tr>\n",
       "    <tr>\n",
       "      <th>1</th>\n",
       "      <td>Остался</td>\n",
       "      <td>0.577696</td>\n",
       "      <td>0.422304</td>\n",
       "    </tr>\n",
       "  </tbody>\n",
       "</table>\n",
       "</div>"
      ],
      "text/plain": [
       "     Факт ухода  Доля мужчин  Доля женщин\n",
       "0  Ушел в отток     0.445026     0.554974\n",
       "1       Остался     0.577696     0.422304"
      ]
     },
     "execution_count": 25,
     "metadata": {},
     "output_type": "execute_result"
    }
   ],
   "source": [
    "gender_share"
   ]
  },
  {
   "cell_type": "code",
   "execution_count": 26,
   "metadata": {},
   "outputs": [
    {
     "data": {
      "image/png": "[encoded data removed]",
      "text/plain": [
       "<Figure size 1008x288 with 1 Axes>"
      ]
     },
     "metadata": {},
     "output_type": "display_data"
    }
   ],
   "source": [
    "gender_share.plot(x = 'Факт ухода', kind = 'barh', figsize = (14, 4), grid = True, stacked = True, legend = True)\n",
    "plt.title('Уход в отток в зависимости от пола')\n",
    "plt.xlabel('Доля мужчин/женщин')\n",
    "plt.xticks(np.arange(0, 1.1, 0.1));"
   ]
  },
  {
   "cell_type": "markdown",
   "metadata": {},
   "source": [
    "* Женщины чаще уходили в отток, среди оставшихся доля женщин 42.9%, в то время как среди ушедших заметно больше - 55.6%"
   ]
  },
  {
   "cell_type": "code",
   "execution_count": 27,
   "metadata": {},
   "outputs": [
    {
     "data": {
      "text/html": [
       "<div>\n",
       "<style scoped>\n",
       "    .dataframe tbody tr th:only-of-type {\n",
       "        vertical-align: middle;\n",
       "    }\n",
       "\n",
       "    .dataframe tbody tr th {\n",
       "        vertical-align: top;\n",
       "    }\n",
       "\n",
       "    .dataframe thead th {\n",
       "        text-align: right;\n",
       "    }\n",
       "</style>\n",
       "<table border=\"1\" class=\"dataframe\">\n",
       "  <thead>\n",
       "    <tr style=\"text-align: right;\">\n",
       "      <th></th>\n",
       "      <th>Факт ухода</th>\n",
       "      <th>Есть кредитная карта</th>\n",
       "      <th>Нет кредитной карты</th>\n",
       "    </tr>\n",
       "  </thead>\n",
       "  <tbody>\n",
       "    <tr>\n",
       "      <th>0</th>\n",
       "      <td>Ушел в отток</td>\n",
       "      <td>0.695681</td>\n",
       "      <td>0.304319</td>\n",
       "    </tr>\n",
       "    <tr>\n",
       "      <th>1</th>\n",
       "      <td>Остался</td>\n",
       "      <td>0.710147</td>\n",
       "      <td>0.289853</td>\n",
       "    </tr>\n",
       "  </tbody>\n",
       "</table>\n",
       "</div>"
      ],
      "text/plain": [
       "     Факт ухода  Есть кредитная карта  Нет кредитной карты\n",
       "0  Ушел в отток              0.695681             0.304319\n",
       "1       Остался              0.710147             0.289853"
      ]
     },
     "execution_count": 27,
     "metadata": {},
     "output_type": "execute_result"
    }
   ],
   "source": [
    "hascrcard_share"
   ]
  },
  {
   "cell_type": "code",
   "execution_count": 28,
   "metadata": {},
   "outputs": [
    {
     "data": {
      "image/png": "[encoded data removed]",
      "text/plain": [
       "<Figure size 1008x288 with 1 Axes>"
      ]
     },
     "metadata": {},
     "output_type": "display_data"
    }
   ],
   "source": [
    "hascrcard_share.plot(x = 'Факт ухода', kind = 'barh', figsize = (14, 4), grid = True, stacked = True, legend = True)\n",
    "plt.title('Уход в отток в зависимости наличия кредитной карты')\n",
    "plt.xlabel('Доля имеющих/не имеющих кредитную карту')\n",
    "plt.xticks(np.arange(0, 1.1, 0.1));"
   ]
  },
  {
   "cell_type": "markdown",
   "metadata": {},
   "source": [
    "* Наличие кредитной карты практически не влияет на факт ухода клиентов банка"
   ]
  },
  {
   "cell_type": "code",
   "execution_count": 29,
   "metadata": {},
   "outputs": [
    {
     "data": {
      "text/html": [
       "<div>\n",
       "<style scoped>\n",
       "    .dataframe tbody tr th:only-of-type {\n",
       "        vertical-align: middle;\n",
       "    }\n",
       "\n",
       "    .dataframe tbody tr th {\n",
       "        vertical-align: top;\n",
       "    }\n",
       "\n",
       "    .dataframe thead th {\n",
       "        text-align: right;\n",
       "    }\n",
       "</style>\n",
       "<table border=\"1\" class=\"dataframe\">\n",
       "  <thead>\n",
       "    <tr style=\"text-align: right;\">\n",
       "      <th></th>\n",
       "      <th>Факт ухода</th>\n",
       "      <th>Является активным клиентом</th>\n",
       "      <th>Не является активным клиентом</th>\n",
       "    </tr>\n",
       "  </thead>\n",
       "  <tbody>\n",
       "    <tr>\n",
       "      <th>0</th>\n",
       "      <td>Ушел в отток</td>\n",
       "      <td>0.366492</td>\n",
       "      <td>0.633508</td>\n",
       "    </tr>\n",
       "    <tr>\n",
       "      <th>1</th>\n",
       "      <td>Остался</td>\n",
       "      <td>0.555090</td>\n",
       "      <td>0.444910</td>\n",
       "    </tr>\n",
       "  </tbody>\n",
       "</table>\n",
       "</div>"
      ],
      "text/plain": [
       "     Факт ухода  Является активным клиентом  Не является активным клиентом\n",
       "0  Ушел в отток                    0.366492                       0.633508\n",
       "1       Остался                    0.555090                       0.444910"
      ]
     },
     "execution_count": 29,
     "metadata": {},
     "output_type": "execute_result"
    }
   ],
   "source": [
    "isactivemember_share"
   ]
  },
  {
   "cell_type": "code",
   "execution_count": 30,
   "metadata": {},
   "outputs": [
    {
     "data": {
      "image/png": "[encoded data removed]",
      "text/plain": [
       "<Figure size 1008x288 with 1 Axes>"
      ]
     },
     "metadata": {},
     "output_type": "display_data"
    }
   ],
   "source": [
    "isactivemember_share.plot(x = 'Факт ухода', kind = 'barh', figsize = (14, 4), grid = True, stacked = True, legend = True)\n",
    "plt.title('Уход в отток в зависимости от активности клиента')\n",
    "plt.xlabel('Доля активных и неактивных клиентов')\n",
    "plt.xticks(np.arange(0, 1.1, 0.1));"
   ]
  },
  {
   "cell_type": "markdown",
   "metadata": {},
   "source": [
    "* В отток чаще выходят клиенты, не являющиеся активными. К сожалению, отсутствует пояснение по какому принципу банк относит клиента к активному"
   ]
  },
  {
   "cell_type": "markdown",
   "metadata": {},
   "source": [
    "Посмотрим в каких странах (признак Geography) клиенты склонны к оттоку."
   ]
  },
  {
   "cell_type": "code",
   "execution_count": 31,
   "metadata": {},
   "outputs": [],
   "source": [
    "geography_exited = train[train['Exited'] == 1]['Geography'].value_counts().to_frame().reset_index()\\\n",
    ".rename(columns={'Geography':'count', 'index' : 'geo'})\n",
    "geography_exited['share_exited'] = geography_exited['count'] / geography_exited['count'].sum()\n",
    "geography_exited = geography_exited.drop('count', axis=1)\n",
    "\n",
    "geography_not_exited = train[train['Exited'] == 0]['Geography'].value_counts().to_frame().reset_index()\\\n",
    ".rename(columns={'Geography':'count', 'index' : 'geo'})\n",
    "geography_not_exited['share_not_exited'] = geography_not_exited['count'] / geography_not_exited['count'].sum()\n",
    "geography_not_exited = geography_not_exited.drop('count', axis=1)"
   ]
  },
  {
   "cell_type": "code",
   "execution_count": 32,
   "metadata": {},
   "outputs": [],
   "source": [
    "geo_compare = geography_exited.merge(geography_not_exited, how = 'outer', on='geo')"
   ]
  },
  {
   "cell_type": "code",
   "execution_count": 33,
   "metadata": {},
   "outputs": [],
   "source": [
    "geo_compare['diff_pct'] = geo_compare['share_exited'] - geo_compare['share_not_exited']"
   ]
  },
  {
   "cell_type": "code",
   "execution_count": 34,
   "metadata": {},
   "outputs": [
    {
     "data": {
      "text/html": [
       "<div>\n",
       "<style scoped>\n",
       "    .dataframe tbody tr th:only-of-type {\n",
       "        vertical-align: middle;\n",
       "    }\n",
       "\n",
       "    .dataframe tbody tr th {\n",
       "        vertical-align: top;\n",
       "    }\n",
       "\n",
       "    .dataframe thead th {\n",
       "        text-align: right;\n",
       "    }\n",
       "</style>\n",
       "<table border=\"1\" class=\"dataframe\">\n",
       "  <thead>\n",
       "    <tr style=\"text-align: right;\">\n",
       "      <th></th>\n",
       "      <th>geo</th>\n",
       "      <th>share_exited</th>\n",
       "      <th>share_not_exited</th>\n",
       "      <th>diff_pct</th>\n",
       "    </tr>\n",
       "  </thead>\n",
       "  <tbody>\n",
       "    <tr>\n",
       "      <th>0</th>\n",
       "      <td>Germany</td>\n",
       "      <td>0.402487</td>\n",
       "      <td>0.210315</td>\n",
       "      <td>0.192172</td>\n",
       "    </tr>\n",
       "    <tr>\n",
       "      <th>1</th>\n",
       "      <td>France</td>\n",
       "      <td>0.392016</td>\n",
       "      <td>0.525787</td>\n",
       "      <td>-0.133771</td>\n",
       "    </tr>\n",
       "    <tr>\n",
       "      <th>2</th>\n",
       "      <td>Spain</td>\n",
       "      <td>0.205497</td>\n",
       "      <td>0.263898</td>\n",
       "      <td>-0.058401</td>\n",
       "    </tr>\n",
       "  </tbody>\n",
       "</table>\n",
       "</div>"
      ],
      "text/plain": [
       "       geo  share_exited  share_not_exited  diff_pct\n",
       "0  Germany      0.402487          0.210315  0.192172\n",
       "1   France      0.392016          0.525787 -0.133771\n",
       "2    Spain      0.205497          0.263898 -0.058401"
      ]
     },
     "execution_count": 34,
     "metadata": {},
     "output_type": "execute_result"
    }
   ],
   "source": [
    "geo_compare"
   ]
  },
  {
   "cell_type": "code",
   "execution_count": 35,
   "metadata": {},
   "outputs": [
    {
     "data": {
      "image/png": "[encoded data removed]",
      "text/plain": [
       "<Figure size 1008x288 with 1 Axes>"
      ]
     },
     "metadata": {},
     "output_type": "display_data"
    }
   ],
   "source": [
    "geo_compare[['geo','diff_pct']].sort_values(by = 'diff_pct').plot(x='geo', kind = 'barh', figsize = (14, 4), grid = True)\n",
    "plt.xlabel('Абсолютная разница долей')\n",
    "plt.ylabel('Страна')\n",
    "plt.title('Склонность клиентов к побегу в зависимости от страны');"
   ]
  },
  {
   "cell_type": "markdown",
   "metadata": {},
   "source": [
    "* Клиенты из Германии наиболее склоны попадать в отток: в группе оставшихся 21% клиентов из Германии, в группе ушедших 40%."
   ]
  },
  {
   "cell_type": "raw",
   "metadata": {},
   "source": [
    "train['isgerman'] = train[train['Geography'] == 'Germany']['Geography']\n",
    "train['isgerman'] = train['isgerman'].replace('Germany', 1)\n",
    "train['isgerman'] = train['isgerman'].fillna(0)\n",
    "train['isgerman'] = train['isgerman'].astype('int8')"
   ]
  },
  {
   "cell_type": "markdown",
   "metadata": {},
   "source": [
    "## Обучение и проверка моделей"
   ]
  },
  {
   "cell_type": "markdown",
   "metadata": {},
   "source": [
    "Выборка уже разделена на 2 части: train и test. Теперь уберем целевой признак - факт ухода клиента:"
   ]
  },
  {
   "cell_type": "code",
   "execution_count": 36,
   "metadata": {},
   "outputs": [],
   "source": [
    "features_train = train.drop('Exited', axis=1)\n",
    "target_train = train['Exited']\n",
    "features_test = test.drop('Exited', axis=1)\n",
    "target_test = test['Exited']"
   ]
  },
  {
   "cell_type": "markdown",
   "metadata": {},
   "source": [
    "Масштабируем числовые признаки:"
   ]
  },
  {
   "cell_type": "code",
   "execution_count": 37,
   "metadata": {},
   "outputs": [],
   "source": [
    "numeric = ['CreditScore', 'Age', 'Tenure', 'Balance', 'NumOfProducts', 'EstimatedSalary']"
   ]
  },
  {
   "cell_type": "code",
   "execution_count": 38,
   "metadata": {},
   "outputs": [],
   "source": [
    "scaler = StandardScaler()\n",
    "scaler.fit(features_train[numeric])\n",
    "features_train[numeric] = scaler.transform(features_train[numeric])\n",
    "features_test[numeric] = scaler.transform(features_test[numeric])"
   ]
  },
  {
   "cell_type": "markdown",
   "metadata": {},
   "source": [
    "Далее необходима кодировка признаков. Воспользуемся One Hot Encoding для алгоритмов RF, sklearn GB. Сохраним кодированные датасеты в отдельных переменных. One Hot Encoding реализуем при помощи встроенного в pandas метода get_dummies. Он создаст под каждое уникальное значение кодируемого признака Geography отдельный столбец бинарного типа. Чтобы избежать дамми-ловушки установим параметр drop_first=True:"
   ]
  },
  {
   "cell_type": "code",
   "execution_count": 39,
   "metadata": {},
   "outputs": [],
   "source": [
    "features_train_ohe = pd.get_dummies(data=features_train, columns=['Geography'], drop_first=True)\n",
    "features_test_ohe = pd.get_dummies(data=features_test, columns=['Geography'], drop_first=True)"
   ]
  },
  {
   "cell_type": "markdown",
   "metadata": {},
   "source": [
    "Для таких алгоритмов как XGBoost, LightGBM примением рекомендуемую документацией кодировку Ordinal Encoding:"
   ]
  },
  {
   "cell_type": "code",
   "execution_count": 40,
   "metadata": {},
   "outputs": [],
   "source": [
    "# Загрузим OrdinalEncoder и обучим на тренировочных данных по признаку географии\n",
    "ordinal_enc = OrdinalEncoder()\n",
    "ordinal_enc.fit(features_train[['Geography']])\n",
    "# Создадим копии обучающей и тестовой выборки\n",
    "features_train_oen = features_train.copy()\n",
    "features_test_oen = features_test.copy()\n",
    "# Трансформируем географию в копиях при помощи обученного кодировщика\n",
    "features_train_oen['Geography'] = ordinal_enc.transform(features_train_oen[['Geography']])\n",
    "features_test_oen['Geography'] = ordinal_enc.transform(features_test_oen[['Geography']])"
   ]
  },
  {
   "cell_type": "markdown",
   "metadata": {},
   "source": [
    "Преобразуем в Geography тип данных в integer:"
   ]
  },
  {
   "cell_type": "code",
   "execution_count": 41,
   "metadata": {},
   "outputs": [],
   "source": [
    "features_train_oen['Geography'] = features_train_oen['Geography'].astype('int')\n",
    "features_test_oen['Geography'] = features_test_oen['Geography'].astype('int')"
   ]
  },
  {
   "cell_type": "markdown",
   "metadata": {},
   "source": [
    "Для Catboost согласно документации какая-либо кодировка не рекомендуется, поэтому для него будем использовать исходные данные."
   ]
  },
  {
   "cell_type": "markdown",
   "metadata": {},
   "source": [
    "Сначала обучим и сразу проверим простую модель - логистическую регрессию:"
   ]
  },
  {
   "cell_type": "code",
   "execution_count": 42,
   "metadata": {},
   "outputs": [],
   "source": [
    "def logreg (train, target):\n",
    "    model = LogisticRegression(random_state=random_state, solver = 'liblinear', class_weight = 'balanced') \n",
    "    model.fit(train, target)\n",
    "    predicted_test = model.predict(train)     \n",
    "    print (\"Accuracy:\", accuracy_score(target, predicted_test))\n",
    "    print(\"---Другие метрики при Accuracy---\")\n",
    "    print(\"Roc_auc:\", roc_auc_score(target, predicted_test))\n",
    "    print(\"Precision:\", precision_score(target, predicted_test))\n",
    "    print(\"Recall:\", recall_score(target, predicted_test))\n",
    "    print(\"F1\", f1_score(target, predicted_test))\n",
    "    \n",
    "    probabilities_valid = model.predict_proba(train)\n",
    "    probabilities_one_valid = probabilities_valid[:, 1]\n",
    "    fpr, tpr, thresholds = roc_curve(target, probabilities_one_valid)\n",
    "    plt.figure()\n",
    "    plt.plot(fpr, tpr)\n",
    "    plt.xlim([0.0, 1.0])\n",
    "    plt.ylim([0.0, 1.0])\n",
    "    plt.xlabel('False Positive Rate')\n",
    "    plt.ylabel('True Positive Rate')\n",
    "    plt.title('ROC-кривая')\n",
    "    plt.plot([0, 1], [0, 1], linestyle='--')\n",
    "    plt.show()"
   ]
  },
  {
   "cell_type": "markdown",
   "metadata": {},
   "source": [
    "Перебирать параметры для логистической регрессии особого смысла нет, поэтому сразу прогоним на тесте. Используем liblinear solver, рекомендуемый для небольших выборок, а также параметр class_weight = balanced чтобы сгладить существенный дисбаланс классов (80/20)."
   ]
  },
  {
   "cell_type": "code",
   "execution_count": 43,
   "metadata": {},
   "outputs": [
    {
     "name": "stdout",
     "output_type": "stream",
     "text": [
      "Accuracy: 0.7061333333333333\n",
      "---Другие метрики при Accuracy---\n",
      "Roc_auc: 0.6968871750542671\n",
      "Precision: 0.37744742567077594\n",
      "Recall: 0.681282722513089\n",
      "F1 0.4857676154923005\n"
     ]
    },
    {
     "data": {
      "image/png": "[encoded data removed]",
      "text/plain": [
       "<Figure size 432x288 with 1 Axes>"
      ]
     },
     "metadata": {},
     "output_type": "display_data"
    }
   ],
   "source": [
    "logreg(features_train_ohe, target_train)"
   ]
  },
  {
   "cell_type": "markdown",
   "metadata": {},
   "source": [
    "* Логистическая регрессия имеет низкие метрики в данной задаче. F1 на уровне 0.5 вряд ли позволит эффективно использовать модель. 80% Accuracy могла бы набрать константная модель за счёт дисбаланса классов, проставляя метрики сильного класса. Отличным результатам по F1 в этой задаче будет Accuracy > 85, F1 > 0.61, ROC-AUC > 0.85. Однако логистическая регрессия имеет неплохой Recall скор, что может быть полезно для данной бизнес задачи."
   ]
  },
  {
   "cell_type": "markdown",
   "metadata": {},
   "source": [
    "Для достижения хорошего скора в данной задаче будем использовать несколько алгоритмов градиентного бустинга и классический random forest."
   ]
  },
  {
   "cell_type": "markdown",
   "metadata": {},
   "source": [
    "Теперь количество объектов обоих классов в обучающей выборке более сбалансированно. Напишем функцию для подбора гиперпараметров при помощи RandomizedSearchCV:"
   ]
  },
  {
   "cell_type": "code",
   "execution_count": 44,
   "metadata": {},
   "outputs": [],
   "source": [
    "def RandomSearch(clf, params, features, target):\n",
    "    model = RandomizedSearchCV(clf, params, scoring='accuracy',n_jobs=-1, cv=3, n_iter=50, random_state=random_state)\n",
    "    model.fit(features, target)\n",
    "    print(model.best_estimator_)\n",
    "    print('Лучшая Accuracy на кросс-валидации:', model.best_score_)\n",
    "    print('-------------------')"
   ]
  },
  {
   "cell_type": "markdown",
   "metadata": {},
   "source": [
    "Подберем гиперпараметры при помощи функции для четырых алгоритмов: Random Forest, sklearn GB, LightGBM, XGBoost"
   ]
  },
  {
   "cell_type": "raw",
   "metadata": {},
   "source": [
    "#Random Forest\n",
    "params_RF=[{'n_estimators': [100, 200, 275, 325, 400],\n",
    "            'max_depth':[4, 6, 10, 15, 20, 30],\n",
    "            'max_features': [None, 'sqrt', 'log2'],\n",
    "            'min_samples_leaf': [1, 3, 5, 8, 10, 12, 15],\n",
    "            'min_samples_split': [2, 4, 6, 10, 14, 16, 20],\n",
    "            'class_weight': ['balanced']}]\n",
    "\n",
    "rf_model = RandomSearch(RandomForestClassifier(random_state=random_state), params_RF, features_train_ohe, target_train)\n",
    "\n",
    "#sklearn GB\n",
    "params_sklearn_GB=[{'learning_rate':[0.01, 0.03, 0.1, 0.2, 0.3],\n",
    "                    'max_depth':[4, 6, 10, 14, 20, 26],\n",
    "                    'n_estimators':[50, 100, 150, 200, 250, 350],\n",
    "                    'max_features': [None, 'sqrt', 'log2'],\n",
    "                    'min_samples_leaf': [1, 3, 5, 8, 10, 12, 15],\n",
    "                    'min_samples_split': [2, 4, 6, 10, 14, 16, 20]}]\n",
    "\n",
    "sklearn_GB_model = RandomSearch(GradientBoostingClassifier(random_state=random_state), params_sklearn_GB,\n",
    "                              features_train_ohe, target_train)\n",
    "\n",
    "\n",
    "#LightGBM\n",
    "params_grid_LightGBM = [{'learning_rate':[0.01, 0.03, 0.1, 0.2, 0.3],\n",
    "                           'max_depth':[4, 6, 10, 14, 20, 26],\n",
    "                           'n_estimators':[50, 100, 150, 200, 250, 350],\n",
    "                           'num_leaves': [7, 14, 21, 28, 55]}]\n",
    "\n",
    "LightGBM_model = RandomSearch(lgb.LGBMClassifier(random_state=random_state, class_weight = 'balanced'),\n",
    "                              params_grid_LightGBM, features_train_oen, target_train)\n",
    "\n",
    "#XGBoost\n",
    "params_grid_XGBoost = [{'learning_rate':[0.01, 0.03, 0.1, 0.2, 0.3],\n",
    "                        'max_depth':[1, 4, 6, 10, 14, 20],\n",
    "                        'n_estimators':[50, 100, 150, 200, 250, 350],\n",
    "                        'min_child_weight': [1, 5, 10],\n",
    "                        'gamma': [0.5, 1, 1.5, 2, 5],\n",
    "                        'subsample': [0.6, 0.8, 1.0],\n",
    "                        'colsample_bytree': [0.6, 0.8, 1.0]}]\n",
    "\n",
    "XGBoost_model = RandomSearch(XGBClassifier(random_state=random_state, use_label_encoder=False),\n",
    "                           params_grid_XGBoost, features_train_oen, target_train)"
   ]
  },
  {
   "cell_type": "markdown",
   "metadata": {},
   "source": [
    "Ячейку переведем в формат Raw NBConvert чтобы она не выполнялась заново при перезапуске ноутбука. Лучший скор на кросс-валидации сохраним как константы, а best_estimator моделей в соответсвующих переменных чтобы потом проверить на тесте."
   ]
  },
  {
   "cell_type": "code",
   "execution_count": 45,
   "metadata": {},
   "outputs": [],
   "source": [
    "RF_CV_SCORE = 0.856\n",
    "SGB_CV_SCORE = 0.8632\n",
    "LGBM_CV_SCORE = 0.834\n",
    "XGB_CV_SCORE = 0.8605"
   ]
  },
  {
   "cell_type": "markdown",
   "metadata": {},
   "source": [
    "* На кросс-валидации наибольшую точность (accuracy) показали модели SGB и XGB (86.3% и 86.1% соответственно)."
   ]
  },
  {
   "cell_type": "code",
   "execution_count": 46,
   "metadata": {},
   "outputs": [],
   "source": [
    "rf_model = RandomForestClassifier(class_weight='balanced', max_depth=30,\n",
    "                       max_features='log2', min_samples_split=6,\n",
    "                       n_estimators=400, random_state=random_state)\n",
    "\n",
    "sklearn_GB_model = GradientBoostingClassifier(learning_rate=0.01, max_depth=10,\n",
    "                           max_features='log2', min_samples_leaf=3,\n",
    "                           min_samples_split=20, n_estimators=200,\n",
    "                           random_state=random_state)\n",
    "\n",
    "LightGBM_model = lgb.LGBMClassifier(class_weight='balanced', learning_rate=0.2, max_depth=14,\n",
    "               n_estimators=350, num_leaves=28, random_state=random_state)\n",
    "\n",
    "XGBoost_model = XGBClassifier(base_score=0.5, booster='gbtree', colsample_bylevel=1,\n",
    "              colsample_bynode=1, colsample_bytree=0.8, gamma=0.5, gpu_id=-1,\n",
    "              importance_type='gain', interaction_constraints='',\n",
    "              learning_rate=0.01, max_delta_step=0, max_depth=14,\n",
    "              min_child_weight=1, monotone_constraints='()',\n",
    "              n_estimators=150, n_jobs=8, num_parallel_tree=1, random_state=random_state,\n",
    "              reg_alpha=0, reg_lambda=0, scale_pos_weight=1, subsample=1.0,\n",
    "              tree_method='exact', use_label_encoder=False,\n",
    "              validate_parameters=1, verbosity=None)"
   ]
  },
  {
   "cell_type": "markdown",
   "metadata": {},
   "source": [
    "Обучим Catboost. Ему нужно получить на вход список категориальных признаков, в нашем случае это только география клиента:"
   ]
  },
  {
   "cell_type": "code",
   "execution_count": 47,
   "metadata": {},
   "outputs": [],
   "source": [
    "categorical_features = ['Geography']"
   ]
  },
  {
   "cell_type": "markdown",
   "metadata": {},
   "source": [
    "Загрузим модель и передадим ей категориальный признак и основную метрику для оценки:"
   ]
  },
  {
   "cell_type": "code",
   "execution_count": 48,
   "metadata": {},
   "outputs": [],
   "source": [
    "target_train = target_train.astype('int8')\n",
    "target_test = target_test.astype('int8')"
   ]
  },
  {
   "cell_type": "raw",
   "metadata": {},
   "source": [
    "model_catboost = CatBoostClassifier(eval_metric='Accuracy', iterations=1000,\n",
    "                                    cat_features = categorical_features, random_state=random_state)\n",
    "\n",
    "param_grid = {'learning_rate': [0.05, 0.08, 0.1, 0.2, 0.3],\n",
    "        'depth': [2, 3, 4],\n",
    "        'l2_leaf_reg': [3, 5, 7]}\n",
    "\n",
    "grid_search_result = model_catboost.grid_search(param_grid,\n",
    "                                                cv=3,\n",
    "                                                X=features_train,\n",
    "                                                y=target_train, \n",
    "                                                plot=True,\n",
    "                                                verbose=False)"
   ]
  },
  {
   "cell_type": "markdown",
   "metadata": {},
   "source": [
    "<a href=\"https://imgur.com/9vkVsK7\"><img src=\"https://i.imgur.com/9vkVsK7.png\" title=\"source: imgur.com\" /></a>"
   ]
  },
  {
   "cell_type": "markdown",
   "metadata": {},
   "source": [
    "<br> Подобрались следующие гиперпараметры: depth=2, learning_rate=0.2, l2_leaf_reg=5."
   ]
  },
  {
   "cell_type": "markdown",
   "metadata": {},
   "source": [
    "* При помощи Catboost удалось получить 87.9% accuracy на кросс-валидации. Это лучший результат среди 5-ти протестированных моделей."
   ]
  },
  {
   "cell_type": "markdown",
   "metadata": {},
   "source": [
    "## Тестирование моделей"
   ]
  },
  {
   "cell_type": "markdown",
   "metadata": {},
   "source": [
    "Далее выберем топ-3 модели по качеству предикта на кросс-валидации и сделаем предикты на тесте с учетом подобранных параметров. В нашем случае это SGB, Catboost и XGboost. Далее попробуем улучшить качество итогового прогноза используя голосование по большинству, чаще всего это помогает улучшить скор."
   ]
  },
  {
   "cell_type": "code",
   "execution_count": 49,
   "metadata": {},
   "outputs": [],
   "source": [
    "# Функция для расчета метрик моделей на тестовой выборке\n",
    "def test_models(predicted):\n",
    "    print(\"Accuracy:\", accuracy_score(target_test, predicted))\n",
    "    print(\"---Другие метрики---\")\n",
    "    print(\"Roc_auc:\", roc_auc_score(target_test, predicted))\n",
    "    print(\"Precision:\", precision_score(target_test, predicted))\n",
    "    print(\"Recall:\", recall_score(target_test, predicted))\n",
    "    print (\"F1 мера:\", f1_score(target_test, predicted))"
   ]
  },
  {
   "cell_type": "markdown",
   "metadata": {},
   "source": [
    "<b> SGB test"
   ]
  },
  {
   "cell_type": "code",
   "execution_count": 50,
   "metadata": {},
   "outputs": [],
   "source": [
    "sklearn_GB_model.fit(features_train_ohe, target_train)\n",
    "predicted_SGB = sklearn_GB_model.predict(features_test_ohe)"
   ]
  },
  {
   "cell_type": "code",
   "execution_count": 51,
   "metadata": {},
   "outputs": [
    {
     "name": "stdout",
     "output_type": "stream",
     "text": [
      "Accuracy: 0.8668\n",
      "---Другие метрики---\n",
      "Roc_auc: 0.7079850486324017\n",
      "Precision: 0.8235294117647058\n",
      "Recall: 0.4400785854616896\n",
      "F1 мера: 0.5736235595390525\n"
     ]
    }
   ],
   "source": [
    "test_models(predicted_SGB)"
   ]
  },
  {
   "cell_type": "markdown",
   "metadata": {},
   "source": [
    "* На тестовой выборке accuracy обученного SGB составил 86.68%"
   ]
  },
  {
   "cell_type": "markdown",
   "metadata": {},
   "source": [
    "<b> Catboost test"
   ]
  },
  {
   "cell_type": "code",
   "execution_count": 52,
   "metadata": {},
   "outputs": [
    {
     "name": "stdout",
     "output_type": "stream",
     "text": [
      "0:\tlearn: 0.8485333\ttotal: 189ms\tremaining: 3m 8s\n",
      "100:\tlearn: 0.8622667\ttotal: 2.42s\tremaining: 21.5s\n",
      "200:\tlearn: 0.8680000\ttotal: 4.7s\tremaining: 18.7s\n",
      "300:\tlearn: 0.8761333\ttotal: 6.98s\tremaining: 16.2s\n",
      "400:\tlearn: 0.8792000\ttotal: 9.28s\tremaining: 13.9s\n",
      "500:\tlearn: 0.8828000\ttotal: 11.6s\tremaining: 11.6s\n",
      "600:\tlearn: 0.8865333\ttotal: 14s\tremaining: 9.32s\n",
      "700:\tlearn: 0.8898667\ttotal: 16.5s\tremaining: 7.03s\n",
      "800:\tlearn: 0.8926667\ttotal: 18.9s\tremaining: 4.71s\n",
      "900:\tlearn: 0.8946667\ttotal: 21.2s\tremaining: 2.33s\n",
      "999:\tlearn: 0.8974667\ttotal: 23.5s\tremaining: 0us\n"
     ]
    },
    {
     "data": {
      "text/plain": [
       "<catboost.core.CatBoostClassifier at 0x241432460a0>"
      ]
     },
     "execution_count": 52,
     "metadata": {},
     "output_type": "execute_result"
    }
   ],
   "source": [
    "model_catboost = CatBoostClassifier(eval_metric='Accuracy', iterations=1000,\n",
    "                                  cat_features = categorical_features,\n",
    "                                  depth=4, l2_leaf_reg=3,\n",
    "                                  learning_rate=0.05,\n",
    "                                  random_state=random_state,\n",
    "                                  verbose=100)\n",
    "\n",
    "model_catboost.fit(features_train, target_train)"
   ]
  },
  {
   "cell_type": "code",
   "execution_count": 53,
   "metadata": {},
   "outputs": [],
   "source": [
    "predicted_catboost = model_catboost.predict(features_test)"
   ]
  },
  {
   "cell_type": "code",
   "execution_count": 54,
   "metadata": {},
   "outputs": [
    {
     "name": "stdout",
     "output_type": "stream",
     "text": [
      "Accuracy: 0.8728\n",
      "---Другие метрики---\n",
      "Roc_auc: 0.7424619037140611\n",
      "Precision: 0.7800586510263929\n",
      "Recall: 0.5225933202357563\n",
      "F1 мера: 0.6258823529411764\n"
     ]
    }
   ],
   "source": [
    "test_models(predicted_catboost)"
   ]
  },
  {
   "cell_type": "markdown",
   "metadata": {},
   "source": [
    "* На тестовой выборке accuracy обученного Catboost составил 87.28%. Кроме того, у Catboost отличная F1 мера с акцентом на Precision."
   ]
  },
  {
   "cell_type": "markdown",
   "metadata": {},
   "source": [
    "<b>XGboost test"
   ]
  },
  {
   "cell_type": "code",
   "execution_count": 55,
   "metadata": {},
   "outputs": [
    {
     "name": "stdout",
     "output_type": "stream",
     "text": [
      "[18:07:17] WARNING: C:/Users/Administrator/workspace/xgboost-win64_release_1.3.0/src/learner.cc:1061: Starting in XGBoost 1.3.0, the default evaluation metric used with the objective 'binary:logistic' was changed from 'error' to 'logloss'. Explicitly set eval_metric if you'd like to restore the old behavior.\n"
     ]
    }
   ],
   "source": [
    "XGBoost_model.fit(features_train_ohe, target_train)\n",
    "predicted_XGB = XGBoost_model.predict(features_test_ohe)"
   ]
  },
  {
   "cell_type": "code",
   "execution_count": 56,
   "metadata": {},
   "outputs": [
    {
     "name": "stdout",
     "output_type": "stream",
     "text": [
      "Accuracy: 0.8616\n",
      "---Другие метрики---\n",
      "Roc_auc: 0.7083762984510849\n",
      "Precision: 0.7762711864406779\n",
      "Recall: 0.449901768172888\n",
      "F1 мера: 0.5696517412935322\n"
     ]
    }
   ],
   "source": [
    "test_models(predicted_XGB)"
   ]
  },
  {
   "cell_type": "markdown",
   "metadata": {},
   "source": [
    "На тестовой выборке accuracy обученного XGBoost составил 86.16%"
   ]
  },
  {
   "cell_type": "markdown",
   "metadata": {},
   "source": [
    "### Вывод по тестированию\n",
    "<br> По результатам кросс-валидации и по результатам работы моделей на тесте лучше других в этой задачи работает обученный Catboost. Ключевая метрика качества (accuracy) превышает 87%, что является отличным результатам для этой задачи. Далее попробуем улучшить качество предикта, используя голосование по большинству среди наших топ-3 моделей."
   ]
  },
  {
   "cell_type": "markdown",
   "metadata": {},
   "source": [
    "Визуализируем feature importance лучшей модели:"
   ]
  },
  {
   "cell_type": "code",
   "execution_count": 57,
   "metadata": {},
   "outputs": [
    {
     "data": {
      "image/png": "[encoded data removed]",
      "text/plain": [
       "<Figure size 1008x360 with 1 Axes>"
      ]
     },
     "metadata": {},
     "output_type": "display_data"
    }
   ],
   "source": [
    "fi_catboost = pd.DataFrame(data ={'feature': features_train.columns, 'importance': model_catboost.feature_importances_})\n",
    "fi_catboost.sort_values('importance').plot(kind='barh', x = 'feature', figsize=(14, 5))\n",
    "plt.title('Важность признаков для Catboost')\n",
    "plt.xlabel('Оценка важности признака (feature importance)')\n",
    "plt.legend(loc=\"lower right\");"
   ]
  },
  {
   "cell_type": "markdown",
   "metadata": {},
   "source": [
    "* Наиболее важными признаками оказались количество продуктов и возраст заемщика"
   ]
  },
  {
   "cell_type": "markdown",
   "metadata": {},
   "source": [
    "### Голосование по большинству"
   ]
  },
  {
   "cell_type": "code",
   "execution_count": 58,
   "metadata": {},
   "outputs": [],
   "source": [
    "vote = pd.DataFrame([])\n",
    "\n",
    "vote['predicted_SGB'] = predicted_SGB\n",
    "vote['predicted_catboost'] = predicted_catboost\n",
    "vote['predicted_XGB'] = predicted_XGB\n",
    "\n",
    "vote['sum'] = vote['predicted_SGB'] + vote['predicted_catboost'] + vote['predicted_XGB']\n",
    "\n",
    "vote['sum_pred'] = vote['sum'] > 1\n",
    "vote['sum_pred'] = vote['sum_pred'].astype('int8')"
   ]
  },
  {
   "cell_type": "code",
   "execution_count": 59,
   "metadata": {},
   "outputs": [
    {
     "name": "stdout",
     "output_type": "stream",
     "text": [
      "Accuracy: 0.8672\n",
      "---Другие метрики---\n",
      "Roc_auc: 0.7162792487608777\n",
      "Precision: 0.8020477815699659\n",
      "Recall: 0.46168958742632615\n",
      "F1 мера: 0.5860349127182045\n"
     ]
    }
   ],
   "source": [
    "test_models(vote[['sum_pred']])"
   ]
  },
  {
   "cell_type": "markdown",
   "metadata": {},
   "source": [
    "К сожалению, в данном случае техника не помогла улучшить итоговый скор, все метрики оказались немного ниже, чем у обученного Catboost."
   ]
  },
  {
   "cell_type": "markdown",
   "metadata": {},
   "source": [
    "## Модель для бизнеса"
   ]
  },
  {
   "cell_type": "markdown",
   "metadata": {},
   "source": [
    "Удалось обучить модель, которая имеет высокую точность предсказания (Accuracy более 87%). Однако, для этого бизнеса, на мой взгляд, будет более подходящей модель с высоким Recall score. Если речь идёт об оттоке клиентов из банка, то почти всегда проще и дешевле попытаться сохранить клиента, который с большой вероятностью уйдет в отток. Модель с высоким Recall score могла бы в этом помочь.\n",
    "\n",
    "<br> Чтобы добиться высокого Recall score с помощью Catboost необходимо помимо смены eval metric установить балансировку классов (также Catboost позволяет вручную изменить веса в задаваемых пропорциях). Но нужно понимать, что такое изменение параметров уронит другие метрики и эта модель не будет самой оптимальной, но она будет решать конкретную бизнес задачу - находить клиентов, которым стоит направить специальное предложение или приложить другия усилия для их сохранения."
   ]
  },
  {
   "cell_type": "code",
   "execution_count": 60,
   "metadata": {},
   "outputs": [
    {
     "name": "stdout",
     "output_type": "stream",
     "text": [
      "Learning rate set to 0.024355\n",
      "0:\tlearn: 0.7290576\ttotal: 22.8ms\tremaining: 22.7s\n",
      "200:\tlearn: 0.7801047\ttotal: 5.47s\tremaining: 21.8s\n",
      "400:\tlearn: 0.8017016\ttotal: 10.6s\tremaining: 15.9s\n",
      "600:\tlearn: 0.8304974\ttotal: 15.9s\tremaining: 10.5s\n",
      "800:\tlearn: 0.8566754\ttotal: 21.3s\tremaining: 5.29s\n",
      "999:\tlearn: 0.8802356\ttotal: 27s\tremaining: 0us\n"
     ]
    }
   ],
   "source": [
    "model_catboost_recall = CatBoostClassifier(eval_metric='Recall', iterations=1000,\n",
    "                                    cat_features = categorical_features,\n",
    "                                    random_state=random_state,\n",
    "                                    auto_class_weights = 'Balanced',\n",
    "                                    verbose=200)\n",
    "\n",
    "model_catboost_recall.fit(features_train, target_train)\n",
    "\n",
    "predicted_catboost_recall = model_catboost_recall.predict(features_test)"
   ]
  },
  {
   "cell_type": "code",
   "execution_count": 61,
   "metadata": {},
   "outputs": [
    {
     "name": "stdout",
     "output_type": "stream",
     "text": [
      "Accuracy: 0.8184\n",
      "---Другие метрики---\n",
      "Roc_auc: 0.7843517834183097\n",
      "Precision: 0.5401459854014599\n",
      "Recall: 0.7269155206286837\n",
      "F1 мера: 0.6197654941373535\n"
     ]
    }
   ],
   "source": [
    "test_models(predicted_catboost_recall)"
   ]
  },
  {
   "cell_type": "code",
   "execution_count": 62,
   "metadata": {},
   "outputs": [
    {
     "data": {
      "text/plain": [
       "0.274"
      ]
     },
     "execution_count": 62,
     "metadata": {},
     "output_type": "execute_result"
    }
   ],
   "source": [
    "pd.Series(predicted_catboost_recall).mean()"
   ]
  },
  {
   "cell_type": "markdown",
   "metadata": {},
   "source": [
    "* Recall обученной модели составил 72.7%. Как и ожидалось, другие метрики ниже. Тем не менее, при дисбалансе классов 80/20 модель определит как склонных к уходу ~27.4% клиентов и в 72.7% случаев это будет правильный выбор."
   ]
  },
  {
   "cell_type": "markdown",
   "metadata": {},
   "source": [
    "Визуализируем оценку важности признаков для данной модели:"
   ]
  },
  {
   "cell_type": "code",
   "execution_count": 63,
   "metadata": {},
   "outputs": [
    {
     "data": {
      "image/png": "[encoded data removed]",
      "text/plain": [
       "<Figure size 1008x360 with 1 Axes>"
      ]
     },
     "metadata": {},
     "output_type": "display_data"
    }
   ],
   "source": [
    "fi_catboost_recall = pd.DataFrame(data ={'feature': features_train.columns,\\\n",
    "                                         'importance': model_catboost_recall.feature_importances_})\n",
    "\n",
    "fi_catboost_recall.sort_values('importance').plot(kind='barh', x = 'feature', figsize=(14, 5))\n",
    "plt.title('Важность признаков для Catboost recall')\n",
    "plt.xlabel('Оценка важности признака (feature importance)')\n",
    "plt.legend(loc=\"lower right\");"
   ]
  },
  {
   "cell_type": "markdown",
   "metadata": {},
   "source": [
    "* Для данной модели самым важным признаком оказался возраст заемщика, а на втором месте количество продуктов (поменялись местами)."
   ]
  },
  {
   "cell_type": "markdown",
   "metadata": {},
   "source": [
    "## Итог"
   ]
  },
  {
   "cell_type": "markdown",
   "metadata": {},
   "source": [
    "В работе был проанализирован датасет с данными о клиентах банка и созданы модели чтобы предсказывать уход в отток. Первая модель имеет очень высокую точность прогноза (accuracy) - 87.3%, а также отличную F1 меру - 62.6% (при высокой precision и низкой recall).\n",
    "\n",
    "Вторая модель не имеет топовых показателей, однако её применение может принести больше пользы бизнесу. Так, среди ~20% клиентов, которые попадут в отток, она может обнаружить ~72.7% из них. У неё будет больше ложных срабатываний - при 20% клиентов, которые уйдут, модель \"подсветит\" 27.4%, однако проработка этих клиентов поможет уменьшить отток в целом. F1 данной модели тоже находится на достойном уровне (почти 62%), accuracy немного завален (81.8%) из-за дисбаланса классов. Применение модели оправдано, если стоимость сохранения старого клиента ниже, чем стоимость привлечения нового."
   ]
  }
 ],
 "metadata": {
  "kernelspec": {
   "display_name": "Python 3",
   "language": "python",
   "name": "python3"
  },
  "language_info": {
   "codemirror_mode": {
    "name": "ipython",
    "version": 3
   },
   "file_extension": ".py",
   "mimetype": "text/x-python",
   "name": "python",
   "nbconvert_exporter": "python",
   "pygments_lexer": "ipython3",
   "version": "3.8.3"
  }
 },
 "nbformat": 4,
 "nbformat_minor": 4
}
