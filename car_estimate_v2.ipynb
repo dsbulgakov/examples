{
 "cells": [
  {
   "cell_type": "markdown",
   "metadata": {},
   "source": [
    "# Определение стоимости автомобилей"
   ]
  },
  {
   "cell_type": "markdown",
   "metadata": {},
   "source": [
    "Сервис по продаже автомобилей с пробегом «Не бит, не крашен» разрабатывает приложение для привлечения новых клиентов. В нём можно быстро узнать рыночную стоимость своего автомобиля. В вашем распоряжении исторические данные: технические характеристики, комплектации и цены автомобилей. Вам нужно построить модель для определения стоимости. \n",
    "\n",
    "Заказчику важны:\n",
    "\n",
    "- качество предсказания;\n",
    "- скорость предсказания;\n",
    "- время обучения."
   ]
  },
  {
   "cell_type": "markdown",
   "metadata": {},
   "source": [
    "# Описание данных\n",
    "\n",
    "<b>Признаки</b>\n",
    "* DateCrawled — дата скачивания анкеты из базы\n",
    "* VehicleType — тип автомобильного кузова\n",
    "* RegistrationYear — год регистрации автомобиля\n",
    "* Gearbox — тип коробки передач\n",
    "* Power — мощность (л. с.)\n",
    "* Model — модель автомобиля\n",
    "* Kilometer — пробег (км)\n",
    "* RegistrationMonth — месяц регистрации автомобиля\n",
    "* FuelType — тип топлива\n",
    "* Brand — марка автомобиля\n",
    "* NotRepaired — была машина в ремонте или нет\n",
    "* DateCreated — дата создания анкеты\n",
    "* NumberOfPictures — количество фотографий автомобиля\n",
    "* PostalCode — почтовый индекс владельца анкеты (пользователя)\n",
    "* LastSeen — дата последней активности пользователя\n",
    "\n",
    "<br><b> Целевой признак </b>\n",
    "* Price — цена (евро)"
   ]
  },
  {
   "cell_type": "markdown",
   "metadata": {},
   "source": [
    "## Предисловие"
   ]
  },
  {
   "cell_type": "markdown",
   "metadata": {},
   "source": [
    "Это дополнительный проект по датасету с выгрузкой объявлений о продаже авто. В основном проекте проверялось много моделей и различные варианты предобработки данных и в итоге он получился слишком большим. Чтобы добавить проект в портфолио решил сделать более лаконичное решение, заодно немного упростил подход к предобработке, добавил чуть больше визуализации, добавил пару новых признаков и усреднил предикты новых моделей, получив более высокий скор. При этом здесь будут использованы только 3 алгоритма (Catboost, LightGBM, RF), а результаты работы других алгоритмов из основного проекта будут отражены в общем отчете в конце."
   ]
  },
  {
   "cell_type": "markdown",
   "metadata": {},
   "source": [
    "## Подготовка данных"
   ]
  },
  {
   "cell_type": "code",
   "execution_count": 1,
   "metadata": {},
   "outputs": [],
   "source": [
    "import numpy as np\n",
    "import pandas as pd\n",
    "\n",
    "import seaborn as sns\n",
    "import matplotlib.pyplot as plt\n",
    "\n",
    "from sklearn.model_selection import train_test_split\n",
    "from sklearn.model_selection import RandomizedSearchCV, GridSearchCV\n",
    "from sklearn.metrics import mean_squared_error\n",
    "from sklearn.preprocessing import OrdinalEncoder\n",
    "from sklearn.preprocessing import StandardScaler\n",
    "from sklearn.ensemble import RandomForestRegressor\n",
    "\n",
    "from catboost import CatBoostRegressor\n",
    "import lightgbm as lgb\n",
    "\n",
    "import warnings\n",
    "warnings.simplefilter(action='ignore', category=FutureWarning)\n",
    "from pandas.core.common import SettingWithCopyWarning\n",
    "warnings.simplefilter(action=\"ignore\", category=SettingWithCopyWarning)"
   ]
  },
  {
   "cell_type": "markdown",
   "metadata": {},
   "source": [
    "Загрузим и изучим данные:"
   ]
  },
  {
   "cell_type": "code",
   "execution_count": 2,
   "metadata": {},
   "outputs": [],
   "source": [
    "df = pd.read_csv('D:\\data_auto.csv')"
   ]
  },
  {
   "cell_type": "code",
   "execution_count": 3,
   "metadata": {},
   "outputs": [
    {
     "name": "stdout",
     "output_type": "stream",
     "text": [
      "<class 'pandas.core.frame.DataFrame'>\n",
      "RangeIndex: 354369 entries, 0 to 354368\n",
      "Data columns (total 16 columns):\n",
      " #   Column             Non-Null Count   Dtype \n",
      "---  ------             --------------   ----- \n",
      " 0   DateCrawled        354369 non-null  object\n",
      " 1   Price              354369 non-null  int64 \n",
      " 2   VehicleType        316879 non-null  object\n",
      " 3   RegistrationYear   354369 non-null  int64 \n",
      " 4   Gearbox            334536 non-null  object\n",
      " 5   Power              354369 non-null  int64 \n",
      " 6   Model              334664 non-null  object\n",
      " 7   Kilometer          354369 non-null  int64 \n",
      " 8   RegistrationMonth  354369 non-null  int64 \n",
      " 9   FuelType           321474 non-null  object\n",
      " 10  Brand              354369 non-null  object\n",
      " 11  NotRepaired        283215 non-null  object\n",
      " 12  DateCreated        354369 non-null  object\n",
      " 13  NumberOfPictures   354369 non-null  int64 \n",
      " 14  PostalCode         354369 non-null  int64 \n",
      " 15  LastSeen           354369 non-null  object\n",
      "dtypes: int64(7), object(9)\n",
      "memory usage: 43.3+ MB\n"
     ]
    }
   ],
   "source": [
    "df.info()"
   ]
  },
  {
   "cell_type": "code",
   "execution_count": 4,
   "metadata": {},
   "outputs": [
    {
     "data": {
      "text/html": [
       "<div>\n",
       "<style scoped>\n",
       "    .dataframe tbody tr th:only-of-type {\n",
       "        vertical-align: middle;\n",
       "    }\n",
       "\n",
       "    .dataframe tbody tr th {\n",
       "        vertical-align: top;\n",
       "    }\n",
       "\n",
       "    .dataframe thead th {\n",
       "        text-align: right;\n",
       "    }\n",
       "</style>\n",
       "<table border=\"1\" class=\"dataframe\">\n",
       "  <thead>\n",
       "    <tr style=\"text-align: right;\">\n",
       "      <th></th>\n",
       "      <th>DateCrawled</th>\n",
       "      <th>Price</th>\n",
       "      <th>VehicleType</th>\n",
       "      <th>RegistrationYear</th>\n",
       "      <th>Gearbox</th>\n",
       "      <th>Power</th>\n",
       "      <th>Model</th>\n",
       "      <th>Kilometer</th>\n",
       "      <th>RegistrationMonth</th>\n",
       "      <th>FuelType</th>\n",
       "      <th>Brand</th>\n",
       "      <th>NotRepaired</th>\n",
       "      <th>DateCreated</th>\n",
       "      <th>NumberOfPictures</th>\n",
       "      <th>PostalCode</th>\n",
       "      <th>LastSeen</th>\n",
       "    </tr>\n",
       "  </thead>\n",
       "  <tbody>\n",
       "    <tr>\n",
       "      <th>column type</th>\n",
       "      <td>object</td>\n",
       "      <td>int64</td>\n",
       "      <td>object</td>\n",
       "      <td>int64</td>\n",
       "      <td>object</td>\n",
       "      <td>int64</td>\n",
       "      <td>object</td>\n",
       "      <td>int64</td>\n",
       "      <td>int64</td>\n",
       "      <td>object</td>\n",
       "      <td>object</td>\n",
       "      <td>object</td>\n",
       "      <td>object</td>\n",
       "      <td>int64</td>\n",
       "      <td>int64</td>\n",
       "      <td>object</td>\n",
       "    </tr>\n",
       "    <tr>\n",
       "      <th>null values (nb)</th>\n",
       "      <td>0</td>\n",
       "      <td>0</td>\n",
       "      <td>37490</td>\n",
       "      <td>0</td>\n",
       "      <td>19833</td>\n",
       "      <td>0</td>\n",
       "      <td>19705</td>\n",
       "      <td>0</td>\n",
       "      <td>0</td>\n",
       "      <td>32895</td>\n",
       "      <td>0</td>\n",
       "      <td>71154</td>\n",
       "      <td>0</td>\n",
       "      <td>0</td>\n",
       "      <td>0</td>\n",
       "      <td>0</td>\n",
       "    </tr>\n",
       "    <tr>\n",
       "      <th>null values (%)</th>\n",
       "      <td>0</td>\n",
       "      <td>0</td>\n",
       "      <td>10.5794</td>\n",
       "      <td>0</td>\n",
       "      <td>5.59671</td>\n",
       "      <td>0</td>\n",
       "      <td>5.56059</td>\n",
       "      <td>0</td>\n",
       "      <td>0</td>\n",
       "      <td>9.2827</td>\n",
       "      <td>0</td>\n",
       "      <td>20.0791</td>\n",
       "      <td>0</td>\n",
       "      <td>0</td>\n",
       "      <td>0</td>\n",
       "      <td>0</td>\n",
       "    </tr>\n",
       "  </tbody>\n",
       "</table>\n",
       "</div>"
      ],
      "text/plain": [
       "                 DateCrawled  Price VehicleType RegistrationYear  Gearbox  \\\n",
       "column type           object  int64      object            int64   object   \n",
       "null values (nb)           0      0       37490                0    19833   \n",
       "null values (%)            0      0     10.5794                0  5.59671   \n",
       "\n",
       "                  Power    Model Kilometer RegistrationMonth FuelType   Brand  \\\n",
       "column type       int64   object     int64             int64   object  object   \n",
       "null values (nb)      0    19705         0                 0    32895       0   \n",
       "null values (%)       0  5.56059         0                 0   9.2827       0   \n",
       "\n",
       "                 NotRepaired DateCreated NumberOfPictures PostalCode LastSeen  \n",
       "column type           object      object            int64      int64   object  \n",
       "null values (nb)       71154           0                0          0        0  \n",
       "null values (%)      20.0791           0                0          0        0  "
      ]
     },
     "metadata": {},
     "output_type": "display_data"
    },
    {
     "name": "stdout",
     "output_type": "stream",
     "text": [
      "Размер датасета: (354369, 16)\n"
     ]
    },
    {
     "data": {
      "text/html": [
       "<div>\n",
       "<style scoped>\n",
       "    .dataframe tbody tr th:only-of-type {\n",
       "        vertical-align: middle;\n",
       "    }\n",
       "\n",
       "    .dataframe tbody tr th {\n",
       "        vertical-align: top;\n",
       "    }\n",
       "\n",
       "    .dataframe thead th {\n",
       "        text-align: right;\n",
       "    }\n",
       "</style>\n",
       "<table border=\"1\" class=\"dataframe\">\n",
       "  <thead>\n",
       "    <tr style=\"text-align: right;\">\n",
       "      <th></th>\n",
       "      <th>DateCrawled</th>\n",
       "      <th>Price</th>\n",
       "      <th>VehicleType</th>\n",
       "      <th>RegistrationYear</th>\n",
       "      <th>Gearbox</th>\n",
       "      <th>Power</th>\n",
       "      <th>Model</th>\n",
       "      <th>Kilometer</th>\n",
       "      <th>RegistrationMonth</th>\n",
       "      <th>FuelType</th>\n",
       "      <th>Brand</th>\n",
       "      <th>NotRepaired</th>\n",
       "      <th>DateCreated</th>\n",
       "      <th>NumberOfPictures</th>\n",
       "      <th>PostalCode</th>\n",
       "      <th>LastSeen</th>\n",
       "    </tr>\n",
       "  </thead>\n",
       "  <tbody>\n",
       "    <tr>\n",
       "      <th>0</th>\n",
       "      <td>2016-03-24 11:52:17</td>\n",
       "      <td>480</td>\n",
       "      <td>NaN</td>\n",
       "      <td>1993</td>\n",
       "      <td>manual</td>\n",
       "      <td>0</td>\n",
       "      <td>golf</td>\n",
       "      <td>150000</td>\n",
       "      <td>0</td>\n",
       "      <td>petrol</td>\n",
       "      <td>volkswagen</td>\n",
       "      <td>NaN</td>\n",
       "      <td>2016-03-24 00:00:00</td>\n",
       "      <td>0</td>\n",
       "      <td>70435</td>\n",
       "      <td>2016-04-07 03:16:57</td>\n",
       "    </tr>\n",
       "    <tr>\n",
       "      <th>1</th>\n",
       "      <td>2016-03-24 10:58:45</td>\n",
       "      <td>18300</td>\n",
       "      <td>coupe</td>\n",
       "      <td>2011</td>\n",
       "      <td>manual</td>\n",
       "      <td>190</td>\n",
       "      <td>NaN</td>\n",
       "      <td>125000</td>\n",
       "      <td>5</td>\n",
       "      <td>gasoline</td>\n",
       "      <td>audi</td>\n",
       "      <td>yes</td>\n",
       "      <td>2016-03-24 00:00:00</td>\n",
       "      <td>0</td>\n",
       "      <td>66954</td>\n",
       "      <td>2016-04-07 01:46:50</td>\n",
       "    </tr>\n",
       "    <tr>\n",
       "      <th>2</th>\n",
       "      <td>2016-03-14 12:52:21</td>\n",
       "      <td>9800</td>\n",
       "      <td>suv</td>\n",
       "      <td>2004</td>\n",
       "      <td>auto</td>\n",
       "      <td>163</td>\n",
       "      <td>grand</td>\n",
       "      <td>125000</td>\n",
       "      <td>8</td>\n",
       "      <td>gasoline</td>\n",
       "      <td>jeep</td>\n",
       "      <td>NaN</td>\n",
       "      <td>2016-03-14 00:00:00</td>\n",
       "      <td>0</td>\n",
       "      <td>90480</td>\n",
       "      <td>2016-04-05 12:47:46</td>\n",
       "    </tr>\n",
       "    <tr>\n",
       "      <th>3</th>\n",
       "      <td>2016-03-17 16:54:04</td>\n",
       "      <td>1500</td>\n",
       "      <td>small</td>\n",
       "      <td>2001</td>\n",
       "      <td>manual</td>\n",
       "      <td>75</td>\n",
       "      <td>golf</td>\n",
       "      <td>150000</td>\n",
       "      <td>6</td>\n",
       "      <td>petrol</td>\n",
       "      <td>volkswagen</td>\n",
       "      <td>no</td>\n",
       "      <td>2016-03-17 00:00:00</td>\n",
       "      <td>0</td>\n",
       "      <td>91074</td>\n",
       "      <td>2016-03-17 17:40:17</td>\n",
       "    </tr>\n",
       "    <tr>\n",
       "      <th>4</th>\n",
       "      <td>2016-03-31 17:25:20</td>\n",
       "      <td>3600</td>\n",
       "      <td>small</td>\n",
       "      <td>2008</td>\n",
       "      <td>manual</td>\n",
       "      <td>69</td>\n",
       "      <td>fabia</td>\n",
       "      <td>90000</td>\n",
       "      <td>7</td>\n",
       "      <td>gasoline</td>\n",
       "      <td>skoda</td>\n",
       "      <td>no</td>\n",
       "      <td>2016-03-31 00:00:00</td>\n",
       "      <td>0</td>\n",
       "      <td>60437</td>\n",
       "      <td>2016-04-06 10:17:21</td>\n",
       "    </tr>\n",
       "  </tbody>\n",
       "</table>\n",
       "</div>"
      ],
      "text/plain": [
       "           DateCrawled  Price VehicleType  RegistrationYear Gearbox  Power  \\\n",
       "0  2016-03-24 11:52:17    480         NaN              1993  manual      0   \n",
       "1  2016-03-24 10:58:45  18300       coupe              2011  manual    190   \n",
       "2  2016-03-14 12:52:21   9800         suv              2004    auto    163   \n",
       "3  2016-03-17 16:54:04   1500       small              2001  manual     75   \n",
       "4  2016-03-31 17:25:20   3600       small              2008  manual     69   \n",
       "\n",
       "   Model  Kilometer  RegistrationMonth  FuelType       Brand NotRepaired  \\\n",
       "0   golf     150000                  0    petrol  volkswagen         NaN   \n",
       "1    NaN     125000                  5  gasoline        audi         yes   \n",
       "2  grand     125000                  8  gasoline        jeep         NaN   \n",
       "3   golf     150000                  6    petrol  volkswagen          no   \n",
       "4  fabia      90000                  7  gasoline       skoda          no   \n",
       "\n",
       "           DateCreated  NumberOfPictures  PostalCode             LastSeen  \n",
       "0  2016-03-24 00:00:00                 0       70435  2016-04-07 03:16:57  \n",
       "1  2016-03-24 00:00:00                 0       66954  2016-04-07 01:46:50  \n",
       "2  2016-03-14 00:00:00                 0       90480  2016-04-05 12:47:46  \n",
       "3  2016-03-17 00:00:00                 0       91074  2016-03-17 17:40:17  \n",
       "4  2016-03-31 00:00:00                 0       60437  2016-04-06 10:17:21  "
      ]
     },
     "metadata": {},
     "output_type": "display_data"
    },
    {
     "name": "stdout",
     "output_type": "stream",
     "text": [
      "Количество дубликатов: 4\n"
     ]
    }
   ],
   "source": [
    "df_info=pd.DataFrame(df.dtypes).T.rename(index={0:'column type'})\n",
    "df_info=df_info.append(pd.DataFrame(df.isnull().sum()).T.rename(index={0:'null values (nb)'}))\n",
    "df_info=df_info.append(pd.DataFrame(df.isnull().sum()/df.shape[0]*100).T.\n",
    "                             rename(index={0:'null values (%)'}))\n",
    "display(df_info)\n",
    "print('Размер датасета:', df.shape)\n",
    "display(df[:5])\n",
    "print('Количество дубликатов:', df.duplicated().sum())"
   ]
  },
  {
   "cell_type": "markdown",
   "metadata": {},
   "source": [
    "В загруженном датасете 16 столбцов и 354369 строк. В нём представлены анкеты пользователей о продаже автомобилей. В качестве признаков приведены различиные характериски авто. Целевым признаком для моделирования является цена. В данных довольно много пропусков: в VehicleType 10.58%, в Gearbox 5.60%, в Model 5.56%, FuelType 9.28%, в NotRepaired - 20.08%. Причина появления пропусков вероятнее всего - пропуск необязательных полей пользователем. Некоторые типы данных стоит изменить, в том числе не помешает снизить разрядность (сейчас везде int64) там, где это уместно, поскольку датасет довольно большой и экономия памяти будет заметной. Также есть 4 дубликата, их удалим."
   ]
  },
  {
   "cell_type": "markdown",
   "metadata": {},
   "source": [
    "Удалим дубликаты:"
   ]
  },
  {
   "cell_type": "code",
   "execution_count": 5,
   "metadata": {},
   "outputs": [],
   "source": [
    "df = df.drop_duplicates()"
   ]
  },
  {
   "cell_type": "markdown",
   "metadata": {},
   "source": [
    "Приведем к нижнему регистру названия признаков:"
   ]
  },
  {
   "cell_type": "code",
   "execution_count": 6,
   "metadata": {},
   "outputs": [],
   "source": [
    "df.columns = df.columns.str.lower()"
   ]
  },
  {
   "cell_type": "code",
   "execution_count": 7,
   "metadata": {},
   "outputs": [
    {
     "data": {
      "text/plain": [
       "Index(['datecrawled', 'price', 'vehicletype', 'registrationyear', 'gearbox',\n",
       "       'power', 'model', 'kilometer', 'registrationmonth', 'fueltype', 'brand',\n",
       "       'notrepaired', 'datecreated', 'numberofpictures', 'postalcode',\n",
       "       'lastseen'],\n",
       "      dtype='object')"
      ]
     },
     "execution_count": 7,
     "metadata": {},
     "output_type": "execute_result"
    }
   ],
   "source": [
    "df.columns"
   ]
  },
  {
   "cell_type": "markdown",
   "metadata": {},
   "source": [
    "Самая непростая для принятия правильного решения часть - обработка пропусков и выбросов. В данном проекте я буду отталкиваться от того, что моя основная рекомендация заказчику будет следующая:\n",
    "\n",
    "Необходимо создать и настроить выпадающие списки и шкалы выбора параметров автомобилей так, чтобы пользователь не вводил их сам с клавиатуры. Сначала пользователь выбирает бренд, затем модель, а затем подтягиваются возможные варианты для выбора мощности мотора, типа кузова, коробки передач, типа топлива. Эти выпадающие списки создать не так сложно, как правило для каждой модели существует 2-3 варианта возможных двигателя (для каждого двигателя заранее известна его мощность), 2 варианта коробки, 1-2 типа топлива и тд. Ключевая идея в том, чтобы не позволять пользователю вводить ерунду с клавиатуры или оставлять важные поля пустыми. Без её реализации не получится настроить точную модель оценки авто. Кроме того, это необходимо не только для построения модели оценки, но и для того чтобы объявление пользователя могло находить в поиске приложения как можно больше людей по разным фильтрам. Больше просмотров объявления -> больше потенциальных клиентов -> быстрее и возможно дороже пользователь продаст авто -> больше удовлетворенность от использования сервиса."
   ]
  },
  {
   "cell_type": "markdown",
   "metadata": {},
   "source": [
    "Пример, как идея реализована на авито:"
   ]
  },
  {
   "cell_type": "markdown",
   "metadata": {},
   "source": [
    "<a href=\"https://imgur.com/OWq79nj\"><img src=\"https://i.imgur.com/OWq79nj.png\" title=\"source: imgur.com\" /></a>"
   ]
  },
  {
   "cell_type": "markdown",
   "metadata": {},
   "source": [
    "В первом проекте уже приводился вариант решения задачи с разными вариантами предобработки, в случае если у заказчика нет возможности создать строгую форму для внесения параметров. В этом же, будем считать, что заказчик дал добро на реализацию идеи поэтому предобработка будет более жесткой с расчётом на вышеописанную форму. "
   ]
  },
  {
   "cell_type": "markdown",
   "metadata": {},
   "source": [
    "## Заполнение пропусков"
   ]
  },
  {
   "cell_type": "markdown",
   "metadata": {},
   "source": [
    "### Обработка признака notrepaired"
   ]
  },
  {
   "cell_type": "markdown",
   "metadata": {},
   "source": [
    "Больше всего пропусков в notrepaired - \"была машина в ремонте или нет\". Вероятнее всего здесь речь про ремонт после дтп или про замену важных агрегатов после их выхода из строя. Этот признак должен быть важным, т.к. такие факты, как правило, ощутимо влияют на цену."
   ]
  },
  {
   "cell_type": "code",
   "execution_count": 8,
   "metadata": {},
   "outputs": [
    {
     "data": {
      "text/plain": [
       "no     247158\n",
       "yes     36053\n",
       "Name: notrepaired, dtype: int64"
      ]
     },
     "execution_count": 8,
     "metadata": {},
     "output_type": "execute_result"
    }
   ],
   "source": [
    "df['notrepaired'].value_counts()"
   ]
  },
  {
   "cell_type": "code",
   "execution_count": 9,
   "metadata": {},
   "outputs": [
    {
     "data": {
      "text/plain": [
       "0.1273008463654307"
      ]
     },
     "execution_count": 9,
     "metadata": {},
     "output_type": "execute_result"
    }
   ],
   "source": [
    "df['notrepaired'].value_counts()[1] / df['notrepaired'].value_counts().sum()"
   ]
  },
  {
   "cell_type": "code",
   "execution_count": 10,
   "metadata": {},
   "outputs": [],
   "source": [
    "sns.set(style=\"whitegrid\", font_scale=1.5)"
   ]
  },
  {
   "cell_type": "code",
   "execution_count": 11,
   "metadata": {},
   "outputs": [
    {
     "data": {
      "image/png": "[encoded data removed]",
      "text/plain": [
       "<Figure size 864x432 with 1 Axes>"
      ]
     },
     "metadata": {},
     "output_type": "display_data"
    }
   ],
   "source": [
    "plt.figure(figsize=(12, 6))\n",
    "df['notrepaired'].value_counts().plot.pie(autopct=\"%.1f%%\")\n",
    "plt.title('Доля бывших в ремонте машин (notrepaired=yes)');"
   ]
  },
  {
   "cell_type": "markdown",
   "metadata": {},
   "source": [
    "* В 12.7% анкет авто бывали в ремонте. "
   ]
  },
  {
   "cell_type": "markdown",
   "metadata": {},
   "source": [
    "Проверим действительно ли фактор сильно влияют на цену:"
   ]
  },
  {
   "cell_type": "code",
   "execution_count": 12,
   "metadata": {},
   "outputs": [
    {
     "data": {
      "text/plain": [
       "notrepaired\n",
       "no     5296.856015\n",
       "yes    1915.961889\n",
       "Name: price, dtype: float64"
      ]
     },
     "execution_count": 12,
     "metadata": {},
     "output_type": "execute_result"
    }
   ],
   "source": [
    "notrepaired_table = df.groupby('notrepaired')['price'].mean()\n",
    "notrepaired_table"
   ]
  },
  {
   "cell_type": "markdown",
   "metadata": {},
   "source": [
    "* Средняя бывавшего в ремонте авто более чем в 2 раза ниже."
   ]
  },
  {
   "cell_type": "markdown",
   "metadata": {},
   "source": [
    "Также добавим данные о пропущенных значениях:"
   ]
  },
  {
   "cell_type": "code",
   "execution_count": 13,
   "metadata": {},
   "outputs": [
    {
     "data": {
      "text/plain": [
       "2626.4192455800094"
      ]
     },
     "execution_count": 13,
     "metadata": {},
     "output_type": "execute_result"
    }
   ],
   "source": [
    "df[df['notrepaired'].isna()]['price'].mean()"
   ]
  },
  {
   "cell_type": "code",
   "execution_count": 14,
   "metadata": {},
   "outputs": [],
   "source": [
    "notrepaired_table = notrepaired_table.append(pd.Series(df[df['notrepaired'].isna()]['price'].mean()).rename({0:'no_data'}))"
   ]
  },
  {
   "cell_type": "code",
   "execution_count": 15,
   "metadata": {},
   "outputs": [
    {
     "data": {
      "image/png": "[encoded data removed]",
      "text/plain": [
       "<Figure size 720x360 with 1 Axes>"
      ]
     },
     "metadata": {},
     "output_type": "display_data"
    }
   ],
   "source": [
    "notrepaired_table.plot(kind='barh', figsize=(10, 5))\n",
    "plt.title('Цена автомобиля в зависимости от факта ремонта')\n",
    "plt.xlabel('Средняя цена автомобиля, евро');"
   ]
  },
  {
   "cell_type": "markdown",
   "metadata": {},
   "source": [
    "* Средняя цена автомобиля, который <b>не был</b> в ремонте 5297 евро\n",
    "* Средняя цена автомобиля, который <b>был</b> в ремонте 1916 евро\n",
    "* Средняя цена автомобиля, у которого по признаку \"был ли в ремонте\" <b>нет данных</b> 2626 евро"
   ]
  },
  {
   "cell_type": "markdown",
   "metadata": {},
   "source": [
    "Примечательно, что в объектах, где пропущено значение признака notrepaired, среднее значение целевого признака намного ближе к yes. Вероятно, авторы объявлений зачастую хотели умолчать о факте ремонта/восстановления авто. Хорошо, что в нашем приложении нельзя будет оставить поле пустым, либо \"был в ремонте\" либо \"не был в ремонте\". При этом разница в ценах очень велика для того чтобы автоматически относить всех, кто оставил поле пустым к битым (более 30%). Поэтому, на мой взгляд, здесь лучшим вариантом для обработки будет удаление пустых значений. Альтернатива - замена пустых значений на yes."
   ]
  },
  {
   "cell_type": "code",
   "execution_count": 16,
   "metadata": {},
   "outputs": [],
   "source": [
    "df = df.dropna(subset = ['notrepaired'])"
   ]
  },
  {
   "cell_type": "markdown",
   "metadata": {},
   "source": [
    "Также заменим yes на 1, no на 0, а тип данных на булев:"
   ]
  },
  {
   "cell_type": "code",
   "execution_count": 17,
   "metadata": {},
   "outputs": [],
   "source": [
    "df['notrepaired'] = (df['notrepaired'].replace({'yes': 1, 'no' : 0})).astype('bool')"
   ]
  },
  {
   "cell_type": "markdown",
   "metadata": {},
   "source": [
    "### Обработка признака vehicletype"
   ]
  },
  {
   "cell_type": "markdown",
   "metadata": {},
   "source": [
    "Cледующий по количеству пропусков признак - vehicletype. Там ~10,5% пропусков. Посмотрим как разные типы кузова влияют на цену:"
   ]
  },
  {
   "cell_type": "code",
   "execution_count": 18,
   "metadata": {},
   "outputs": [
    {
     "data": {
      "text/plain": [
       "vehicletype\n",
       "suv            9311.735926\n",
       "convertible    7185.948534\n",
       "coupe          6479.788440\n",
       "bus            5723.512879\n",
       "wagon          5231.071080\n",
       "sedan          5009.076607\n",
       "other          3854.535112\n",
       "small          2937.599045\n",
       "Name: price, dtype: float64"
      ]
     },
     "execution_count": 18,
     "metadata": {},
     "output_type": "execute_result"
    }
   ],
   "source": [
    "vehicletype_table = df.groupby('vehicletype')['price'].mean().sort_values(ascending = False)\n",
    "vehicletype_table"
   ]
  },
  {
   "cell_type": "markdown",
   "metadata": {},
   "source": [
    "Добавим в таблицу среднюю цену по строкам, в которых отсутствует признак vehicletype_table (NaN):"
   ]
  },
  {
   "cell_type": "code",
   "execution_count": 19,
   "metadata": {},
   "outputs": [
    {
     "data": {
      "text/plain": [
       "suv            9311.735926\n",
       "convertible    7185.948534\n",
       "coupe          6479.788440\n",
       "bus            5723.512879\n",
       "wagon          5231.071080\n",
       "sedan          5009.076607\n",
       "other          3854.535112\n",
       "small          2937.599045\n",
       "no_data        2820.438560\n",
       "dtype: float64"
      ]
     },
     "execution_count": 19,
     "metadata": {},
     "output_type": "execute_result"
    }
   ],
   "source": [
    "vehicletype_table = vehicletype_table.append(pd.Series(df[df['vehicletype'].isna()]['price'].mean()).rename({0:'no_data'}))\n",
    "vehicletype_table"
   ]
  },
  {
   "cell_type": "code",
   "execution_count": 20,
   "metadata": {},
   "outputs": [
    {
     "data": {
      "image/png": "[encoded data removed]",
      "text/plain": [
       "<Figure size 720x360 with 1 Axes>"
      ]
     },
     "metadata": {},
     "output_type": "display_data"
    }
   ],
   "source": [
    "vehicletype_table.plot(kind='barh', figsize=(10, 5))\n",
    "plt.title('Цена автомобиля в зависимости от типа кузова')\n",
    "plt.xlabel('Средняя цена автомобиля, евро')\n",
    "plt.xticks(np.arange(0, vehicletype_table.max(), 1000));"
   ]
  },
  {
   "cell_type": "markdown",
   "metadata": {},
   "source": [
    "Цена в зависимости от кузова сильно варьируется. Это значимый фактор. При этом, интересно, что там где признак vehicletype=NaN цены в среднем почти в два раза ниже, чем в целом по датасету. Значение целевого признака в пустых vehicletype ближе всего к small, и существенно ниже, чем в остальных. Возможно это какая-то дешевая категория авто, которая не была предусмотрена для выбора на сайте объявлений (мотоциклы?). Считаю оправданным создать отдельную категорию под незаполненные поля вместо удаления данных."
   ]
  },
  {
   "cell_type": "code",
   "execution_count": 21,
   "metadata": {},
   "outputs": [],
   "source": [
    "df['vehicletype'] = df['vehicletype'].fillna('unknown')"
   ]
  },
  {
   "cell_type": "markdown",
   "metadata": {},
   "source": [
    "### Обработка признака fueltype"
   ]
  },
  {
   "cell_type": "code",
   "execution_count": 22,
   "metadata": {},
   "outputs": [
    {
     "data": {
      "text/plain": [
       "0.057603694771742625"
      ]
     },
     "execution_count": 22,
     "metadata": {},
     "output_type": "execute_result"
    }
   ],
   "source": [
    "df['fueltype'].isna().mean()"
   ]
  },
  {
   "cell_type": "markdown",
   "metadata": {},
   "source": [
    "Следующий признак, который нужно обработать - fueltype. В нём осталось ~5.8% пропусков."
   ]
  },
  {
   "cell_type": "code",
   "execution_count": 23,
   "metadata": {},
   "outputs": [
    {
     "data": {
      "text/plain": [
       "array(['gasoline', 'petrol', nan, 'lpg', 'other', 'hybrid', 'cng',\n",
       "       'electric'], dtype=object)"
      ]
     },
     "execution_count": 23,
     "metadata": {},
     "output_type": "execute_result"
    }
   ],
   "source": [
    "df['fueltype'].unique()"
   ]
  },
  {
   "cell_type": "markdown",
   "metadata": {},
   "source": [
    "Сразу добавим в таблицу среднюю цену по строкам, в которых отсутствует признак fueltype_table (NaN):"
   ]
  },
  {
   "cell_type": "code",
   "execution_count": 24,
   "metadata": {},
   "outputs": [
    {
     "data": {
      "text/plain": [
       "hybrid      9974.911215\n",
       "electric    7053.910256\n",
       "gasoline    6937.340556\n",
       "cng         4660.907662\n",
       "lpg         4260.621174\n",
       "petrol      4082.851190\n",
       "other       3033.230088\n",
       "no_data     2831.807405\n",
       "dtype: float64"
      ]
     },
     "execution_count": 24,
     "metadata": {},
     "output_type": "execute_result"
    }
   ],
   "source": [
    "fueltype_table = df.groupby('fueltype')['price'].mean().sort_values(ascending = False)\n",
    "fueltype_table = fueltype_table.append(pd.Series(df[df['fueltype'].isna()]['price'].mean()).rename({0:'no_data'}))\n",
    "fueltype_table"
   ]
  },
  {
   "cell_type": "code",
   "execution_count": 25,
   "metadata": {},
   "outputs": [
    {
     "data": {
      "image/png": "[encoded data removed]",
      "text/plain": [
       "<Figure size 720x360 with 1 Axes>"
      ]
     },
     "metadata": {},
     "output_type": "display_data"
    }
   ],
   "source": [
    "fueltype_table.plot(kind='barh', figsize=(10, 5))\n",
    "plt.title('Цена автомобиля в зависимости от используемого топлива')\n",
    "plt.xlabel('Средняя цена автомобиля, евро')\n",
    "plt.xticks(np.arange(0, fueltype_table.max(), 1000));"
   ]
  },
  {
   "cell_type": "markdown",
   "metadata": {},
   "source": [
    "Средний показатель целевого признака в fueltype среди пропущенных значений ниже, чем среди других типов используемого автомобилем топлива. Среди других типов показатель цены ближе всего к типу other, причем все другие категории значительно выше по показателю. На мой взгляд, чтобы избежать удаления данных, вполне можно отнести пропущенные значения к типу \"другие\". Это удобно как с позиции смысла категории (можно всё в \"другие\" относить) так и с позиции небольшой разницы (~7%) в средних значениях между категорией other и пропущенными значениями."
   ]
  },
  {
   "cell_type": "code",
   "execution_count": 26,
   "metadata": {},
   "outputs": [],
   "source": [
    "df['fueltype'] = df['fueltype'].fillna('other')"
   ]
  },
  {
   "cell_type": "markdown",
   "metadata": {},
   "source": [
    "### Обработка признака model"
   ]
  },
  {
   "cell_type": "code",
   "execution_count": 27,
   "metadata": {},
   "outputs": [
    {
     "data": {
      "text/plain": [
       "0.03760800251402664"
      ]
     },
     "execution_count": 27,
     "metadata": {},
     "output_type": "execute_result"
    }
   ],
   "source": [
    "df['model'].isna().mean()"
   ]
  },
  {
   "cell_type": "code",
   "execution_count": 28,
   "metadata": {},
   "outputs": [
    {
     "data": {
      "text/plain": [
       "249"
      ]
     },
     "execution_count": 28,
     "metadata": {},
     "output_type": "execute_result"
    }
   ],
   "source": [
    "len(df.groupby(['model']))"
   ]
  },
  {
   "cell_type": "markdown",
   "metadata": {},
   "source": [
    "Пропуски в model удалим, так как от модели цена будет зависеть сильнее всего, а уникальных значений в этом поле довольно много - 249шт. В то же время пропусков относительно немного - 3.76%"
   ]
  },
  {
   "cell_type": "code",
   "execution_count": 29,
   "metadata": {},
   "outputs": [],
   "source": [
    "df = df.dropna(subset = ['model'])"
   ]
  },
  {
   "cell_type": "markdown",
   "metadata": {},
   "source": [
    "### Обработка признака gearbox"
   ]
  },
  {
   "cell_type": "markdown",
   "metadata": {},
   "source": [
    "Посмотрим на соотношение автомобилей с автоматической и механической коробками:"
   ]
  },
  {
   "cell_type": "code",
   "execution_count": 30,
   "metadata": {},
   "outputs": [
    {
     "data": {
      "image/png": "[encoded data removed]",
      "text/plain": [
       "<Figure size 864x432 with 1 Axes>"
      ]
     },
     "metadata": {},
     "output_type": "display_data"
    }
   ],
   "source": [
    "plt.figure(figsize=(12, 6))\n",
    "df['gearbox'].value_counts().plot.pie(autopct=\"%.1f%%\")\n",
    "plt.title('Автоматическая vs механическая коробка передач');"
   ]
  },
  {
   "cell_type": "markdown",
   "metadata": {},
   "source": [
    "Обработаем пропуски в gearbox:"
   ]
  },
  {
   "cell_type": "code",
   "execution_count": 31,
   "metadata": {},
   "outputs": [
    {
     "data": {
      "text/plain": [
       "0.023205899618432637"
      ]
     },
     "execution_count": 31,
     "metadata": {},
     "output_type": "execute_result"
    }
   ],
   "source": [
    "df['gearbox'].isna().mean()"
   ]
  },
  {
   "cell_type": "markdown",
   "metadata": {},
   "source": [
    "Осталось всего 2.3% пропусков"
   ]
  },
  {
   "cell_type": "code",
   "execution_count": 32,
   "metadata": {},
   "outputs": [
    {
     "data": {
      "text/plain": [
       "auto       7252.173792\n",
       "manual     4366.338589\n",
       "no_data    3295.668933\n",
       "dtype: float64"
      ]
     },
     "execution_count": 32,
     "metadata": {},
     "output_type": "execute_result"
    }
   ],
   "source": [
    "gearbox_table = df.groupby('gearbox')['price'].mean().sort_values(ascending = False)\n",
    "gearbox_table = gearbox_table.append(pd.Series(df[df['gearbox'].isna()]['price'].mean()).rename({0:'no_data'}))\n",
    "gearbox_table"
   ]
  },
  {
   "cell_type": "code",
   "execution_count": 33,
   "metadata": {},
   "outputs": [
    {
     "data": {
      "image/png": "[encoded data removed]",
      "text/plain": [
       "<Figure size 720x360 with 1 Axes>"
      ]
     },
     "metadata": {},
     "output_type": "display_data"
    }
   ],
   "source": [
    "gearbox_table.plot(kind='barh', figsize=(10, 5))\n",
    "plt.title('Цена автомобиля в зависимости от коробки передач')\n",
    "plt.xlabel('Средняя цена автомобиля, евро')\n",
    "plt.xticks(np.arange(0, gearbox_table.max(), 1000));"
   ]
  },
  {
   "cell_type": "markdown",
   "metadata": {},
   "source": [
    "Средняя цена авто с автоматической коробкой на 66% выше, чем с механической. При этом по пропускам снова наблюдается ситуация с заниженным средним значением целевого признака (-25% от механики). Лучшим решением вижу удаление пропусков."
   ]
  },
  {
   "cell_type": "code",
   "execution_count": 34,
   "metadata": {},
   "outputs": [],
   "source": [
    "df = df.dropna(subset = ['gearbox'])"
   ]
  },
  {
   "cell_type": "markdown",
   "metadata": {},
   "source": [
    "Также в gearbox есть возможность трансформировать тип данных в булев:"
   ]
  },
  {
   "cell_type": "code",
   "execution_count": 35,
   "metadata": {},
   "outputs": [],
   "source": [
    "df['gearbox'] = (df['gearbox'].replace({'auto': 1, 'manual' : 0})).astype('bool')"
   ]
  },
  {
   "cell_type": "markdown",
   "metadata": {},
   "source": [
    "Автоматическая коробка - это теперь \"1\" или \"True\", переименуем столбец чтобы было интуитивно понятно:"
   ]
  },
  {
   "cell_type": "code",
   "execution_count": 36,
   "metadata": {},
   "outputs": [],
   "source": [
    "df = df.rename(columns = {'gearbox': 'isautogearbox'})"
   ]
  },
  {
   "cell_type": "markdown",
   "metadata": {},
   "source": [
    "### Измнение типов данных, обработка признаков postalcode и numberofpictures"
   ]
  },
  {
   "cell_type": "markdown",
   "metadata": {},
   "source": [
    "Проверим остались ли пропуски и перейдем к типам данных:"
   ]
  },
  {
   "cell_type": "code",
   "execution_count": 37,
   "metadata": {},
   "outputs": [
    {
     "data": {
      "text/plain": [
       "datecrawled          0\n",
       "price                0\n",
       "vehicletype          0\n",
       "registrationyear     0\n",
       "isautogearbox        0\n",
       "power                0\n",
       "model                0\n",
       "kilometer            0\n",
       "registrationmonth    0\n",
       "fueltype             0\n",
       "brand                0\n",
       "notrepaired          0\n",
       "datecreated          0\n",
       "numberofpictures     0\n",
       "postalcode           0\n",
       "lastseen             0\n",
       "dtype: int64"
      ]
     },
     "execution_count": 37,
     "metadata": {},
     "output_type": "execute_result"
    }
   ],
   "source": [
    "df.isna().sum()"
   ]
  },
  {
   "cell_type": "code",
   "execution_count": 38,
   "metadata": {},
   "outputs": [
    {
     "name": "stdout",
     "output_type": "stream",
     "text": [
      "<class 'pandas.core.frame.DataFrame'>\n",
      "Int64Index: 266235 entries, 3 to 354367\n",
      "Data columns (total 16 columns):\n",
      " #   Column             Non-Null Count   Dtype \n",
      "---  ------             --------------   ----- \n",
      " 0   datecrawled        266235 non-null  object\n",
      " 1   price              266235 non-null  int64 \n",
      " 2   vehicletype        266235 non-null  object\n",
      " 3   registrationyear   266235 non-null  int64 \n",
      " 4   isautogearbox      266235 non-null  bool  \n",
      " 5   power              266235 non-null  int64 \n",
      " 6   model              266235 non-null  object\n",
      " 7   kilometer          266235 non-null  int64 \n",
      " 8   registrationmonth  266235 non-null  int64 \n",
      " 9   fueltype           266235 non-null  object\n",
      " 10  brand              266235 non-null  object\n",
      " 11  notrepaired        266235 non-null  bool  \n",
      " 12  datecreated        266235 non-null  object\n",
      " 13  numberofpictures   266235 non-null  int64 \n",
      " 14  postalcode         266235 non-null  int64 \n",
      " 15  lastseen           266235 non-null  object\n",
      "dtypes: bool(2), int64(7), object(7)\n",
      "memory usage: 31.0+ MB\n"
     ]
    }
   ],
   "source": [
    "df.info()"
   ]
  },
  {
   "cell_type": "markdown",
   "metadata": {},
   "source": [
    "Прежде чем снизить разрядность целочисленного типа, посмотрим на разброс значений в признаках этого типа. Удобнее всего сделать это при помощи метода describe:"
   ]
  },
  {
   "cell_type": "code",
   "execution_count": 39,
   "metadata": {},
   "outputs": [
    {
     "data": {
      "text/html": [
       "<div>\n",
       "<style scoped>\n",
       "    .dataframe tbody tr th:only-of-type {\n",
       "        vertical-align: middle;\n",
       "    }\n",
       "\n",
       "    .dataframe tbody tr th {\n",
       "        vertical-align: top;\n",
       "    }\n",
       "\n",
       "    .dataframe thead th {\n",
       "        text-align: right;\n",
       "    }\n",
       "</style>\n",
       "<table border=\"1\" class=\"dataframe\">\n",
       "  <thead>\n",
       "    <tr style=\"text-align: right;\">\n",
       "      <th></th>\n",
       "      <th>price</th>\n",
       "      <th>registrationyear</th>\n",
       "      <th>power</th>\n",
       "      <th>kilometer</th>\n",
       "      <th>registrationmonth</th>\n",
       "      <th>numberofpictures</th>\n",
       "      <th>postalcode</th>\n",
       "    </tr>\n",
       "  </thead>\n",
       "  <tbody>\n",
       "    <tr>\n",
       "      <th>count</th>\n",
       "      <td>266235.000000</td>\n",
       "      <td>266235.000000</td>\n",
       "      <td>266235.000000</td>\n",
       "      <td>266235.000000</td>\n",
       "      <td>266235.000000</td>\n",
       "      <td>266235.0</td>\n",
       "      <td>266235.000000</td>\n",
       "    </tr>\n",
       "    <tr>\n",
       "      <th>mean</th>\n",
       "      <td>4952.740823</td>\n",
       "      <td>2003.484583</td>\n",
       "      <td>118.281304</td>\n",
       "      <td>127741.731929</td>\n",
       "      <td>6.083870</td>\n",
       "      <td>0.0</td>\n",
       "      <td>51177.291461</td>\n",
       "    </tr>\n",
       "    <tr>\n",
       "      <th>std</th>\n",
       "      <td>4674.546085</td>\n",
       "      <td>23.131105</td>\n",
       "      <td>160.519552</td>\n",
       "      <td>36957.895885</td>\n",
       "      <td>3.533278</td>\n",
       "      <td>0.0</td>\n",
       "      <td>25850.990825</td>\n",
       "    </tr>\n",
       "    <tr>\n",
       "      <th>min</th>\n",
       "      <td>0.000000</td>\n",
       "      <td>1600.000000</td>\n",
       "      <td>0.000000</td>\n",
       "      <td>5000.000000</td>\n",
       "      <td>0.000000</td>\n",
       "      <td>0.0</td>\n",
       "      <td>1067.000000</td>\n",
       "    </tr>\n",
       "    <tr>\n",
       "      <th>25%</th>\n",
       "      <td>1350.000000</td>\n",
       "      <td>1999.000000</td>\n",
       "      <td>75.000000</td>\n",
       "      <td>125000.000000</td>\n",
       "      <td>3.000000</td>\n",
       "      <td>0.0</td>\n",
       "      <td>30827.000000</td>\n",
       "    </tr>\n",
       "    <tr>\n",
       "      <th>50%</th>\n",
       "      <td>3300.000000</td>\n",
       "      <td>2004.000000</td>\n",
       "      <td>110.000000</td>\n",
       "      <td>150000.000000</td>\n",
       "      <td>6.000000</td>\n",
       "      <td>0.0</td>\n",
       "      <td>50259.000000</td>\n",
       "    </tr>\n",
       "    <tr>\n",
       "      <th>75%</th>\n",
       "      <td>7200.000000</td>\n",
       "      <td>2008.000000</td>\n",
       "      <td>150.000000</td>\n",
       "      <td>150000.000000</td>\n",
       "      <td>9.000000</td>\n",
       "      <td>0.0</td>\n",
       "      <td>72124.000000</td>\n",
       "    </tr>\n",
       "    <tr>\n",
       "      <th>max</th>\n",
       "      <td>20000.000000</td>\n",
       "      <td>9000.000000</td>\n",
       "      <td>20000.000000</td>\n",
       "      <td>150000.000000</td>\n",
       "      <td>12.000000</td>\n",
       "      <td>0.0</td>\n",
       "      <td>99998.000000</td>\n",
       "    </tr>\n",
       "  </tbody>\n",
       "</table>\n",
       "</div>"
      ],
      "text/plain": [
       "               price  registrationyear          power      kilometer  \\\n",
       "count  266235.000000     266235.000000  266235.000000  266235.000000   \n",
       "mean     4952.740823       2003.484583     118.281304  127741.731929   \n",
       "std      4674.546085         23.131105     160.519552   36957.895885   \n",
       "min         0.000000       1600.000000       0.000000    5000.000000   \n",
       "25%      1350.000000       1999.000000      75.000000  125000.000000   \n",
       "50%      3300.000000       2004.000000     110.000000  150000.000000   \n",
       "75%      7200.000000       2008.000000     150.000000  150000.000000   \n",
       "max     20000.000000       9000.000000   20000.000000  150000.000000   \n",
       "\n",
       "       registrationmonth  numberofpictures     postalcode  \n",
       "count      266235.000000          266235.0  266235.000000  \n",
       "mean            6.083870               0.0   51177.291461  \n",
       "std             3.533278               0.0   25850.990825  \n",
       "min             0.000000               0.0    1067.000000  \n",
       "25%             3.000000               0.0   30827.000000  \n",
       "50%             6.000000               0.0   50259.000000  \n",
       "75%             9.000000               0.0   72124.000000  \n",
       "max            12.000000               0.0   99998.000000  "
      ]
     },
     "execution_count": 39,
     "metadata": {},
     "output_type": "execute_result"
    }
   ],
   "source": [
    "df.describe()"
   ]
  },
  {
   "cell_type": "markdown",
   "metadata": {},
   "source": [
    "Отмечу, что заметна предобработка данных: максимальная цена ограничена 20000 евро, пробег 150 тыс. километров. При этом ограничение по пробегу выглядит лишним, максимальное значение совпадает даже с медианой, из чего следует, распределение значений на графике будет сильно скошено влево, хотя могло бы быть близким к нормальному - признак вполне подходящий. Дополнительно я бы очистил выбросы в registrationyear и, возможно, в power. Сделаю это после изменения типов данных. Также можно удалить numberofpictures потому что признак содержит только нули. Из postalcode хоть и не связан с целевым признаком очевидным образом, но его можно использовать как признак географии авто, для этого оставим только первую цифру чтобы уменьшить количество категорий."
   ]
  },
  {
   "cell_type": "code",
   "execution_count": 40,
   "metadata": {},
   "outputs": [],
   "source": [
    "df = df.drop('numberofpictures', axis = 1)"
   ]
  },
  {
   "cell_type": "markdown",
   "metadata": {},
   "source": [
    "Максимальное значение в int32 - 2,147,483,647. Максимальное значение в нашем датасете - 150,000. Изменим типы:"
   ]
  },
  {
   "cell_type": "code",
   "execution_count": 41,
   "metadata": {},
   "outputs": [],
   "source": [
    "df['price'] = df['price'].astype('int32')\n",
    "df['registrationyear'] = df['registrationyear'].astype('int32')\n",
    "df['power'] = df['power'].astype('int32')\n",
    "df['kilometer'] = df['kilometer'].astype('int32')\n",
    "df['registrationmonth'] = df['registrationmonth'].astype('int32')"
   ]
  },
  {
   "cell_type": "code",
   "execution_count": 42,
   "metadata": {},
   "outputs": [
    {
     "name": "stdout",
     "output_type": "stream",
     "text": [
      "<class 'pandas.core.frame.DataFrame'>\n",
      "Int64Index: 266235 entries, 3 to 354367\n",
      "Data columns (total 15 columns):\n",
      " #   Column             Non-Null Count   Dtype \n",
      "---  ------             --------------   ----- \n",
      " 0   datecrawled        266235 non-null  object\n",
      " 1   price              266235 non-null  int32 \n",
      " 2   vehicletype        266235 non-null  object\n",
      " 3   registrationyear   266235 non-null  int32 \n",
      " 4   isautogearbox      266235 non-null  bool  \n",
      " 5   power              266235 non-null  int32 \n",
      " 6   model              266235 non-null  object\n",
      " 7   kilometer          266235 non-null  int32 \n",
      " 8   registrationmonth  266235 non-null  int32 \n",
      " 9   fueltype           266235 non-null  object\n",
      " 10  brand              266235 non-null  object\n",
      " 11  notrepaired        266235 non-null  bool  \n",
      " 12  datecreated        266235 non-null  object\n",
      " 13  postalcode         266235 non-null  int64 \n",
      " 14  lastseen           266235 non-null  object\n",
      "dtypes: bool(2), int32(5), int64(1), object(7)\n",
      "memory usage: 23.9+ MB\n"
     ]
    }
   ],
   "source": [
    "df.info()"
   ]
  },
  {
   "cell_type": "markdown",
   "metadata": {},
   "source": [
    "## Создание новых признаков"
   ]
  },
  {
   "cell_type": "markdown",
   "metadata": {},
   "source": [
    "Чтобы добиться более высокого качества при моделировании цен, создадим следующие признаки на основе существующих:\n",
    "* Признак географии - первая цифра от postalcode\n",
    "* Количество времени, которое объявление было размещено на сайте - получим в результате преобразования и вычета разницы между признаками datecreated и lastseen\n",
    "* Признак принадлежности автомобиля к ретрокарам\n",
    "<br> Идея в следующем: \n",
    "<br> 1) Признак географии может помочь определить место жительства владельница, от региона может зависеть цена продажи автомобиля, особенно если речь идёт о разных станах ЕС\n",
    "<br> 2) Количество времени, которое объявление \"провисело\" на сайте может говорить о переоценности тех авто, объявления на которые не закрываются в течение длительного времени. Ожидаю увидеть слабоположительную корреляцию нового признака и цены.\n",
    "<br> 3) Признак принадлежности автомобиля к ретрокарам - ценообразование на старые автомобили может существенно отличаться от интуитивно понятного. Если не создать признак, то увеличение возраста автомобиля будет однозначно означать ухудшение цены за которую можно продать авто, хотя в реальности это не всегда так"
   ]
  },
  {
   "cell_type": "markdown",
   "metadata": {},
   "source": [
    "Создадим признак времени жизни объявления. Изменим тип данных в datecreated и lastseen на дейттайм:"
   ]
  },
  {
   "cell_type": "code",
   "execution_count": 43,
   "metadata": {},
   "outputs": [],
   "source": [
    "df['datecreated'] = pd.to_datetime(df['datecreated'])\n",
    "df['lastseen'] = pd.to_datetime(df['lastseen'])"
   ]
  },
  {
   "cell_type": "code",
   "execution_count": 44,
   "metadata": {},
   "outputs": [
    {
     "name": "stdout",
     "output_type": "stream",
     "text": [
      "<class 'pandas.core.frame.DataFrame'>\n",
      "Int64Index: 266235 entries, 3 to 354367\n",
      "Data columns (total 15 columns):\n",
      " #   Column             Non-Null Count   Dtype         \n",
      "---  ------             --------------   -----         \n",
      " 0   datecrawled        266235 non-null  object        \n",
      " 1   price              266235 non-null  int32         \n",
      " 2   vehicletype        266235 non-null  object        \n",
      " 3   registrationyear   266235 non-null  int32         \n",
      " 4   isautogearbox      266235 non-null  bool          \n",
      " 5   power              266235 non-null  int32         \n",
      " 6   model              266235 non-null  object        \n",
      " 7   kilometer          266235 non-null  int32         \n",
      " 8   registrationmonth  266235 non-null  int32         \n",
      " 9   fueltype           266235 non-null  object        \n",
      " 10  brand              266235 non-null  object        \n",
      " 11  notrepaired        266235 non-null  bool          \n",
      " 12  datecreated        266235 non-null  datetime64[ns]\n",
      " 13  postalcode         266235 non-null  int64         \n",
      " 14  lastseen           266235 non-null  datetime64[ns]\n",
      "dtypes: bool(2), datetime64[ns](2), int32(5), int64(1), object(5)\n",
      "memory usage: 23.9+ MB\n"
     ]
    }
   ],
   "source": [
    "df.info()"
   ]
  },
  {
   "cell_type": "markdown",
   "metadata": {},
   "source": [
    "Создадим новый признак - разница между созданием объявления и последним просмотром:"
   ]
  },
  {
   "cell_type": "code",
   "execution_count": 45,
   "metadata": {},
   "outputs": [],
   "source": [
    "df['lifetime'] = df['lastseen'] - df['datecreated']"
   ]
  },
  {
   "cell_type": "code",
   "execution_count": 46,
   "metadata": {},
   "outputs": [
    {
     "data": {
      "text/plain": [
       "count                     266235\n",
       "mean      9 days 10:56:35.180152\n",
       "std       8 days 13:56:27.333313\n",
       "min              0 days 00:25:36\n",
       "25%       2 days 14:56:37.500000\n",
       "50%              6 days 14:56:03\n",
       "75%      14 days 05:15:48.500000\n",
       "max            384 days 03:45:01\n",
       "Name: lifetime, dtype: object"
      ]
     },
     "execution_count": 46,
     "metadata": {},
     "output_type": "execute_result"
    }
   ],
   "source": [
    "df['lifetime'].describe()"
   ]
  },
  {
   "cell_type": "markdown",
   "metadata": {},
   "source": [
    "* В среднем, срок жизни объявления на сайте чуть меньше 10 дней, при этом медиана 6.5 дней, что говорит о длинном хвосте распределения (распределение Пуассона). На мой взгляд, при очистке выбросов, лучше вообще избавиться от объявлений, которые висят на сайте аномально долго. Остальные же модель будет учитывать при обучении определять цену."
   ]
  },
  {
   "cell_type": "markdown",
   "metadata": {},
   "source": [
    "Извлечем дни из таймдельта формата:"
   ]
  },
  {
   "cell_type": "code",
   "execution_count": 47,
   "metadata": {},
   "outputs": [],
   "source": [
    "df['lifetime'] = df['lifetime'].dt.days"
   ]
  },
  {
   "cell_type": "code",
   "execution_count": 48,
   "metadata": {},
   "outputs": [
    {
     "data": {
      "text/plain": [
       "count    266235.000000\n",
       "mean          8.941326\n",
       "std           8.614969\n",
       "min           0.000000\n",
       "25%           2.000000\n",
       "50%           6.000000\n",
       "75%          14.000000\n",
       "max         384.000000\n",
       "Name: lifetime, dtype: float64"
      ]
     },
     "execution_count": 48,
     "metadata": {},
     "output_type": "execute_result"
    }
   ],
   "source": [
    "df['lifetime'].describe()"
   ]
  },
  {
   "cell_type": "code",
   "execution_count": 49,
   "metadata": {},
   "outputs": [],
   "source": [
    "df['lifetime'] = df['lifetime'].astype('int32')"
   ]
  },
  {
   "cell_type": "markdown",
   "metadata": {},
   "source": [
    "Удалим теперь уже ненужные признаки:"
   ]
  },
  {
   "cell_type": "code",
   "execution_count": 50,
   "metadata": {},
   "outputs": [],
   "source": [
    "df = df.drop(columns=['datecreated', 'lastseen'], axis = 1)"
   ]
  },
  {
   "cell_type": "markdown",
   "metadata": {},
   "source": [
    "Создадим признак географии. Проверим какими бывают коды:"
   ]
  },
  {
   "cell_type": "code",
   "execution_count": 51,
   "metadata": {},
   "outputs": [
    {
     "data": {
      "text/plain": [
       "count    266235.000000\n",
       "mean      51177.291461\n",
       "std       25850.990825\n",
       "min        1067.000000\n",
       "25%       30827.000000\n",
       "50%       50259.000000\n",
       "75%       72124.000000\n",
       "max       99998.000000\n",
       "Name: postalcode, dtype: float64"
      ]
     },
     "execution_count": 51,
     "metadata": {},
     "output_type": "execute_result"
    }
   ],
   "source": [
    "df['postalcode'].describe()"
   ]
  },
  {
   "cell_type": "markdown",
   "metadata": {},
   "source": [
    "Почтовый код, как правило, пятизначный, но есть и четырехзначные значения. Их заменим на нули. В пятизначных кодах оставим только первую цифру чтобы уменьшить количество классов. Затем оставим только первую цифру чтобы уменьшить количество классов."
   ]
  },
  {
   "cell_type": "code",
   "execution_count": 52,
   "metadata": {},
   "outputs": [],
   "source": [
    "# Вычитаю 10000 (минимальное пятизначное значение) чтобы вывести все четырехзначные числа в отрицательную шкалу:\n",
    "df['postalcode'] = df['postalcode'] - 10000\n",
    "# Обнуляю все отрицательные числа:\n",
    "df['postalcode'][df['postalcode'] < 0] = 0\n",
    "# Возвращаю 10000 всем необнуленным объектам:\n",
    "df['postalcode'][df['postalcode'] > 0] = df['postalcode'][df['postalcode'] > 0] + 10000\n",
    "# Оставляю только первую цифру путем конвертации в строковое значение и обратно:\n",
    "df['postalcode'] = df.postalcode.astype(str).str[0].astype('int8')"
   ]
  },
  {
   "cell_type": "markdown",
   "metadata": {},
   "source": [
    "Посмотрим на получившиеся признаки:"
   ]
  },
  {
   "cell_type": "code",
   "execution_count": 53,
   "metadata": {},
   "outputs": [
    {
     "data": {
      "text/html": [
       "<div>\n",
       "<style scoped>\n",
       "    .dataframe tbody tr th:only-of-type {\n",
       "        vertical-align: middle;\n",
       "    }\n",
       "\n",
       "    .dataframe tbody tr th {\n",
       "        vertical-align: top;\n",
       "    }\n",
       "\n",
       "    .dataframe thead th {\n",
       "        text-align: right;\n",
       "    }\n",
       "</style>\n",
       "<table border=\"1\" class=\"dataframe\">\n",
       "  <thead>\n",
       "    <tr style=\"text-align: right;\">\n",
       "      <th></th>\n",
       "      <th>lifetime</th>\n",
       "      <th>postalcode</th>\n",
       "    </tr>\n",
       "  </thead>\n",
       "  <tbody>\n",
       "    <tr>\n",
       "      <th>3</th>\n",
       "      <td>0</td>\n",
       "      <td>9</td>\n",
       "    </tr>\n",
       "    <tr>\n",
       "      <th>4</th>\n",
       "      <td>6</td>\n",
       "      <td>6</td>\n",
       "    </tr>\n",
       "    <tr>\n",
       "      <th>5</th>\n",
       "      <td>2</td>\n",
       "      <td>3</td>\n",
       "    </tr>\n",
       "    <tr>\n",
       "      <th>6</th>\n",
       "      <td>4</td>\n",
       "      <td>6</td>\n",
       "    </tr>\n",
       "    <tr>\n",
       "      <th>7</th>\n",
       "      <td>4</td>\n",
       "      <td>1</td>\n",
       "    </tr>\n",
       "    <tr>\n",
       "      <th>10</th>\n",
       "      <td>11</td>\n",
       "      <td>9</td>\n",
       "    </tr>\n",
       "    <tr>\n",
       "      <th>11</th>\n",
       "      <td>0</td>\n",
       "      <td>5</td>\n",
       "    </tr>\n",
       "    <tr>\n",
       "      <th>13</th>\n",
       "      <td>2</td>\n",
       "      <td>9</td>\n",
       "    </tr>\n",
       "    <tr>\n",
       "      <th>14</th>\n",
       "      <td>16</td>\n",
       "      <td>0</td>\n",
       "    </tr>\n",
       "    <tr>\n",
       "      <th>17</th>\n",
       "      <td>17</td>\n",
       "      <td>6</td>\n",
       "    </tr>\n",
       "  </tbody>\n",
       "</table>\n",
       "</div>"
      ],
      "text/plain": [
       "    lifetime  postalcode\n",
       "3          0           9\n",
       "4          6           6\n",
       "5          2           3\n",
       "6          4           6\n",
       "7          4           1\n",
       "10        11           9\n",
       "11         0           5\n",
       "13         2           9\n",
       "14        16           0\n",
       "17        17           6"
      ]
     },
     "execution_count": 53,
     "metadata": {},
     "output_type": "execute_result"
    }
   ],
   "source": [
    "df[['lifetime', 'postalcode']].head(10)"
   ]
  },
  {
   "cell_type": "markdown",
   "metadata": {},
   "source": [
    "Добавим признак принадлежности автомобиля к ретрокарам. Краткий ресерч данного вопроса в google позволил понять, что в разных странах разное определение понятия ретрокара. Где-то есть чёткая граница и организация, которая официально признаёт автомобиль историческим при определенных условиях, а где-то нет. В качестве компромисса добавим 2 признака:\n",
    "<br> 1) Принадлежность к классическому авто - автомобилем возрастом от 20 до 40 лет. В некоторых странах действует особый режим налогооблажения для таких авто и другие условия страховки.\n",
    "<br> 2) Исторический авто - автомобиль старше 40 лет"
   ]
  },
  {
   "cell_type": "markdown",
   "metadata": {},
   "source": [
    "Посмотрим какая у нас актуальная дата сбора информация из датасета (этот признак заполняется автоматически, в то время как в registrationyear могут быть выбросы в большую сторону из-за заполнения поля пользователем):"
   ]
  },
  {
   "cell_type": "code",
   "execution_count": 54,
   "metadata": {},
   "outputs": [
    {
     "data": {
      "text/plain": [
       "'2016-04-07 14:36:58'"
      ]
     },
     "execution_count": 54,
     "metadata": {},
     "output_type": "execute_result"
    }
   ],
   "source": [
    "df['datecrawled'].max()"
   ]
  },
  {
   "cell_type": "markdown",
   "metadata": {},
   "source": [
    "Создадим сами признаки, где 1 - принадлежность к данному классу:"
   ]
  },
  {
   "cell_type": "code",
   "execution_count": 55,
   "metadata": {},
   "outputs": [],
   "source": [
    "df['isretro'] = df['registrationyear'][df['registrationyear'] < 1977]\n",
    "df['isretro'] = df['isretro'].fillna(0)\n",
    "df['isretro'][df['isretro'] > 0] = 1\n",
    "\n",
    "df['isclassic'] = df['registrationyear'][(df['registrationyear'] < 1997) & (df['registrationyear'] >= 1977)]\n",
    "df['isclassic'] = df['isclassic'].fillna(0)\n",
    "df['isclassic'][df['isclassic'] > 0] = 1"
   ]
  },
  {
   "cell_type": "markdown",
   "metadata": {},
   "source": [
    "Изменим типы данных у новых признаков:"
   ]
  },
  {
   "cell_type": "code",
   "execution_count": 56,
   "metadata": {},
   "outputs": [],
   "source": [
    "df['isretro'] = df['isretro'].astype('bool')\n",
    "df['isclassic'] = df['isclassic'].astype('bool')"
   ]
  },
  {
   "cell_type": "code",
   "execution_count": 57,
   "metadata": {},
   "outputs": [
    {
     "data": {
      "text/html": [
       "<div>\n",
       "<style scoped>\n",
       "    .dataframe tbody tr th:only-of-type {\n",
       "        vertical-align: middle;\n",
       "    }\n",
       "\n",
       "    .dataframe tbody tr th {\n",
       "        vertical-align: top;\n",
       "    }\n",
       "\n",
       "    .dataframe thead th {\n",
       "        text-align: right;\n",
       "    }\n",
       "</style>\n",
       "<table border=\"1\" class=\"dataframe\">\n",
       "  <thead>\n",
       "    <tr style=\"text-align: right;\">\n",
       "      <th></th>\n",
       "      <th>datecrawled</th>\n",
       "      <th>price</th>\n",
       "      <th>vehicletype</th>\n",
       "      <th>registrationyear</th>\n",
       "      <th>isautogearbox</th>\n",
       "      <th>power</th>\n",
       "      <th>model</th>\n",
       "      <th>kilometer</th>\n",
       "      <th>registrationmonth</th>\n",
       "      <th>fueltype</th>\n",
       "      <th>brand</th>\n",
       "      <th>notrepaired</th>\n",
       "      <th>postalcode</th>\n",
       "      <th>lifetime</th>\n",
       "      <th>isretro</th>\n",
       "      <th>isclassic</th>\n",
       "    </tr>\n",
       "  </thead>\n",
       "  <tbody>\n",
       "    <tr>\n",
       "      <th>3</th>\n",
       "      <td>2016-03-17 16:54:04</td>\n",
       "      <td>1500</td>\n",
       "      <td>small</td>\n",
       "      <td>2001</td>\n",
       "      <td>False</td>\n",
       "      <td>75</td>\n",
       "      <td>golf</td>\n",
       "      <td>150000</td>\n",
       "      <td>6</td>\n",
       "      <td>petrol</td>\n",
       "      <td>volkswagen</td>\n",
       "      <td>False</td>\n",
       "      <td>9</td>\n",
       "      <td>0</td>\n",
       "      <td>False</td>\n",
       "      <td>False</td>\n",
       "    </tr>\n",
       "    <tr>\n",
       "      <th>4</th>\n",
       "      <td>2016-03-31 17:25:20</td>\n",
       "      <td>3600</td>\n",
       "      <td>small</td>\n",
       "      <td>2008</td>\n",
       "      <td>False</td>\n",
       "      <td>69</td>\n",
       "      <td>fabia</td>\n",
       "      <td>90000</td>\n",
       "      <td>7</td>\n",
       "      <td>gasoline</td>\n",
       "      <td>skoda</td>\n",
       "      <td>False</td>\n",
       "      <td>6</td>\n",
       "      <td>6</td>\n",
       "      <td>False</td>\n",
       "      <td>False</td>\n",
       "    </tr>\n",
       "    <tr>\n",
       "      <th>5</th>\n",
       "      <td>2016-04-04 17:36:23</td>\n",
       "      <td>650</td>\n",
       "      <td>sedan</td>\n",
       "      <td>1995</td>\n",
       "      <td>False</td>\n",
       "      <td>102</td>\n",
       "      <td>3er</td>\n",
       "      <td>150000</td>\n",
       "      <td>10</td>\n",
       "      <td>petrol</td>\n",
       "      <td>bmw</td>\n",
       "      <td>True</td>\n",
       "      <td>3</td>\n",
       "      <td>2</td>\n",
       "      <td>False</td>\n",
       "      <td>True</td>\n",
       "    </tr>\n",
       "    <tr>\n",
       "      <th>6</th>\n",
       "      <td>2016-04-01 20:48:51</td>\n",
       "      <td>2200</td>\n",
       "      <td>convertible</td>\n",
       "      <td>2004</td>\n",
       "      <td>False</td>\n",
       "      <td>109</td>\n",
       "      <td>2_reihe</td>\n",
       "      <td>150000</td>\n",
       "      <td>8</td>\n",
       "      <td>petrol</td>\n",
       "      <td>peugeot</td>\n",
       "      <td>False</td>\n",
       "      <td>6</td>\n",
       "      <td>4</td>\n",
       "      <td>False</td>\n",
       "      <td>False</td>\n",
       "    </tr>\n",
       "    <tr>\n",
       "      <th>7</th>\n",
       "      <td>2016-03-21 18:54:38</td>\n",
       "      <td>0</td>\n",
       "      <td>sedan</td>\n",
       "      <td>1980</td>\n",
       "      <td>False</td>\n",
       "      <td>50</td>\n",
       "      <td>other</td>\n",
       "      <td>40000</td>\n",
       "      <td>7</td>\n",
       "      <td>petrol</td>\n",
       "      <td>volkswagen</td>\n",
       "      <td>False</td>\n",
       "      <td>1</td>\n",
       "      <td>4</td>\n",
       "      <td>False</td>\n",
       "      <td>True</td>\n",
       "    </tr>\n",
       "  </tbody>\n",
       "</table>\n",
       "</div>"
      ],
      "text/plain": [
       "           datecrawled  price  vehicletype  registrationyear  isautogearbox  \\\n",
       "3  2016-03-17 16:54:04   1500        small              2001          False   \n",
       "4  2016-03-31 17:25:20   3600        small              2008          False   \n",
       "5  2016-04-04 17:36:23    650        sedan              1995          False   \n",
       "6  2016-04-01 20:48:51   2200  convertible              2004          False   \n",
       "7  2016-03-21 18:54:38      0        sedan              1980          False   \n",
       "\n",
       "   power    model  kilometer  registrationmonth  fueltype       brand  \\\n",
       "3     75     golf     150000                  6    petrol  volkswagen   \n",
       "4     69    fabia      90000                  7  gasoline       skoda   \n",
       "5    102      3er     150000                 10    petrol         bmw   \n",
       "6    109  2_reihe     150000                  8    petrol     peugeot   \n",
       "7     50    other      40000                  7    petrol  volkswagen   \n",
       "\n",
       "   notrepaired  postalcode  lifetime  isretro  isclassic  \n",
       "3        False           9         0    False      False  \n",
       "4        False           6         6    False      False  \n",
       "5         True           3         2    False       True  \n",
       "6        False           6         4    False      False  \n",
       "7        False           1         4    False       True  "
      ]
     },
     "execution_count": 57,
     "metadata": {},
     "output_type": "execute_result"
    }
   ],
   "source": [
    "df.head()"
   ]
  },
  {
   "cell_type": "markdown",
   "metadata": {},
   "source": [
    "## Работа с выбросами, удаление лишних признаков"
   ]
  },
  {
   "cell_type": "code",
   "execution_count": 58,
   "metadata": {},
   "outputs": [
    {
     "data": {
      "text/plain": [
       "Index(['datecrawled', 'price', 'vehicletype', 'registrationyear',\n",
       "       'isautogearbox', 'power', 'model', 'kilometer', 'registrationmonth',\n",
       "       'fueltype', 'brand', 'notrepaired', 'postalcode', 'lifetime', 'isretro',\n",
       "       'isclassic'],\n",
       "      dtype='object')"
      ]
     },
     "execution_count": 58,
     "metadata": {},
     "output_type": "execute_result"
    }
   ],
   "source": [
    "df.columns"
   ]
  },
  {
   "cell_type": "markdown",
   "metadata": {},
   "source": [
    "Посмотрим на распределения числовых признаков:"
   ]
  },
  {
   "cell_type": "code",
   "execution_count": 59,
   "metadata": {},
   "outputs": [
    {
     "data": {
      "image/png": "[encoded data removed]",
      "text/plain": [
       "<Figure size 864x864 with 4 Axes>"
      ]
     },
     "metadata": {},
     "output_type": "display_data"
    }
   ],
   "source": [
    "df[['price', 'registrationyear', 'power', 'kilometer']].hist(figsize=(12, 12), bins=12);"
   ]
  },
  {
   "cell_type": "markdown",
   "metadata": {},
   "source": [
    "* В kilometr виден большой перекос значений равных 150к (максимум), что уже было выявлено методом describe\n",
    "* В power и registrationyear графики искажены из-за наличия выбросов\n",
    "* В целевом признаке (price) распределение скошено влево, вероятно присутствует много нулевых значений"
   ]
  },
  {
   "cell_type": "markdown",
   "metadata": {},
   "source": [
    "Прежде чем перейти к очистке выбросов посмотрим на распределения через scatterplot. Также добавим признак месяца регистрации, возможно его стоит удалить:"
   ]
  },
  {
   "cell_type": "code",
   "execution_count": 60,
   "metadata": {},
   "outputs": [
    {
     "data": {
      "image/png": "[encoded data removed]",
      "text/plain": [
       "<Figure size 864x864 with 4 Axes>"
      ]
     },
     "metadata": {},
     "output_type": "display_data"
    }
   ],
   "source": [
    "fig, ax = plt.subplots(2,2, figsize = (12, 12))\n",
    "\n",
    "for i in range(2):\n",
    "    for j in range(2):\n",
    "        ax[i,j].set_ylabel('price')\n",
    "\n",
    "ax[0,0].scatter(x= df['registrationyear'], y=df['price'], alpha=0.5)\n",
    "ax[0,1].scatter(x= df['power'], y=df['price'], alpha=0.5)\n",
    "ax[1,0].scatter(x= df['kilometer'], y=df['price'], alpha=0.5)\n",
    "ax[1,1].scatter(x= df['registrationmonth'], y=df['price'], alpha=0.5)\n",
    "\n",
    "ax[0,0].set_xlabel('registrationyear')\n",
    "ax[0,1].set_xlabel('power')\n",
    "ax[1,0].set_xlabel('kilometer')\n",
    "ax[1,1].set_xlabel('registrationmonth');"
   ]
  },
  {
   "cell_type": "markdown",
   "metadata": {},
   "source": [
    "* Признак километрожа принимает только определенные, \"ровные\" значения. Учитывая также перекос значений, равных 150000, можно попробовать подать в модель километраж в качестве категориального признака.\n",
    "* registrationyear и power стоит повторно оценить после очистки выбросов, причем лучше всего подойдет экспертный метод.\n",
    "* Месяц регистрации распределен на графике одинаково по месяцам.\n"
   ]
  },
  {
   "cell_type": "markdown",
   "metadata": {},
   "source": [
    "Проверим значения registrationmonth: "
   ]
  },
  {
   "cell_type": "code",
   "execution_count": 61,
   "metadata": {},
   "outputs": [
    {
     "data": {
      "text/html": [
       "<div>\n",
       "<style scoped>\n",
       "    .dataframe tbody tr th:only-of-type {\n",
       "        vertical-align: middle;\n",
       "    }\n",
       "\n",
       "    .dataframe tbody tr th {\n",
       "        vertical-align: top;\n",
       "    }\n",
       "\n",
       "    .dataframe thead th {\n",
       "        text-align: right;\n",
       "    }\n",
       "</style>\n",
       "<table border=\"1\" class=\"dataframe\">\n",
       "  <thead>\n",
       "    <tr style=\"text-align: right;\">\n",
       "      <th></th>\n",
       "      <th>count</th>\n",
       "      <th>mean</th>\n",
       "    </tr>\n",
       "    <tr>\n",
       "      <th>registrationmonth</th>\n",
       "      <th></th>\n",
       "      <th></th>\n",
       "    </tr>\n",
       "  </thead>\n",
       "  <tbody>\n",
       "    <tr>\n",
       "      <th>0</th>\n",
       "      <td>12143</td>\n",
       "      <td>2162.089599</td>\n",
       "    </tr>\n",
       "    <tr>\n",
       "      <th>1</th>\n",
       "      <td>18533</td>\n",
       "      <td>5065.133492</td>\n",
       "    </tr>\n",
       "    <tr>\n",
       "      <th>2</th>\n",
       "      <td>17249</td>\n",
       "      <td>4942.948693</td>\n",
       "    </tr>\n",
       "    <tr>\n",
       "      <th>3</th>\n",
       "      <td>28169</td>\n",
       "      <td>4938.047002</td>\n",
       "    </tr>\n",
       "    <tr>\n",
       "      <th>4</th>\n",
       "      <td>23474</td>\n",
       "      <td>5137.487561</td>\n",
       "    </tr>\n",
       "    <tr>\n",
       "      <th>5</th>\n",
       "      <td>23157</td>\n",
       "      <td>5037.082783</td>\n",
       "    </tr>\n",
       "    <tr>\n",
       "      <th>6</th>\n",
       "      <td>25024</td>\n",
       "      <td>5089.028573</td>\n",
       "    </tr>\n",
       "    <tr>\n",
       "      <th>7</th>\n",
       "      <td>21619</td>\n",
       "      <td>5106.690457</td>\n",
       "    </tr>\n",
       "    <tr>\n",
       "      <th>8</th>\n",
       "      <td>18083</td>\n",
       "      <td>5016.756346</td>\n",
       "    </tr>\n",
       "    <tr>\n",
       "      <th>9</th>\n",
       "      <td>19290</td>\n",
       "      <td>5256.731363</td>\n",
       "    </tr>\n",
       "    <tr>\n",
       "      <th>10</th>\n",
       "      <td>20963</td>\n",
       "      <td>5167.376187</td>\n",
       "    </tr>\n",
       "    <tr>\n",
       "      <th>11</th>\n",
       "      <td>19233</td>\n",
       "      <td>5301.432642</td>\n",
       "    </tr>\n",
       "    <tr>\n",
       "      <th>12</th>\n",
       "      <td>19298</td>\n",
       "      <td>5011.337807</td>\n",
       "    </tr>\n",
       "  </tbody>\n",
       "</table>\n",
       "</div>"
      ],
      "text/plain": [
       "                   count         mean\n",
       "registrationmonth                    \n",
       "0                  12143  2162.089599\n",
       "1                  18533  5065.133492\n",
       "2                  17249  4942.948693\n",
       "3                  28169  4938.047002\n",
       "4                  23474  5137.487561\n",
       "5                  23157  5037.082783\n",
       "6                  25024  5089.028573\n",
       "7                  21619  5106.690457\n",
       "8                  18083  5016.756346\n",
       "9                  19290  5256.731363\n",
       "10                 20963  5167.376187\n",
       "11                 19233  5301.432642\n",
       "12                 19298  5011.337807"
      ]
     },
     "execution_count": 61,
     "metadata": {},
     "output_type": "execute_result"
    }
   ],
   "source": [
    "df.groupby('registrationmonth')['price'].agg({'count', 'mean'})"
   ]
  },
  {
   "cell_type": "markdown",
   "metadata": {},
   "source": [
    "Имеется довольно много нулевых (несуществующих/не указанных) месяцев с сильно заниженой ценой. Такие данные могут создавать лишний шум, удалим признак:"
   ]
  },
  {
   "cell_type": "code",
   "execution_count": 62,
   "metadata": {},
   "outputs": [],
   "source": [
    "df = df.drop(columns=['registrationmonth'], axis = 1)"
   ]
  },
  {
   "cell_type": "markdown",
   "metadata": {},
   "source": [
    "Удалим выбросы в годе выпуска автомобиля. Нижней границей будет выпуск первого серийного автомобиля (1915 год), верхней - год сбора данных из базы (2016 год):"
   ]
  },
  {
   "cell_type": "code",
   "execution_count": 63,
   "metadata": {},
   "outputs": [],
   "source": [
    "df = df.query('registrationyear > 1914 and registrationyear < 2017')"
   ]
  },
  {
   "cell_type": "markdown",
   "metadata": {},
   "source": [
    "Посмотрим на распределениепризнака power при помощи boxplot:"
   ]
  },
  {
   "cell_type": "code",
   "execution_count": 64,
   "metadata": {},
   "outputs": [
    {
     "data": {
      "image/png": "[encoded data removed]",
      "text/plain": [
       "<Figure size 432x288 with 1 Axes>"
      ]
     },
     "metadata": {},
     "output_type": "display_data"
    }
   ],
   "source": [
    "df[['power']].boxplot();"
   ]
  },
  {
   "cell_type": "markdown",
   "metadata": {},
   "source": [
    "На боксплоте он графически состоит целиком из огромных выбросов. При том, больше 1000 л.с. могут иметь только суперкары. В нашем случае это вероятнее всего ошибки пользователей, например когда вместо трех знаков (например 103) пользователь указывает 4 (например 1003). Однако в данном случае поставим границу ниже для отсечки, т.к. автомобили с ценой до 20 тысяч евро даже близко не будут суперкарами, оправданной границей будет 600 л.с. и то из-за присутствия в датасете автобусов, самые мощные из которых могут иметь двигатели до 510 л.с. https://www.volvobuses.ru/ru-ru/our-offering/chassis/volvo-b290r.html."
   ]
  },
  {
   "cell_type": "code",
   "execution_count": 65,
   "metadata": {},
   "outputs": [
    {
     "data": {
      "text/html": [
       "<div>\n",
       "<style scoped>\n",
       "    .dataframe tbody tr th:only-of-type {\n",
       "        vertical-align: middle;\n",
       "    }\n",
       "\n",
       "    .dataframe tbody tr th {\n",
       "        vertical-align: top;\n",
       "    }\n",
       "\n",
       "    .dataframe thead th {\n",
       "        text-align: right;\n",
       "    }\n",
       "</style>\n",
       "<table border=\"1\" class=\"dataframe\">\n",
       "  <thead>\n",
       "    <tr style=\"text-align: right;\">\n",
       "      <th></th>\n",
       "      <th>brand</th>\n",
       "      <th>model</th>\n",
       "      <th>power</th>\n",
       "    </tr>\n",
       "  </thead>\n",
       "  <tbody>\n",
       "    <tr>\n",
       "      <th>1816</th>\n",
       "      <td>toyota</td>\n",
       "      <td>corolla</td>\n",
       "      <td>1398</td>\n",
       "    </tr>\n",
       "    <tr>\n",
       "      <th>4060</th>\n",
       "      <td>mitsubishi</td>\n",
       "      <td>colt</td>\n",
       "      <td>953</td>\n",
       "    </tr>\n",
       "    <tr>\n",
       "      <th>6296</th>\n",
       "      <td>chevrolet</td>\n",
       "      <td>matiz</td>\n",
       "      <td>603</td>\n",
       "    </tr>\n",
       "    <tr>\n",
       "      <th>6637</th>\n",
       "      <td>opel</td>\n",
       "      <td>corsa</td>\n",
       "      <td>603</td>\n",
       "    </tr>\n",
       "    <tr>\n",
       "      <th>9664</th>\n",
       "      <td>opel</td>\n",
       "      <td>zafira</td>\n",
       "      <td>1779</td>\n",
       "    </tr>\n",
       "    <tr>\n",
       "      <th>9875</th>\n",
       "      <td>ford</td>\n",
       "      <td>focus</td>\n",
       "      <td>1753</td>\n",
       "    </tr>\n",
       "    <tr>\n",
       "      <th>11039</th>\n",
       "      <td>fiat</td>\n",
       "      <td>other</td>\n",
       "      <td>10317</td>\n",
       "    </tr>\n",
       "    <tr>\n",
       "      <th>12740</th>\n",
       "      <td>ford</td>\n",
       "      <td>ka</td>\n",
       "      <td>952</td>\n",
       "    </tr>\n",
       "    <tr>\n",
       "      <th>15433</th>\n",
       "      <td>ford</td>\n",
       "      <td>escort</td>\n",
       "      <td>999</td>\n",
       "    </tr>\n",
       "    <tr>\n",
       "      <th>19078</th>\n",
       "      <td>seat</td>\n",
       "      <td>ibiza</td>\n",
       "      <td>1111</td>\n",
       "    </tr>\n",
       "  </tbody>\n",
       "</table>\n",
       "</div>"
      ],
      "text/plain": [
       "            brand    model  power\n",
       "1816       toyota  corolla   1398\n",
       "4060   mitsubishi     colt    953\n",
       "6296    chevrolet    matiz    603\n",
       "6637         opel    corsa    603\n",
       "9664         opel   zafira   1779\n",
       "9875         ford    focus   1753\n",
       "11039        fiat    other  10317\n",
       "12740        ford       ka    952\n",
       "15433        ford   escort    999\n",
       "19078        seat    ibiza   1111"
      ]
     },
     "execution_count": 65,
     "metadata": {},
     "output_type": "execute_result"
    }
   ],
   "source": [
    "df[['brand', 'model', 'power']].query('power > 600').head(10)"
   ]
  },
  {
   "cell_type": "code",
   "execution_count": 66,
   "metadata": {},
   "outputs": [
    {
     "data": {
      "text/plain": [
       "array(['toyota', 'mitsubishi', 'chevrolet', 'opel', 'ford', 'fiat',\n",
       "       'seat', 'bmw', 'nissan', 'mercedes_benz', 'citroen', 'skoda',\n",
       "       'volkswagen', 'volvo', 'kia', 'smart', 'mazda', 'renault', 'audi',\n",
       "       'alfa_romeo', 'mini', 'honda', 'chrysler', 'suzuki', 'hyundai',\n",
       "       'lancia'], dtype=object)"
      ]
     },
     "execution_count": 66,
     "metadata": {},
     "output_type": "execute_result"
    }
   ],
   "source": [
    "df.query('power > 600')['brand'].unique()"
   ]
  },
  {
   "cell_type": "markdown",
   "metadata": {},
   "source": [
    "Суперкаров не обнаружено. Всё-таки в большинстве случаев это ошибки пользователей."
   ]
  },
  {
   "cell_type": "code",
   "execution_count": 67,
   "metadata": {},
   "outputs": [],
   "source": [
    "df = df.query('power < 600')"
   ]
  },
  {
   "cell_type": "markdown",
   "metadata": {},
   "source": [
    "Посмотрим как изменились распределения:"
   ]
  },
  {
   "cell_type": "code",
   "execution_count": 68,
   "metadata": {},
   "outputs": [
    {
     "data": {
      "image/png": "[encoded data removed]",
      "text/plain": [
       "<Figure size 864x864 with 4 Axes>"
      ]
     },
     "metadata": {},
     "output_type": "display_data"
    }
   ],
   "source": [
    "fig, ax = plt.subplots(2,2, figsize = (12, 12))\n",
    "\n",
    "for i in range(2):\n",
    "    for j in range(2):\n",
    "        ax[i,j].set_ylabel('price')\n",
    "\n",
    "ax[0,0].scatter(x= df['registrationyear'], y=df['price'], alpha=0.1)\n",
    "ax[0,1].scatter(x= df['power'], y=df['price'], alpha=0.1)\n",
    "ax[1,0].scatter(x= df['kilometer'], y=df['price'], alpha=0.1)\n",
    "\n",
    "ax[0,0].set_xlabel('registrationyear')\n",
    "ax[0,1].set_xlabel('power')\n",
    "ax[1,0].set_xlabel('kilometer');"
   ]
  },
  {
   "cell_type": "markdown",
   "metadata": {},
   "source": [
    "* В power есть много нулевых значений, необходимо установить и нижнюю границу для отсечки\n",
    "* Также есть много объектов с нулевым значением целевого признака\n",
    "* У обоих признаков зависимость нелинейная, рост цены у более новых автомобилей прослеживается слабо. Рост цены автомобиля при увеличении power прослеживается по scatterplot чуть лучше"
   ]
  },
  {
   "cell_type": "markdown",
   "metadata": {},
   "source": [
    "Посмотрим на получившейся боксплот по признаку power:"
   ]
  },
  {
   "cell_type": "code",
   "execution_count": 69,
   "metadata": {},
   "outputs": [
    {
     "data": {
      "image/png": "[encoded data removed]",
      "text/plain": [
       "<Figure size 432x288 with 1 Axes>"
      ]
     },
     "metadata": {},
     "output_type": "display_data"
    }
   ],
   "source": [
    "df[['power']].boxplot();"
   ]
  },
  {
   "cell_type": "markdown",
   "metadata": {},
   "source": [
    "* Всё ещё очень много выбросов на графике. Значения выше ~240 л.с. лежат за пределами \"усов\". Однако этот подход не очень хорошо работает, если распределение не нормальное. В силу специфики бизнес-задачи, данный метод обнаружения выбросов может посчитать посчитать ими показатели мощных спортивных машин или автобусов. Поэтому, на мой взгляд, при решении этой бизнес-задачи лучше очищать выбросы опираясь на экспертные знания, тем более мы разрабатываем приложение с ограничениями."
   ]
  },
  {
   "cell_type": "markdown",
   "metadata": {},
   "source": [
    "Важно установить нижнюю границу по признаку power. Чтобы сэкономить время, удалим 1% наименьших значений, однако сделаем это после очистки нулей, которых у нас довольно много: 4.7% от всего датасета."
   ]
  },
  {
   "cell_type": "code",
   "execution_count": 70,
   "metadata": {},
   "outputs": [
    {
     "data": {
      "text/plain": [
       "0.04760252317278181"
      ]
     },
     "execution_count": 70,
     "metadata": {},
     "output_type": "execute_result"
    }
   ],
   "source": [
    "len(df.query('power==0')) / len(df)"
   ]
  },
  {
   "cell_type": "code",
   "execution_count": 71,
   "metadata": {},
   "outputs": [],
   "source": [
    "df = df.query('power > 0')"
   ]
  },
  {
   "cell_type": "code",
   "execution_count": 72,
   "metadata": {},
   "outputs": [
    {
     "data": {
      "text/plain": [
       "45.0"
      ]
     },
     "execution_count": 72,
     "metadata": {},
     "output_type": "execute_result"
    }
   ],
   "source": [
    "df['power'].quantile(0.01)"
   ]
  },
  {
   "cell_type": "code",
   "execution_count": 73,
   "metadata": {},
   "outputs": [],
   "source": [
    "df = df.query('power > 44')"
   ]
  },
  {
   "cell_type": "markdown",
   "metadata": {},
   "source": [
    "* Нижней границей будут авто с двигателем слабее 44 л.с."
   ]
  },
  {
   "cell_type": "markdown",
   "metadata": {},
   "source": [
    "В признаке price тоже много нулей. Нулевые значения целевого признака нам точно ничем не помогут. Также, удалим 1% самых дешевых авто - так проще всего отсечь мошеннические объявления и ошибочно выставленные цены."
   ]
  },
  {
   "cell_type": "code",
   "execution_count": 74,
   "metadata": {},
   "outputs": [
    {
     "data": {
      "text/plain": [
       "0.014335427821650652"
      ]
     },
     "execution_count": 74,
     "metadata": {},
     "output_type": "execute_result"
    }
   ],
   "source": [
    "len(df.query('price==0')) / len(df)"
   ]
  },
  {
   "cell_type": "code",
   "execution_count": 75,
   "metadata": {},
   "outputs": [],
   "source": [
    "df = df.query('price > 0')"
   ]
  },
  {
   "cell_type": "code",
   "execution_count": 76,
   "metadata": {},
   "outputs": [
    {
     "data": {
      "text/plain": [
       "200.0"
      ]
     },
     "execution_count": 76,
     "metadata": {},
     "output_type": "execute_result"
    }
   ],
   "source": [
    "df['price'].quantile(0.01)"
   ]
  },
  {
   "cell_type": "markdown",
   "metadata": {},
   "source": [
    "* Границей отсечения будут авто дешевле 200 евро."
   ]
  },
  {
   "cell_type": "code",
   "execution_count": 77,
   "metadata": {},
   "outputs": [],
   "source": [
    "df = df.query('price > 200')"
   ]
  },
  {
   "cell_type": "markdown",
   "metadata": {},
   "source": [
    "Далее очистим датасет от непопулярных моделей. Это должно затронуть менее 1% пользователей."
   ]
  },
  {
   "cell_type": "markdown",
   "metadata": {},
   "source": [
    "Найдем 50 самых непопулярных моделей:"
   ]
  },
  {
   "cell_type": "code",
   "execution_count": 78,
   "metadata": {},
   "outputs": [
    {
     "data": {
      "text/plain": [
       "model\n",
       "rangerover             1\n",
       "601                    1\n",
       "range_rover_evoque     2\n",
       "elefantino             2\n",
       "samara                 3\n",
       "serie_3                3\n",
       "i3                     4\n",
       "serie_2                5\n",
       "kalina                 5\n",
       "gl                    10\n",
       "kappa                 10\n",
       "move                  11\n",
       "amarok                11\n",
       "200                   11\n",
       "materia               12\n",
       "q3                    13\n",
       "charade               14\n",
       "musa                  17\n",
       "9000                  20\n",
       "delta                 24\n",
       "b_max                 25\n",
       "terios                25\n",
       "145                   27\n",
       "lodgy                 29\n",
       "lybra                 34\n",
       "croma                 34\n",
       "v60                   38\n",
       "911                   41\n",
       "nubira                42\n",
       "lanos                 48\n",
       "range_rover_sport     49\n",
       "defender              51\n",
       "glk                   53\n",
       "cx_reihe              55\n",
       "crossfire             55\n",
       "90                    55\n",
       "range_rover           61\n",
       "discovery             66\n",
       "r19                   68\n",
       "kalos                 72\n",
       "g_klasse              72\n",
       "wrangler              76\n",
       "mii                   76\n",
       "navara                76\n",
       "900                   81\n",
       "antara                82\n",
       "citigo                83\n",
       "juke                  85\n",
       "justy                 85\n",
       "niva                  89\n",
       "Name: model, dtype: int64"
      ]
     },
     "execution_count": 78,
     "metadata": {},
     "output_type": "execute_result"
    }
   ],
   "source": [
    "df.groupby('model')['model'].count().sort_values(ascending = True).head(50)"
   ]
  },
  {
   "cell_type": "markdown",
   "metadata": {},
   "source": [
    "Удалим 50 самых непопулярных моделей. Количество объявлений по каждой из этих моделей не превышает 91 шт. Это затронет очень мало объявлений, посчитаем сколько:"
   ]
  },
  {
   "cell_type": "code",
   "execution_count": 79,
   "metadata": {},
   "outputs": [
    {
     "data": {
      "text/plain": [
       "0.007999029406473691"
      ]
     },
     "execution_count": 79,
     "metadata": {},
     "output_type": "execute_result"
    }
   ],
   "source": [
    "df.groupby('model')['model'].count().sort_values(ascending = True).head(50).cumsum()[49] / len(df)"
   ]
  },
  {
   "cell_type": "markdown",
   "metadata": {},
   "source": [
    "* Отсутствие подсчета цен по самым непопулярным моделям затронет 0.8% пользователей"
   ]
  },
  {
   "cell_type": "markdown",
   "metadata": {},
   "source": [
    "Пользователю с такой моделью вместо оценки должно выводиться сообщение \"Недостаточно данных для расчёта стоимости вашего авто\". На мой взгляд это очень правильно и можно было бы использовать даже в базовом решении, т.к. от модели цена зависит сильнее всего и именно в таких случаях даже если бы оценка выводилась, то она была бы наиболее неточной."
   ]
  },
  {
   "cell_type": "markdown",
   "metadata": {},
   "source": [
    "Удалим модели, предварительно создав список самых непопулярных моделей:"
   ]
  },
  {
   "cell_type": "code",
   "execution_count": 80,
   "metadata": {},
   "outputs": [],
   "source": [
    "unpopular_models = df.groupby('model')['model'].count().sort_values(ascending = True).head(50).index.to_list()\n",
    "df = df[~df['model'].isin(unpopular_models)]"
   ]
  },
  {
   "cell_type": "markdown",
   "metadata": {},
   "source": [
    "Посмотрим как теперь выглядит датасет:"
   ]
  },
  {
   "cell_type": "code",
   "execution_count": 81,
   "metadata": {},
   "outputs": [
    {
     "name": "stdout",
     "output_type": "stream",
     "text": [
      "<class 'pandas.core.frame.DataFrame'>\n",
      "Int64Index: 237117 entries, 3 to 354367\n",
      "Data columns (total 15 columns):\n",
      " #   Column            Non-Null Count   Dtype \n",
      "---  ------            --------------   ----- \n",
      " 0   datecrawled       237117 non-null  object\n",
      " 1   price             237117 non-null  int32 \n",
      " 2   vehicletype       237117 non-null  object\n",
      " 3   registrationyear  237117 non-null  int32 \n",
      " 4   isautogearbox     237117 non-null  bool  \n",
      " 5   power             237117 non-null  int32 \n",
      " 6   model             237117 non-null  object\n",
      " 7   kilometer         237117 non-null  int32 \n",
      " 8   fueltype          237117 non-null  object\n",
      " 9   brand             237117 non-null  object\n",
      " 10  notrepaired       237117 non-null  bool  \n",
      " 11  postalcode        237117 non-null  int8  \n",
      " 12  lifetime          237117 non-null  int32 \n",
      " 13  isretro           237117 non-null  bool  \n",
      " 14  isclassic         237117 non-null  bool  \n",
      "dtypes: bool(4), int32(5), int8(1), object(5)\n",
      "memory usage: 16.5+ MB\n"
     ]
    }
   ],
   "source": [
    "df.info()"
   ]
  },
  {
   "cell_type": "code",
   "execution_count": 82,
   "metadata": {},
   "outputs": [],
   "source": [
    "df = df.query('lifetime < 32')"
   ]
  },
  {
   "cell_type": "markdown",
   "metadata": {},
   "source": [
    "Также удалим теперь уже ненужный признак datecrawled:"
   ]
  },
  {
   "cell_type": "code",
   "execution_count": 83,
   "metadata": {},
   "outputs": [],
   "source": [
    "df = df.drop('datecrawled', axis = 1)"
   ]
  },
  {
   "cell_type": "markdown",
   "metadata": {},
   "source": [
    "Посмотрим на получившееся распределение:"
   ]
  },
  {
   "cell_type": "code",
   "execution_count": 84,
   "metadata": {},
   "outputs": [
    {
     "data": {
      "image/png": "[encoded data removed]",
      "text/plain": [
       "<Figure size 864x864 with 4 Axes>"
      ]
     },
     "metadata": {},
     "output_type": "display_data"
    }
   ],
   "source": [
    "df[['price', 'registrationyear', 'power', 'kilometer']].hist(figsize=(12, 12), bins=20);"
   ]
  },
  {
   "cell_type": "markdown",
   "metadata": {},
   "source": [
    "* Графики по power и registrationyear теперь намного информативнее. Power остался скошенным влево из-за опасений убрать спорткары и автобусы, а registrationyear скошен вправо из-за ретрокаров и классики, для определения которых созданы специальные признаки."
   ]
  },
  {
   "cell_type": "markdown",
   "metadata": {},
   "source": [
    "Посмотрим на корреляционную матрицу по числовым признакам:"
   ]
  },
  {
   "cell_type": "code",
   "execution_count": 85,
   "metadata": {},
   "outputs": [
    {
     "data": {
      "image/png": "[encoded data removed]",
      "text/plain": [
       "<Figure size 720x720 with 2 Axes>"
      ]
     },
     "metadata": {},
     "output_type": "display_data"
    }
   ],
   "source": [
    "fig, ax = plt.subplots(figsize=(10, 10))\n",
    "sns.heatmap(df[['price', 'registrationyear', 'power', 'kilometer', 'lifetime']].corr(),\\\n",
    "            annot = True, square=True, cmap='Blues', fmt='.2f');"
   ]
  },
  {
   "cell_type": "markdown",
   "metadata": {},
   "source": [
    "* Матрица в основном отражает интуитивно понятные факты: чем больше год выпуска, тем выше цена; чем больше мощность двигателя, тем выше цена, чем больше пробег, тем ниже цена.\n",
    "* Здорово, что мы получили слабоположительную корреляцию между новым признаком lifetime и целевым.\n",
    "* Также отражена интуитивно понятная корреляция между годом выпуска и километражом: чем меньше год выпуска, тем больше километраж."
   ]
  },
  {
   "cell_type": "code",
   "execution_count": 86,
   "metadata": {},
   "outputs": [
    {
     "data": {
      "text/html": [
       "<div>\n",
       "<style scoped>\n",
       "    .dataframe tbody tr th:only-of-type {\n",
       "        vertical-align: middle;\n",
       "    }\n",
       "\n",
       "    .dataframe tbody tr th {\n",
       "        vertical-align: top;\n",
       "    }\n",
       "\n",
       "    .dataframe thead th {\n",
       "        text-align: right;\n",
       "    }\n",
       "</style>\n",
       "<table border=\"1\" class=\"dataframe\">\n",
       "  <thead>\n",
       "    <tr style=\"text-align: right;\">\n",
       "      <th></th>\n",
       "      <th>price</th>\n",
       "      <th>vehicletype</th>\n",
       "      <th>registrationyear</th>\n",
       "      <th>isautogearbox</th>\n",
       "      <th>power</th>\n",
       "      <th>model</th>\n",
       "      <th>kilometer</th>\n",
       "      <th>fueltype</th>\n",
       "      <th>brand</th>\n",
       "      <th>notrepaired</th>\n",
       "      <th>postalcode</th>\n",
       "      <th>lifetime</th>\n",
       "      <th>isretro</th>\n",
       "      <th>isclassic</th>\n",
       "    </tr>\n",
       "  </thead>\n",
       "  <tbody>\n",
       "    <tr>\n",
       "      <th>3</th>\n",
       "      <td>1500</td>\n",
       "      <td>small</td>\n",
       "      <td>2001</td>\n",
       "      <td>False</td>\n",
       "      <td>75</td>\n",
       "      <td>golf</td>\n",
       "      <td>150000</td>\n",
       "      <td>petrol</td>\n",
       "      <td>volkswagen</td>\n",
       "      <td>False</td>\n",
       "      <td>9</td>\n",
       "      <td>0</td>\n",
       "      <td>False</td>\n",
       "      <td>False</td>\n",
       "    </tr>\n",
       "    <tr>\n",
       "      <th>4</th>\n",
       "      <td>3600</td>\n",
       "      <td>small</td>\n",
       "      <td>2008</td>\n",
       "      <td>False</td>\n",
       "      <td>69</td>\n",
       "      <td>fabia</td>\n",
       "      <td>90000</td>\n",
       "      <td>gasoline</td>\n",
       "      <td>skoda</td>\n",
       "      <td>False</td>\n",
       "      <td>6</td>\n",
       "      <td>6</td>\n",
       "      <td>False</td>\n",
       "      <td>False</td>\n",
       "    </tr>\n",
       "    <tr>\n",
       "      <th>5</th>\n",
       "      <td>650</td>\n",
       "      <td>sedan</td>\n",
       "      <td>1995</td>\n",
       "      <td>False</td>\n",
       "      <td>102</td>\n",
       "      <td>3er</td>\n",
       "      <td>150000</td>\n",
       "      <td>petrol</td>\n",
       "      <td>bmw</td>\n",
       "      <td>True</td>\n",
       "      <td>3</td>\n",
       "      <td>2</td>\n",
       "      <td>False</td>\n",
       "      <td>True</td>\n",
       "    </tr>\n",
       "    <tr>\n",
       "      <th>6</th>\n",
       "      <td>2200</td>\n",
       "      <td>convertible</td>\n",
       "      <td>2004</td>\n",
       "      <td>False</td>\n",
       "      <td>109</td>\n",
       "      <td>2_reihe</td>\n",
       "      <td>150000</td>\n",
       "      <td>petrol</td>\n",
       "      <td>peugeot</td>\n",
       "      <td>False</td>\n",
       "      <td>6</td>\n",
       "      <td>4</td>\n",
       "      <td>False</td>\n",
       "      <td>False</td>\n",
       "    </tr>\n",
       "    <tr>\n",
       "      <th>10</th>\n",
       "      <td>2000</td>\n",
       "      <td>sedan</td>\n",
       "      <td>2004</td>\n",
       "      <td>False</td>\n",
       "      <td>105</td>\n",
       "      <td>3_reihe</td>\n",
       "      <td>150000</td>\n",
       "      <td>petrol</td>\n",
       "      <td>mazda</td>\n",
       "      <td>False</td>\n",
       "      <td>9</td>\n",
       "      <td>11</td>\n",
       "      <td>False</td>\n",
       "      <td>False</td>\n",
       "    </tr>\n",
       "  </tbody>\n",
       "</table>\n",
       "</div>"
      ],
      "text/plain": [
       "    price  vehicletype  registrationyear  isautogearbox  power    model  \\\n",
       "3    1500        small              2001          False     75     golf   \n",
       "4    3600        small              2008          False     69    fabia   \n",
       "5     650        sedan              1995          False    102      3er   \n",
       "6    2200  convertible              2004          False    109  2_reihe   \n",
       "10   2000        sedan              2004          False    105  3_reihe   \n",
       "\n",
       "    kilometer  fueltype       brand  notrepaired  postalcode  lifetime  \\\n",
       "3      150000    petrol  volkswagen        False           9         0   \n",
       "4       90000  gasoline       skoda        False           6         6   \n",
       "5      150000    petrol         bmw         True           3         2   \n",
       "6      150000    petrol     peugeot        False           6         4   \n",
       "10     150000    petrol       mazda        False           9        11   \n",
       "\n",
       "    isretro  isclassic  \n",
       "3     False      False  \n",
       "4     False      False  \n",
       "5     False       True  \n",
       "6     False      False  \n",
       "10    False      False  "
      ]
     },
     "execution_count": 86,
     "metadata": {},
     "output_type": "execute_result"
    }
   ],
   "source": [
    "df.head()"
   ]
  },
  {
   "cell_type": "markdown",
   "metadata": {},
   "source": [
    "## Обучение моделей"
   ]
  },
  {
   "cell_type": "markdown",
   "metadata": {},
   "source": [
    "При решении этой задачи хорошо показали себя модели градиентного бустинга, но обучим также и случайный лес чтобы воспользоваться стекингом. Линейные модели здесь показывают плохой результат из-за сложности распределения данных."
   ]
  },
  {
   "cell_type": "markdown",
   "metadata": {},
   "source": [
    "### Случайный лес"
   ]
  },
  {
   "cell_type": "markdown",
   "metadata": {},
   "source": [
    "Для того чтобы обучить лес нужно преобразовать признаки с типом object каким-либо кодировщиком. Воспользуемся встроенным в pandas методом get_dummies, он создаёт на каждую категорию отдельный признак булева типа. Большое количество признаков замедлит скорость обучения леса, но качество должно быть выше."
   ]
  },
  {
   "cell_type": "code",
   "execution_count": 87,
   "metadata": {},
   "outputs": [],
   "source": [
    "data_forest = pd.get_dummies(data=df, drop_first=True)"
   ]
  },
  {
   "cell_type": "code",
   "execution_count": 88,
   "metadata": {},
   "outputs": [
    {
     "name": "stdout",
     "output_type": "stream",
     "text": [
      "<class 'pandas.core.frame.DataFrame'>\n",
      "Int64Index: 235535 entries, 3 to 354367\n",
      "Columns: 260 entries, price to brand_volvo\n",
      "dtypes: bool(4), int32(5), int8(1), uint8(250)\n",
      "memory usage: 63.6 MB\n"
     ]
    }
   ],
   "source": [
    "data_forest.info()"
   ]
  },
  {
   "cell_type": "markdown",
   "metadata": {},
   "source": [
    "Зафиксируем псевдослучайность:"
   ]
  },
  {
   "cell_type": "code",
   "execution_count": 89,
   "metadata": {},
   "outputs": [],
   "source": [
    "random_state = 0"
   ]
  },
  {
   "cell_type": "code",
   "execution_count": 90,
   "metadata": {},
   "outputs": [],
   "source": [
    "data_forest_train, data_forest_test = train_test_split(data_forest, test_size=0.25, random_state=random_state)"
   ]
  },
  {
   "cell_type": "code",
   "execution_count": 91,
   "metadata": {},
   "outputs": [
    {
     "data": {
      "text/plain": [
       "0.7499989385866219"
      ]
     },
     "metadata": {},
     "output_type": "display_data"
    },
    {
     "data": {
      "text/plain": [
       "0.2500010614133781"
      ]
     },
     "metadata": {},
     "output_type": "display_data"
    }
   ],
   "source": [
    "display(len(data_forest_train)/len(data_forest))\n",
    "display(len(data_forest_test)/len(data_forest))"
   ]
  },
  {
   "cell_type": "markdown",
   "metadata": {},
   "source": [
    "Выделим целевой признак:"
   ]
  },
  {
   "cell_type": "code",
   "execution_count": 92,
   "metadata": {},
   "outputs": [],
   "source": [
    "X_train_forest = data_forest_train.drop('price', axis=1)\n",
    "y_train_forest = data_forest_train['price']\n",
    "\n",
    "X_test_forest = data_forest_test.drop('price', axis=1)\n",
    "y_test_forest = data_forest_test['price']"
   ]
  },
  {
   "cell_type": "markdown",
   "metadata": {},
   "source": [
    "Масштабируем данные:"
   ]
  },
  {
   "cell_type": "code",
   "execution_count": 93,
   "metadata": {},
   "outputs": [],
   "source": [
    "numeric = ['registrationyear', 'power', 'kilometer', 'lifetime']"
   ]
  },
  {
   "cell_type": "code",
   "execution_count": 94,
   "metadata": {},
   "outputs": [],
   "source": [
    "scaler = StandardScaler()"
   ]
  },
  {
   "cell_type": "code",
   "execution_count": 95,
   "metadata": {},
   "outputs": [
    {
     "data": {
      "text/plain": [
       "StandardScaler()"
      ]
     },
     "execution_count": 95,
     "metadata": {},
     "output_type": "execute_result"
    }
   ],
   "source": [
    "scaler.fit(X_train_forest[numeric])"
   ]
  },
  {
   "cell_type": "code",
   "execution_count": 96,
   "metadata": {},
   "outputs": [],
   "source": [
    "X_train_forest[numeric] = scaler.transform(X_train_forest[numeric])\n",
    "X_test_forest[numeric] = scaler.transform(X_test_forest[numeric])"
   ]
  },
  {
   "cell_type": "code",
   "execution_count": 97,
   "metadata": {},
   "outputs": [
    {
     "data": {
      "text/html": [
       "<div>\n",
       "<style scoped>\n",
       "    .dataframe tbody tr th:only-of-type {\n",
       "        vertical-align: middle;\n",
       "    }\n",
       "\n",
       "    .dataframe tbody tr th {\n",
       "        vertical-align: top;\n",
       "    }\n",
       "\n",
       "    .dataframe thead th {\n",
       "        text-align: right;\n",
       "    }\n",
       "</style>\n",
       "<table border=\"1\" class=\"dataframe\">\n",
       "  <thead>\n",
       "    <tr style=\"text-align: right;\">\n",
       "      <th></th>\n",
       "      <th>registrationyear</th>\n",
       "      <th>isautogearbox</th>\n",
       "      <th>power</th>\n",
       "      <th>kilometer</th>\n",
       "      <th>notrepaired</th>\n",
       "      <th>postalcode</th>\n",
       "      <th>lifetime</th>\n",
       "      <th>isretro</th>\n",
       "      <th>isclassic</th>\n",
       "      <th>vehicletype_convertible</th>\n",
       "      <th>...</th>\n",
       "      <th>brand_saab</th>\n",
       "      <th>brand_seat</th>\n",
       "      <th>brand_skoda</th>\n",
       "      <th>brand_smart</th>\n",
       "      <th>brand_subaru</th>\n",
       "      <th>brand_suzuki</th>\n",
       "      <th>brand_toyota</th>\n",
       "      <th>brand_trabant</th>\n",
       "      <th>brand_volkswagen</th>\n",
       "      <th>brand_volvo</th>\n",
       "    </tr>\n",
       "  </thead>\n",
       "  <tbody>\n",
       "    <tr>\n",
       "      <th>115246</th>\n",
       "      <td>-0.048335</td>\n",
       "      <td>False</td>\n",
       "      <td>0.014516</td>\n",
       "      <td>0.612575</td>\n",
       "      <td>False</td>\n",
       "      <td>5</td>\n",
       "      <td>1.831934</td>\n",
       "      <td>False</td>\n",
       "      <td>False</td>\n",
       "      <td>0</td>\n",
       "      <td>...</td>\n",
       "      <td>0</td>\n",
       "      <td>0</td>\n",
       "      <td>0</td>\n",
       "      <td>0</td>\n",
       "      <td>0</td>\n",
       "      <td>0</td>\n",
       "      <td>0</td>\n",
       "      <td>0</td>\n",
       "      <td>1</td>\n",
       "      <td>0</td>\n",
       "    </tr>\n",
       "    <tr>\n",
       "      <th>175851</th>\n",
       "      <td>-0.214001</td>\n",
       "      <td>False</td>\n",
       "      <td>-1.114485</td>\n",
       "      <td>0.612575</td>\n",
       "      <td>False</td>\n",
       "      <td>7</td>\n",
       "      <td>-0.590798</td>\n",
       "      <td>False</td>\n",
       "      <td>False</td>\n",
       "      <td>0</td>\n",
       "      <td>...</td>\n",
       "      <td>0</td>\n",
       "      <td>0</td>\n",
       "      <td>0</td>\n",
       "      <td>0</td>\n",
       "      <td>0</td>\n",
       "      <td>0</td>\n",
       "      <td>0</td>\n",
       "      <td>0</td>\n",
       "      <td>1</td>\n",
       "      <td>0</td>\n",
       "    </tr>\n",
       "    <tr>\n",
       "      <th>283475</th>\n",
       "      <td>0.945661</td>\n",
       "      <td>False</td>\n",
       "      <td>0.691917</td>\n",
       "      <td>0.612575</td>\n",
       "      <td>False</td>\n",
       "      <td>6</td>\n",
       "      <td>0.862841</td>\n",
       "      <td>False</td>\n",
       "      <td>False</td>\n",
       "      <td>0</td>\n",
       "      <td>...</td>\n",
       "      <td>0</td>\n",
       "      <td>0</td>\n",
       "      <td>0</td>\n",
       "      <td>0</td>\n",
       "      <td>0</td>\n",
       "      <td>0</td>\n",
       "      <td>0</td>\n",
       "      <td>0</td>\n",
       "      <td>1</td>\n",
       "      <td>0</td>\n",
       "    </tr>\n",
       "    <tr>\n",
       "      <th>25803</th>\n",
       "      <td>-0.545333</td>\n",
       "      <td>False</td>\n",
       "      <td>0.880084</td>\n",
       "      <td>0.612575</td>\n",
       "      <td>False</td>\n",
       "      <td>6</td>\n",
       "      <td>-0.348525</td>\n",
       "      <td>False</td>\n",
       "      <td>False</td>\n",
       "      <td>0</td>\n",
       "      <td>...</td>\n",
       "      <td>0</td>\n",
       "      <td>0</td>\n",
       "      <td>0</td>\n",
       "      <td>0</td>\n",
       "      <td>0</td>\n",
       "      <td>0</td>\n",
       "      <td>0</td>\n",
       "      <td>0</td>\n",
       "      <td>0</td>\n",
       "      <td>0</td>\n",
       "    </tr>\n",
       "    <tr>\n",
       "      <th>37474</th>\n",
       "      <td>1.442660</td>\n",
       "      <td>False</td>\n",
       "      <td>1.444584</td>\n",
       "      <td>0.612575</td>\n",
       "      <td>True</td>\n",
       "      <td>8</td>\n",
       "      <td>-0.348525</td>\n",
       "      <td>False</td>\n",
       "      <td>False</td>\n",
       "      <td>0</td>\n",
       "      <td>...</td>\n",
       "      <td>0</td>\n",
       "      <td>0</td>\n",
       "      <td>0</td>\n",
       "      <td>0</td>\n",
       "      <td>0</td>\n",
       "      <td>0</td>\n",
       "      <td>0</td>\n",
       "      <td>0</td>\n",
       "      <td>0</td>\n",
       "      <td>0</td>\n",
       "    </tr>\n",
       "  </tbody>\n",
       "</table>\n",
       "<p>5 rows × 259 columns</p>\n",
       "</div>"
      ],
      "text/plain": [
       "        registrationyear  isautogearbox     power  kilometer  notrepaired  \\\n",
       "115246         -0.048335          False  0.014516   0.612575        False   \n",
       "175851         -0.214001          False -1.114485   0.612575        False   \n",
       "283475          0.945661          False  0.691917   0.612575        False   \n",
       "25803          -0.545333          False  0.880084   0.612575        False   \n",
       "37474           1.442660          False  1.444584   0.612575         True   \n",
       "\n",
       "        postalcode  lifetime  isretro  isclassic  vehicletype_convertible  \\\n",
       "115246           5  1.831934    False      False                        0   \n",
       "175851           7 -0.590798    False      False                        0   \n",
       "283475           6  0.862841    False      False                        0   \n",
       "25803            6 -0.348525    False      False                        0   \n",
       "37474            8 -0.348525    False      False                        0   \n",
       "\n",
       "        ...  brand_saab  brand_seat  brand_skoda  brand_smart  brand_subaru  \\\n",
       "115246  ...           0           0            0            0             0   \n",
       "175851  ...           0           0            0            0             0   \n",
       "283475  ...           0           0            0            0             0   \n",
       "25803   ...           0           0            0            0             0   \n",
       "37474   ...           0           0            0            0             0   \n",
       "\n",
       "        brand_suzuki  brand_toyota  brand_trabant  brand_volkswagen  \\\n",
       "115246             0             0              0                 1   \n",
       "175851             0             0              0                 1   \n",
       "283475             0             0              0                 1   \n",
       "25803              0             0              0                 0   \n",
       "37474              0             0              0                 0   \n",
       "\n",
       "        brand_volvo  \n",
       "115246            0  \n",
       "175851            0  \n",
       "283475            0  \n",
       "25803             0  \n",
       "37474             0  \n",
       "\n",
       "[5 rows x 259 columns]"
      ]
     },
     "execution_count": 97,
     "metadata": {},
     "output_type": "execute_result"
    }
   ],
   "source": [
    "X_train_forest.head()"
   ]
  },
  {
   "cell_type": "code",
   "execution_count": 98,
   "metadata": {},
   "outputs": [
    {
     "data": {
      "text/html": [
       "<div>\n",
       "<style scoped>\n",
       "    .dataframe tbody tr th:only-of-type {\n",
       "        vertical-align: middle;\n",
       "    }\n",
       "\n",
       "    .dataframe tbody tr th {\n",
       "        vertical-align: top;\n",
       "    }\n",
       "\n",
       "    .dataframe thead th {\n",
       "        text-align: right;\n",
       "    }\n",
       "</style>\n",
       "<table border=\"1\" class=\"dataframe\">\n",
       "  <thead>\n",
       "    <tr style=\"text-align: right;\">\n",
       "      <th></th>\n",
       "      <th>registrationyear</th>\n",
       "      <th>isautogearbox</th>\n",
       "      <th>power</th>\n",
       "      <th>kilometer</th>\n",
       "      <th>notrepaired</th>\n",
       "      <th>postalcode</th>\n",
       "      <th>lifetime</th>\n",
       "      <th>isretro</th>\n",
       "      <th>isclassic</th>\n",
       "      <th>vehicletype_convertible</th>\n",
       "      <th>...</th>\n",
       "      <th>brand_saab</th>\n",
       "      <th>brand_seat</th>\n",
       "      <th>brand_skoda</th>\n",
       "      <th>brand_smart</th>\n",
       "      <th>brand_subaru</th>\n",
       "      <th>brand_suzuki</th>\n",
       "      <th>brand_toyota</th>\n",
       "      <th>brand_trabant</th>\n",
       "      <th>brand_volkswagen</th>\n",
       "      <th>brand_volvo</th>\n",
       "    </tr>\n",
       "  </thead>\n",
       "  <tbody>\n",
       "    <tr>\n",
       "      <th>221441</th>\n",
       "      <td>0.614329</td>\n",
       "      <td>False</td>\n",
       "      <td>-0.343001</td>\n",
       "      <td>0.612575</td>\n",
       "      <td>False</td>\n",
       "      <td>3</td>\n",
       "      <td>0.257158</td>\n",
       "      <td>False</td>\n",
       "      <td>False</td>\n",
       "      <td>0</td>\n",
       "      <td>...</td>\n",
       "      <td>0</td>\n",
       "      <td>0</td>\n",
       "      <td>0</td>\n",
       "      <td>0</td>\n",
       "      <td>0</td>\n",
       "      <td>0</td>\n",
       "      <td>0</td>\n",
       "      <td>0</td>\n",
       "      <td>1</td>\n",
       "      <td>0</td>\n",
       "    </tr>\n",
       "    <tr>\n",
       "      <th>282422</th>\n",
       "      <td>0.282997</td>\n",
       "      <td>True</td>\n",
       "      <td>0.033333</td>\n",
       "      <td>-1.562365</td>\n",
       "      <td>False</td>\n",
       "      <td>6</td>\n",
       "      <td>-0.348525</td>\n",
       "      <td>False</td>\n",
       "      <td>False</td>\n",
       "      <td>0</td>\n",
       "      <td>...</td>\n",
       "      <td>0</td>\n",
       "      <td>0</td>\n",
       "      <td>0</td>\n",
       "      <td>0</td>\n",
       "      <td>0</td>\n",
       "      <td>0</td>\n",
       "      <td>0</td>\n",
       "      <td>0</td>\n",
       "      <td>0</td>\n",
       "      <td>0</td>\n",
       "    </tr>\n",
       "    <tr>\n",
       "      <th>194798</th>\n",
       "      <td>0.779995</td>\n",
       "      <td>False</td>\n",
       "      <td>-0.888685</td>\n",
       "      <td>-2.377968</td>\n",
       "      <td>False</td>\n",
       "      <td>2</td>\n",
       "      <td>0.741704</td>\n",
       "      <td>False</td>\n",
       "      <td>False</td>\n",
       "      <td>0</td>\n",
       "      <td>...</td>\n",
       "      <td>0</td>\n",
       "      <td>0</td>\n",
       "      <td>0</td>\n",
       "      <td>0</td>\n",
       "      <td>0</td>\n",
       "      <td>0</td>\n",
       "      <td>0</td>\n",
       "      <td>0</td>\n",
       "      <td>0</td>\n",
       "      <td>0</td>\n",
       "    </tr>\n",
       "    <tr>\n",
       "      <th>106536</th>\n",
       "      <td>0.779995</td>\n",
       "      <td>False</td>\n",
       "      <td>-1.189752</td>\n",
       "      <td>-1.562365</td>\n",
       "      <td>False</td>\n",
       "      <td>9</td>\n",
       "      <td>-0.469662</td>\n",
       "      <td>False</td>\n",
       "      <td>False</td>\n",
       "      <td>0</td>\n",
       "      <td>...</td>\n",
       "      <td>0</td>\n",
       "      <td>0</td>\n",
       "      <td>0</td>\n",
       "      <td>0</td>\n",
       "      <td>0</td>\n",
       "      <td>0</td>\n",
       "      <td>0</td>\n",
       "      <td>0</td>\n",
       "      <td>1</td>\n",
       "      <td>0</td>\n",
       "    </tr>\n",
       "    <tr>\n",
       "      <th>318118</th>\n",
       "      <td>0.282997</td>\n",
       "      <td>True</td>\n",
       "      <td>-0.136018</td>\n",
       "      <td>0.612575</td>\n",
       "      <td>False</td>\n",
       "      <td>1</td>\n",
       "      <td>-0.590798</td>\n",
       "      <td>False</td>\n",
       "      <td>False</td>\n",
       "      <td>0</td>\n",
       "      <td>...</td>\n",
       "      <td>0</td>\n",
       "      <td>0</td>\n",
       "      <td>0</td>\n",
       "      <td>0</td>\n",
       "      <td>0</td>\n",
       "      <td>0</td>\n",
       "      <td>0</td>\n",
       "      <td>0</td>\n",
       "      <td>1</td>\n",
       "      <td>0</td>\n",
       "    </tr>\n",
       "  </tbody>\n",
       "</table>\n",
       "<p>5 rows × 259 columns</p>\n",
       "</div>"
      ],
      "text/plain": [
       "        registrationyear  isautogearbox     power  kilometer  notrepaired  \\\n",
       "221441          0.614329          False -0.343001   0.612575        False   \n",
       "282422          0.282997           True  0.033333  -1.562365        False   \n",
       "194798          0.779995          False -0.888685  -2.377968        False   \n",
       "106536          0.779995          False -1.189752  -1.562365        False   \n",
       "318118          0.282997           True -0.136018   0.612575        False   \n",
       "\n",
       "        postalcode  lifetime  isretro  isclassic  vehicletype_convertible  \\\n",
       "221441           3  0.257158    False      False                        0   \n",
       "282422           6 -0.348525    False      False                        0   \n",
       "194798           2  0.741704    False      False                        0   \n",
       "106536           9 -0.469662    False      False                        0   \n",
       "318118           1 -0.590798    False      False                        0   \n",
       "\n",
       "        ...  brand_saab  brand_seat  brand_skoda  brand_smart  brand_subaru  \\\n",
       "221441  ...           0           0            0            0             0   \n",
       "282422  ...           0           0            0            0             0   \n",
       "194798  ...           0           0            0            0             0   \n",
       "106536  ...           0           0            0            0             0   \n",
       "318118  ...           0           0            0            0             0   \n",
       "\n",
       "        brand_suzuki  brand_toyota  brand_trabant  brand_volkswagen  \\\n",
       "221441             0             0              0                 1   \n",
       "282422             0             0              0                 0   \n",
       "194798             0             0              0                 0   \n",
       "106536             0             0              0                 1   \n",
       "318118             0             0              0                 1   \n",
       "\n",
       "        brand_volvo  \n",
       "221441            0  \n",
       "282422            0  \n",
       "194798            0  \n",
       "106536            0  \n",
       "318118            0  \n",
       "\n",
       "[5 rows x 259 columns]"
      ]
     },
     "execution_count": 98,
     "metadata": {},
     "output_type": "execute_result"
    }
   ],
   "source": [
    "X_test_forest.head()"
   ]
  },
  {
   "cell_type": "markdown",
   "metadata": {},
   "source": [
    "В итоге сет признаков получился довольно простым: год регистрации, коробка передач, мощность, пробег, факт ремонта и дополнительные признаки. Числовые признаки стандартизированы через StandardScaler. Ещё 249 признаков - по сути 3 признака, закодированные через get_dummy кодировщик."
   ]
  },
  {
   "cell_type": "markdown",
   "metadata": {},
   "source": [
    "Ключевой метрикой оценки моделей согласно ТЗ будет RMSE. Сразу проверим константную модель:"
   ]
  },
  {
   "cell_type": "code",
   "execution_count": 99,
   "metadata": {},
   "outputs": [],
   "source": [
    "constant_model_predicted = pd.Series(y_train_forest.mean(), index=X_test_forest.index)"
   ]
  },
  {
   "cell_type": "code",
   "execution_count": 100,
   "metadata": {},
   "outputs": [
    {
     "data": {
      "text/plain": [
       "4678.796531645139"
      ]
     },
     "execution_count": 100,
     "metadata": {},
     "output_type": "execute_result"
    }
   ],
   "source": [
    "mean_squared_error(y_test_forest, constant_model_predicted)**0.5"
   ]
  },
  {
   "cell_type": "markdown",
   "metadata": {},
   "source": [
    "RMSE константной модели 4678. Обучим лес."
   ]
  },
  {
   "cell_type": "markdown",
   "metadata": {},
   "source": [
    "Зададим параметры для обучения:"
   ]
  },
  {
   "cell_type": "code",
   "execution_count": 101,
   "metadata": {},
   "outputs": [],
   "source": [
    "params_forest = {\n",
    "            'n_estimators' : [50, 75, 100, 125, 150],\n",
    "            'max_depth':[25, 30, 40, 50, 60, 70, 80, 90, 100, 110, 120],\n",
    "            'max_features': ['log2', 'auto','sqrt'],\n",
    "            'min_samples_leaf': [1, 3, 5, 8, 10, 12],\n",
    "            'min_samples_split': [2, 4, 6, 10, 14, 16, 20],\n",
    "              }"
   ]
  },
  {
   "cell_type": "markdown",
   "metadata": {},
   "source": [
    "Подберем параметры при помощи RandomizedSearchCV:"
   ]
  },
  {
   "cell_type": "raw",
   "metadata": {},
   "source": [
    "%%time\n",
    "model = RandomForestRegressor(random_state=random_state)\n",
    "rs_rfr = RandomizedSearchCV(model, params_forest, cv=4, scoring='neg_mean_squared_error',\n",
    "                            verbose=10, n_iter=35, random_state=random_state, n_jobs=-1)\n",
    "\n",
    "rs_rfr.fit(X_train_forest, y_train_forest)"
   ]
  },
  {
   "cell_type": "markdown",
   "metadata": {},
   "source": [
    "Подобрались следующие гиперпараметры:"
   ]
  },
  {
   "cell_type": "markdown",
   "metadata": {},
   "source": [
    "{'n_estimators': 100,\n",
    " 'min_samples_split': 2,\n",
    " 'min_samples_leaf': 1,\n",
    " 'max_features': 'auto',\n",
    " 'max_depth': 60}"
   ]
  },
  {
   "cell_type": "markdown",
   "metadata": {},
   "source": [
    "Лучший RMSE леса с указанными параметрами на кросс-валидации:"
   ]
  },
  {
   "cell_type": "code",
   "execution_count": 102,
   "metadata": {},
   "outputs": [
    {
     "data": {
      "text/plain": [
       "1544.3052751348384"
      ]
     },
     "execution_count": 102,
     "metadata": {},
     "output_type": "execute_result"
    }
   ],
   "source": [
    "RMSE_FOREST_VALID = np.abs(-2384878.782809289**0.5)\n",
    "RMSE_FOREST_VALID"
   ]
  },
  {
   "cell_type": "markdown",
   "metadata": {},
   "source": [
    "* RMSE леса на кросс-валидациии 1544 (в базовом варианте решения задачи было 1578)"
   ]
  },
  {
   "cell_type": "markdown",
   "metadata": {},
   "source": [
    "Обучим модель и проверим на тестовой выборке:"
   ]
  },
  {
   "cell_type": "code",
   "execution_count": 103,
   "metadata": {},
   "outputs": [
    {
     "name": "stdout",
     "output_type": "stream",
     "text": [
      "Wall time: 5min 40s\n"
     ]
    },
    {
     "data": {
      "text/plain": [
       "RandomForestRegressor(max_depth=60, random_state=0)"
      ]
     },
     "execution_count": 103,
     "metadata": {},
     "output_type": "execute_result"
    }
   ],
   "source": [
    "%%time\n",
    "model_forest = RandomForestRegressor(max_depth=60, random_state=0)\n",
    "model_forest.fit(X_train_forest, y_train_forest)"
   ]
  },
  {
   "cell_type": "code",
   "execution_count": 104,
   "metadata": {},
   "outputs": [],
   "source": [
    "FIT_TIME_FOREST = 5*60+45"
   ]
  },
  {
   "cell_type": "code",
   "execution_count": 105,
   "metadata": {},
   "outputs": [
    {
     "name": "stdout",
     "output_type": "stream",
     "text": [
      "Wall time: 2.97 s\n"
     ]
    }
   ],
   "source": [
    "%%time\n",
    "predicted_forest = model_forest.predict(X_test_forest)"
   ]
  },
  {
   "cell_type": "code",
   "execution_count": 106,
   "metadata": {},
   "outputs": [],
   "source": [
    "PREDICT_TIME_FOREST = 2.97"
   ]
  },
  {
   "cell_type": "code",
   "execution_count": 107,
   "metadata": {},
   "outputs": [],
   "source": [
    "RMSE_FOREST_TEST = mean_squared_error(y_test_forest, predicted_forest)**0.5"
   ]
  },
  {
   "cell_type": "markdown",
   "metadata": {},
   "source": [
    "* RMSE леса на тестовой выборке составил  1512"
   ]
  },
  {
   "cell_type": "markdown",
   "metadata": {},
   "source": [
    "### Catboost"
   ]
  },
  {
   "cell_type": "markdown",
   "metadata": {},
   "source": [
    "Для catboost не рекомендуется использовать one hot encoding. В нашем случае для кодировки использовался встроенный в pandas метод get_dummies, который является аналогом one hot encoding. Поэтому нужно изменить предобработку. Вернемся к датасету df:"
   ]
  },
  {
   "cell_type": "code",
   "execution_count": 108,
   "metadata": {},
   "outputs": [
    {
     "data": {
      "text/html": [
       "<div>\n",
       "<style scoped>\n",
       "    .dataframe tbody tr th:only-of-type {\n",
       "        vertical-align: middle;\n",
       "    }\n",
       "\n",
       "    .dataframe tbody tr th {\n",
       "        vertical-align: top;\n",
       "    }\n",
       "\n",
       "    .dataframe thead th {\n",
       "        text-align: right;\n",
       "    }\n",
       "</style>\n",
       "<table border=\"1\" class=\"dataframe\">\n",
       "  <thead>\n",
       "    <tr style=\"text-align: right;\">\n",
       "      <th></th>\n",
       "      <th>price</th>\n",
       "      <th>vehicletype</th>\n",
       "      <th>registrationyear</th>\n",
       "      <th>isautogearbox</th>\n",
       "      <th>power</th>\n",
       "      <th>model</th>\n",
       "      <th>kilometer</th>\n",
       "      <th>fueltype</th>\n",
       "      <th>brand</th>\n",
       "      <th>notrepaired</th>\n",
       "      <th>postalcode</th>\n",
       "      <th>lifetime</th>\n",
       "      <th>isretro</th>\n",
       "      <th>isclassic</th>\n",
       "    </tr>\n",
       "  </thead>\n",
       "  <tbody>\n",
       "    <tr>\n",
       "      <th>3</th>\n",
       "      <td>1500</td>\n",
       "      <td>small</td>\n",
       "      <td>2001</td>\n",
       "      <td>False</td>\n",
       "      <td>75</td>\n",
       "      <td>golf</td>\n",
       "      <td>150000</td>\n",
       "      <td>petrol</td>\n",
       "      <td>volkswagen</td>\n",
       "      <td>False</td>\n",
       "      <td>9</td>\n",
       "      <td>0</td>\n",
       "      <td>False</td>\n",
       "      <td>False</td>\n",
       "    </tr>\n",
       "    <tr>\n",
       "      <th>4</th>\n",
       "      <td>3600</td>\n",
       "      <td>small</td>\n",
       "      <td>2008</td>\n",
       "      <td>False</td>\n",
       "      <td>69</td>\n",
       "      <td>fabia</td>\n",
       "      <td>90000</td>\n",
       "      <td>gasoline</td>\n",
       "      <td>skoda</td>\n",
       "      <td>False</td>\n",
       "      <td>6</td>\n",
       "      <td>6</td>\n",
       "      <td>False</td>\n",
       "      <td>False</td>\n",
       "    </tr>\n",
       "    <tr>\n",
       "      <th>5</th>\n",
       "      <td>650</td>\n",
       "      <td>sedan</td>\n",
       "      <td>1995</td>\n",
       "      <td>False</td>\n",
       "      <td>102</td>\n",
       "      <td>3er</td>\n",
       "      <td>150000</td>\n",
       "      <td>petrol</td>\n",
       "      <td>bmw</td>\n",
       "      <td>True</td>\n",
       "      <td>3</td>\n",
       "      <td>2</td>\n",
       "      <td>False</td>\n",
       "      <td>True</td>\n",
       "    </tr>\n",
       "    <tr>\n",
       "      <th>6</th>\n",
       "      <td>2200</td>\n",
       "      <td>convertible</td>\n",
       "      <td>2004</td>\n",
       "      <td>False</td>\n",
       "      <td>109</td>\n",
       "      <td>2_reihe</td>\n",
       "      <td>150000</td>\n",
       "      <td>petrol</td>\n",
       "      <td>peugeot</td>\n",
       "      <td>False</td>\n",
       "      <td>6</td>\n",
       "      <td>4</td>\n",
       "      <td>False</td>\n",
       "      <td>False</td>\n",
       "    </tr>\n",
       "    <tr>\n",
       "      <th>10</th>\n",
       "      <td>2000</td>\n",
       "      <td>sedan</td>\n",
       "      <td>2004</td>\n",
       "      <td>False</td>\n",
       "      <td>105</td>\n",
       "      <td>3_reihe</td>\n",
       "      <td>150000</td>\n",
       "      <td>petrol</td>\n",
       "      <td>mazda</td>\n",
       "      <td>False</td>\n",
       "      <td>9</td>\n",
       "      <td>11</td>\n",
       "      <td>False</td>\n",
       "      <td>False</td>\n",
       "    </tr>\n",
       "  </tbody>\n",
       "</table>\n",
       "</div>"
      ],
      "text/plain": [
       "    price  vehicletype  registrationyear  isautogearbox  power    model  \\\n",
       "3    1500        small              2001          False     75     golf   \n",
       "4    3600        small              2008          False     69    fabia   \n",
       "5     650        sedan              1995          False    102      3er   \n",
       "6    2200  convertible              2004          False    109  2_reihe   \n",
       "10   2000        sedan              2004          False    105  3_reihe   \n",
       "\n",
       "    kilometer  fueltype       brand  notrepaired  postalcode  lifetime  \\\n",
       "3      150000    petrol  volkswagen        False           9         0   \n",
       "4       90000  gasoline       skoda        False           6         6   \n",
       "5      150000    petrol         bmw         True           3         2   \n",
       "6      150000    petrol     peugeot        False           6         4   \n",
       "10     150000    petrol       mazda        False           9        11   \n",
       "\n",
       "    isretro  isclassic  \n",
       "3     False      False  \n",
       "4     False      False  \n",
       "5     False       True  \n",
       "6     False      False  \n",
       "10    False      False  "
      ]
     },
     "execution_count": 108,
     "metadata": {},
     "output_type": "execute_result"
    }
   ],
   "source": [
    "df.head()"
   ]
  },
  {
   "cell_type": "markdown",
   "metadata": {},
   "source": [
    "Разделим выборку на обучающую и тестовую:"
   ]
  },
  {
   "cell_type": "code",
   "execution_count": 109,
   "metadata": {},
   "outputs": [
    {
     "name": "stdout",
     "output_type": "stream",
     "text": [
      "В Обучающей выборке данных, %:  74.99989385866219\n",
      "В тестовой выборке данных, %:  25.00010614133781\n"
     ]
    }
   ],
   "source": [
    "catboost_train, catboost_test = train_test_split(df, test_size=0.25, random_state=random_state)\n",
    "print('В Обучающей выборке данных, %: ', len(catboost_train)/len(df)*100)\n",
    "print('В тестовой выборке данных, %: ', len(catboost_test)/len(df)*100)"
   ]
  },
  {
   "cell_type": "markdown",
   "metadata": {},
   "source": [
    "Выделим целевой признак:"
   ]
  },
  {
   "cell_type": "code",
   "execution_count": 110,
   "metadata": {},
   "outputs": [],
   "source": [
    "X_train_catboost = catboost_train.drop('price', axis=1)\n",
    "y_train_catboost = catboost_train['price']\n",
    "\n",
    "X_test_catboost = catboost_test.drop('price', axis=1)\n",
    "y_test_catboost = catboost_test['price']"
   ]
  },
  {
   "cell_type": "markdown",
   "metadata": {},
   "source": [
    "<i> Масштабирования для catboost не требуется"
   ]
  },
  {
   "cell_type": "markdown",
   "metadata": {},
   "source": [
    "Создадим список категориальных признаков чтобы передать их в Catboost:"
   ]
  },
  {
   "cell_type": "code",
   "execution_count": 111,
   "metadata": {},
   "outputs": [],
   "source": [
    "categorical_features = ['vehicletype', 'model', 'brand', 'fueltype']"
   ]
  },
  {
   "cell_type": "markdown",
   "metadata": {},
   "source": [
    "<i> опытным путем выяснили, что kilometer всё-таки не смысла подавать как категориальный признак, конечный результат выходит чуть хуже"
   ]
  },
  {
   "cell_type": "markdown",
   "metadata": {},
   "source": [
    "Запускаем catboost и подбираем гиперпараметры:"
   ]
  },
  {
   "cell_type": "raw",
   "metadata": {},
   "source": [
    "model_catboost = CatBoostRegressor(eval_metric='RMSE', iterations=1000, cat_features = categorical_features)\n",
    "\n",
    "param_grid = {'learning_rate': [0.1, 0.3, 0.5],\n",
    "        'depth': [6, 8, 10, 12],\n",
    "        'l2_leaf_reg': [1, 3, 5, 7, 9]}\n",
    "\n",
    "grid_search_result = model_catboost.grid_search(param_grid,\n",
    "                                                cv=3,\n",
    "                                                X=X_train_catboost, \n",
    "                                                y=y_train_catboost, \n",
    "                                                plot=True,\n",
    "                                                verbose=False)"
   ]
  },
  {
   "cell_type": "markdown",
   "metadata": {},
   "source": [
    "<a href=\"https://imgur.com/tjkmEX3\"><img src=\"https://i.imgur.com/tjkmEX3.png\" title=\"source: imgur.com\" /></a>"
   ]
  },
  {
   "cell_type": "markdown",
   "metadata": {},
   "source": [
    "* Лучший RMSE Catboost на кросс-валидации: 1467 (в базовом варианте решения задачи лучший RMSE - 1539)"
   ]
  },
  {
   "cell_type": "code",
   "execution_count": 112,
   "metadata": {},
   "outputs": [],
   "source": [
    "RMSE_CATBOOST_VALID = 1467"
   ]
  },
  {
   "cell_type": "markdown",
   "metadata": {},
   "source": [
    "Лучшие параметры для catboost:"
   ]
  },
  {
   "cell_type": "markdown",
   "metadata": {},
   "source": [
    "{'depth': 12, 'l2_leaf_reg': 5, 'learning_rate': 0.1}"
   ]
  },
  {
   "cell_type": "markdown",
   "metadata": {},
   "source": [
    "Обучим модель с подобранными параметрами:"
   ]
  },
  {
   "cell_type": "code",
   "execution_count": 113,
   "metadata": {},
   "outputs": [
    {
     "name": "stdout",
     "output_type": "stream",
     "text": [
      "0:\tlearn: 4337.3518148\ttotal: 390ms\tremaining: 6m 29s\n",
      "100:\tlearn: 1448.0547768\ttotal: 20.6s\tremaining: 3m 3s\n",
      "200:\tlearn: 1355.1721328\ttotal: 40.4s\tremaining: 2m 40s\n",
      "300:\tlearn: 1289.7405963\ttotal: 1m\tremaining: 2m 21s\n",
      "400:\tlearn: 1242.1456734\ttotal: 1m 21s\tremaining: 2m 2s\n",
      "500:\tlearn: 1199.3865455\ttotal: 1m 43s\tremaining: 1m 42s\n",
      "600:\tlearn: 1166.1699803\ttotal: 2m 4s\tremaining: 1m 22s\n",
      "700:\tlearn: 1137.7025207\ttotal: 2m 26s\tremaining: 1m 2s\n",
      "800:\tlearn: 1112.8520287\ttotal: 2m 48s\tremaining: 41.9s\n",
      "900:\tlearn: 1087.3595579\ttotal: 3m 11s\tremaining: 21s\n",
      "999:\tlearn: 1063.6936665\ttotal: 3m 34s\tremaining: 0us\n",
      "Wall time: 3min 36s\n"
     ]
    },
    {
     "data": {
      "text/plain": [
       "<catboost.core.CatBoostRegressor at 0x2ba324b4760>"
      ]
     },
     "execution_count": 113,
     "metadata": {},
     "output_type": "execute_result"
    }
   ],
   "source": [
    "%%time\n",
    "model_catboost = CatBoostRegressor(eval_metric='RMSE', iterations=1000,\n",
    "                                  cat_features = categorical_features,\n",
    "                 depth=12, l2_leaf_reg=5, learning_rate=0.1, random_state=random_state, verbose=100)\n",
    "model_catboost.fit(X_train_catboost, y_train_catboost)"
   ]
  },
  {
   "cell_type": "code",
   "execution_count": 114,
   "metadata": {},
   "outputs": [],
   "source": [
    "FIT_TIME_CATBOOST = 3*60+32"
   ]
  },
  {
   "cell_type": "markdown",
   "metadata": {},
   "source": [
    "Проверим обученную модель на тестовой выборке:"
   ]
  },
  {
   "cell_type": "code",
   "execution_count": 115,
   "metadata": {},
   "outputs": [
    {
     "name": "stdout",
     "output_type": "stream",
     "text": [
      "Wall time: 396 ms\n"
     ]
    }
   ],
   "source": [
    "%%time\n",
    "predicted_catboost = model_catboost.predict(X_test_catboost)"
   ]
  },
  {
   "cell_type": "code",
   "execution_count": 116,
   "metadata": {},
   "outputs": [],
   "source": [
    "PREDICT_TIME_CATBOOST = 0.408"
   ]
  },
  {
   "cell_type": "markdown",
   "metadata": {},
   "source": [
    "Найдем RMSE Catboost на тестовой выборке:"
   ]
  },
  {
   "cell_type": "code",
   "execution_count": 117,
   "metadata": {},
   "outputs": [
    {
     "data": {
      "text/plain": [
       "1447.7762940156592"
      ]
     },
     "execution_count": 117,
     "metadata": {},
     "output_type": "execute_result"
    }
   ],
   "source": [
    "RMSE_CATBOOST_TEST = mean_squared_error(y_test_catboost, predicted_catboost)**0.5\n",
    "RMSE_CATBOOST_TEST"
   ]
  },
  {
   "cell_type": "markdown",
   "metadata": {},
   "source": [
    "* Лучший RMSE Catboost на тесте 1447"
   ]
  },
  {
   "cell_type": "markdown",
   "metadata": {},
   "source": [
    "Построим график feature importances:"
   ]
  },
  {
   "cell_type": "code",
   "execution_count": 118,
   "metadata": {},
   "outputs": [
    {
     "data": {
      "image/png": "[encoded data removed]",
      "text/plain": [
       "<Figure size 720x360 with 1 Axes>"
      ]
     },
     "metadata": {},
     "output_type": "display_data"
    }
   ],
   "source": [
    "fi = pd.DataFrame(data ={'feature': X_train_catboost.columns, 'importance': model_catboost.feature_importances_})\n",
    "fi.sort_values('importance').plot(kind='barh', x = 'feature', figsize=(10, 5))\n",
    "plt.title('Важность признаков для Catboost')\n",
    "plt.xlabel('Оценка важности признака (feature importance)')\n",
    "plt.xticks(np.arange(0, fi['importance'].max(), 1))\n",
    "plt.legend(loc=\"lower right\");"
   ]
  },
  {
   "cell_type": "markdown",
   "metadata": {},
   "source": [
    "* Самыми важным признаками модель посчитала год регистрации, мошность и брэнд.\n",
    "* Дополнительно созданные признаки имеют невысокую важность за исключением lifetime."
   ]
  },
  {
   "cell_type": "markdown",
   "metadata": {},
   "source": [
    "### LightGBM"
   ]
  },
  {
   "cell_type": "markdown",
   "metadata": {},
   "source": [
    "Для LightGBM нужна немного другая обработка. Он понимает категориальные признаки, но если они типа int. Воспользуемся OrdinalEncoder чтобы преобразовать датасет."
   ]
  },
  {
   "cell_type": "code",
   "execution_count": 119,
   "metadata": {},
   "outputs": [],
   "source": [
    "data_lgb = df.copy()"
   ]
  },
  {
   "cell_type": "code",
   "execution_count": 120,
   "metadata": {},
   "outputs": [
    {
     "data": {
      "text/plain": [
       "OrdinalEncoder()"
      ]
     },
     "execution_count": 120,
     "metadata": {},
     "output_type": "execute_result"
    }
   ],
   "source": [
    "enc = OrdinalEncoder()\n",
    "enc.fit(data_lgb[[\"vehicletype\",\"model\", \"fueltype\", \"brand\"]])"
   ]
  },
  {
   "cell_type": "code",
   "execution_count": 121,
   "metadata": {},
   "outputs": [],
   "source": [
    "data_lgb[[\"vehicletype\",\"model\", \"fueltype\", \"brand\"]] = enc.transform(data_lgb[[\"vehicletype\",\"model\", \"fueltype\", \"brand\"]])"
   ]
  },
  {
   "cell_type": "code",
   "execution_count": 122,
   "metadata": {},
   "outputs": [
    {
     "data": {
      "text/html": [
       "<div>\n",
       "<style scoped>\n",
       "    .dataframe tbody tr th:only-of-type {\n",
       "        vertical-align: middle;\n",
       "    }\n",
       "\n",
       "    .dataframe tbody tr th {\n",
       "        vertical-align: top;\n",
       "    }\n",
       "\n",
       "    .dataframe thead th {\n",
       "        text-align: right;\n",
       "    }\n",
       "</style>\n",
       "<table border=\"1\" class=\"dataframe\">\n",
       "  <thead>\n",
       "    <tr style=\"text-align: right;\">\n",
       "      <th></th>\n",
       "      <th>price</th>\n",
       "      <th>vehicletype</th>\n",
       "      <th>registrationyear</th>\n",
       "      <th>isautogearbox</th>\n",
       "      <th>power</th>\n",
       "      <th>model</th>\n",
       "      <th>kilometer</th>\n",
       "      <th>fueltype</th>\n",
       "      <th>brand</th>\n",
       "      <th>notrepaired</th>\n",
       "      <th>postalcode</th>\n",
       "      <th>lifetime</th>\n",
       "      <th>isretro</th>\n",
       "      <th>isclassic</th>\n",
       "    </tr>\n",
       "  </thead>\n",
       "  <tbody>\n",
       "    <tr>\n",
       "      <th>3</th>\n",
       "      <td>1500</td>\n",
       "      <td>5.0</td>\n",
       "      <td>2001</td>\n",
       "      <td>False</td>\n",
       "      <td>75</td>\n",
       "      <td>94.0</td>\n",
       "      <td>150000</td>\n",
       "      <td>6.0</td>\n",
       "      <td>37.0</td>\n",
       "      <td>False</td>\n",
       "      <td>9</td>\n",
       "      <td>0</td>\n",
       "      <td>False</td>\n",
       "      <td>False</td>\n",
       "    </tr>\n",
       "    <tr>\n",
       "      <th>4</th>\n",
       "      <td>3600</td>\n",
       "      <td>5.0</td>\n",
       "      <td>2008</td>\n",
       "      <td>False</td>\n",
       "      <td>69</td>\n",
       "      <td>82.0</td>\n",
       "      <td>90000</td>\n",
       "      <td>2.0</td>\n",
       "      <td>31.0</td>\n",
       "      <td>False</td>\n",
       "      <td>6</td>\n",
       "      <td>6</td>\n",
       "      <td>False</td>\n",
       "      <td>False</td>\n",
       "    </tr>\n",
       "    <tr>\n",
       "      <th>5</th>\n",
       "      <td>650</td>\n",
       "      <td>4.0</td>\n",
       "      <td>1995</td>\n",
       "      <td>False</td>\n",
       "      <td>102</td>\n",
       "      <td>9.0</td>\n",
       "      <td>150000</td>\n",
       "      <td>6.0</td>\n",
       "      <td>2.0</td>\n",
       "      <td>True</td>\n",
       "      <td>3</td>\n",
       "      <td>2</td>\n",
       "      <td>False</td>\n",
       "      <td>True</td>\n",
       "    </tr>\n",
       "    <tr>\n",
       "      <th>6</th>\n",
       "      <td>2200</td>\n",
       "      <td>1.0</td>\n",
       "      <td>2004</td>\n",
       "      <td>False</td>\n",
       "      <td>109</td>\n",
       "      <td>6.0</td>\n",
       "      <td>150000</td>\n",
       "      <td>6.0</td>\n",
       "      <td>25.0</td>\n",
       "      <td>False</td>\n",
       "      <td>6</td>\n",
       "      <td>4</td>\n",
       "      <td>False</td>\n",
       "      <td>False</td>\n",
       "    </tr>\n",
       "    <tr>\n",
       "      <th>10</th>\n",
       "      <td>2000</td>\n",
       "      <td>4.0</td>\n",
       "      <td>2004</td>\n",
       "      <td>False</td>\n",
       "      <td>105</td>\n",
       "      <td>8.0</td>\n",
       "      <td>150000</td>\n",
       "      <td>6.0</td>\n",
       "      <td>19.0</td>\n",
       "      <td>False</td>\n",
       "      <td>9</td>\n",
       "      <td>11</td>\n",
       "      <td>False</td>\n",
       "      <td>False</td>\n",
       "    </tr>\n",
       "  </tbody>\n",
       "</table>\n",
       "</div>"
      ],
      "text/plain": [
       "    price  vehicletype  registrationyear  isautogearbox  power  model  \\\n",
       "3    1500          5.0              2001          False     75   94.0   \n",
       "4    3600          5.0              2008          False     69   82.0   \n",
       "5     650          4.0              1995          False    102    9.0   \n",
       "6    2200          1.0              2004          False    109    6.0   \n",
       "10   2000          4.0              2004          False    105    8.0   \n",
       "\n",
       "    kilometer  fueltype  brand  notrepaired  postalcode  lifetime  isretro  \\\n",
       "3      150000       6.0   37.0        False           9         0    False   \n",
       "4       90000       2.0   31.0        False           6         6    False   \n",
       "5      150000       6.0    2.0         True           3         2    False   \n",
       "6      150000       6.0   25.0        False           6         4    False   \n",
       "10     150000       6.0   19.0        False           9        11    False   \n",
       "\n",
       "    isclassic  \n",
       "3       False  \n",
       "4       False  \n",
       "5        True  \n",
       "6       False  \n",
       "10      False  "
      ]
     },
     "execution_count": 122,
     "metadata": {},
     "output_type": "execute_result"
    }
   ],
   "source": [
    "data_lgb.head()"
   ]
  },
  {
   "cell_type": "markdown",
   "metadata": {},
   "source": [
    "Разделим датасет на обучающую и тестовую выборки:"
   ]
  },
  {
   "cell_type": "code",
   "execution_count": 123,
   "metadata": {},
   "outputs": [
    {
     "name": "stdout",
     "output_type": "stream",
     "text": [
      "В Обучающей выборке данных, %:  74.99989385866219\n",
      "В тестовой выборке данных, %:  25.00010614133781\n"
     ]
    }
   ],
   "source": [
    "data_train_lgb, data_test_lgb = train_test_split(data_lgb, test_size=0.25, random_state=random_state)\n",
    "print('В Обучающей выборке данных, %: ', len(data_train_lgb)/len(data_lgb)*100)\n",
    "print('В тестовой выборке данных, %: ', len(data_test_lgb)/len(data_lgb)*100)"
   ]
  },
  {
   "cell_type": "markdown",
   "metadata": {},
   "source": [
    "Выделим целевой признак:"
   ]
  },
  {
   "cell_type": "code",
   "execution_count": 124,
   "metadata": {},
   "outputs": [],
   "source": [
    "X_train_lgb = data_train_lgb.drop('price', axis=1)\n",
    "y_train_lgb = data_train_lgb['price']\n",
    "\n",
    "X_test_lgb = data_test_lgb.drop('price', axis=1)\n",
    "y_test_lgb = data_test_lgb['price']"
   ]
  },
  {
   "cell_type": "markdown",
   "metadata": {},
   "source": [
    "Масштабируем данные:"
   ]
  },
  {
   "cell_type": "code",
   "execution_count": 125,
   "metadata": {},
   "outputs": [],
   "source": [
    "scaler_lgb = StandardScaler()\n",
    "scaler_lgb.fit(X_train_lgb[numeric])\n",
    "X_train_lgb[numeric] = scaler_lgb.transform(X_train_lgb[numeric])\n",
    "X_test_lgb[numeric] = scaler_lgb.transform(X_test_lgb[numeric])"
   ]
  },
  {
   "cell_type": "markdown",
   "metadata": {},
   "source": [
    "Подберем гиперпараметры:"
   ]
  },
  {
   "cell_type": "code",
   "execution_count": 126,
   "metadata": {},
   "outputs": [],
   "source": [
    "params_lgb = {\n",
    "    'num_leaves': [7, 14, 21, 28, 55],\n",
    "    'learning_rate': [0.1, 0.2, 0.3],\n",
    "    'max_depth': [5, 9, 15, 24],\n",
    "    'n_estimators': [100, 200, 300, 600],\n",
    "    }"
   ]
  },
  {
   "cell_type": "raw",
   "metadata": {},
   "source": [
    "grid_lgb = GridSearchCV(lgb.LGBMRegressor(random_state=random_state),\n",
    "                        params_lgb, scoring='neg_mean_squared_error', cv=3, verbose=1, n_jobs=-1)\n",
    "grid_lgb.fit(X_train_lgb, y_train_lgb)"
   ]
  },
  {
   "cell_type": "markdown",
   "metadata": {},
   "source": [
    "* Лучший RMSE LightGBM на кросс-валидации: 1489"
   ]
  },
  {
   "cell_type": "code",
   "execution_count": 127,
   "metadata": {},
   "outputs": [],
   "source": [
    "RMSE_LIGHTGBM_VALID = 1489"
   ]
  },
  {
   "cell_type": "markdown",
   "metadata": {},
   "source": [
    "Подобрались следующие гиперпараметры:"
   ]
  },
  {
   "cell_type": "markdown",
   "metadata": {},
   "source": [
    "{'learning_rate': 0.1, 'max_depth': 15, 'n_estimators': 600, 'num_leaves': 55}"
   ]
  },
  {
   "cell_type": "markdown",
   "metadata": {},
   "source": [
    "Обучим модель с подобранными параметрами на обучающей выборке:"
   ]
  },
  {
   "cell_type": "code",
   "execution_count": 128,
   "metadata": {},
   "outputs": [
    {
     "name": "stdout",
     "output_type": "stream",
     "text": [
      "[LightGBM] [Warning] Auto-choosing row-wise multi-threading, the overhead of testing was 0.003619 seconds.\n",
      "You can set `force_row_wise=true` to remove the overhead.\n",
      "And if memory is not enough, you can set `force_col_wise=true`.\n",
      "[LightGBM] [Info] Total Bins 619\n",
      "[LightGBM] [Info] Number of data points in the train set: 176651, number of used features: 13\n",
      "[LightGBM] [Info] Start training from score 5239.850123\n",
      "Wall time: 1.84 s\n"
     ]
    },
    {
     "data": {
      "text/plain": [
       "LGBMRegressor(max_depth=15, n_estimators=600, num_leaves=55, random_state=0,\n",
       "              verbose=1)"
      ]
     },
     "execution_count": 128,
     "metadata": {},
     "output_type": "execute_result"
    }
   ],
   "source": [
    "%%time\n",
    "model_lgb = lgb.LGBMRegressor(random_state=random_state,\n",
    "                             learning_rate=0.1, max_depth=15, n_estimators=600, num_leaves=55, verbose=1)\n",
    "model_lgb.fit(X_train_lgb, y_train_lgb)"
   ]
  },
  {
   "cell_type": "code",
   "execution_count": 129,
   "metadata": {},
   "outputs": [],
   "source": [
    "FIT_TIME_LIGHTGBM = 1.96"
   ]
  },
  {
   "cell_type": "markdown",
   "metadata": {},
   "source": [
    "Сделаем предикты на тестовой выборке:"
   ]
  },
  {
   "cell_type": "code",
   "execution_count": 130,
   "metadata": {},
   "outputs": [
    {
     "name": "stdout",
     "output_type": "stream",
     "text": [
      "Wall time: 396 ms\n"
     ]
    }
   ],
   "source": [
    "%%time\n",
    "predicted_lgb = model_lgb.predict(X_test_lgb)"
   ]
  },
  {
   "cell_type": "code",
   "execution_count": 131,
   "metadata": {},
   "outputs": [],
   "source": [
    "PREDICT_TIME_LIGHTGBM = 0.439"
   ]
  },
  {
   "cell_type": "markdown",
   "metadata": {},
   "source": [
    "Посчитаем RMSE на тестовой выборке:"
   ]
  },
  {
   "cell_type": "code",
   "execution_count": 132,
   "metadata": {},
   "outputs": [
    {
     "data": {
      "text/plain": [
       "1465.7992599529277"
      ]
     },
     "execution_count": 132,
     "metadata": {},
     "output_type": "execute_result"
    }
   ],
   "source": [
    "RMSE_LIGHTGBM_TEST = mean_squared_error(y_test_lgb, predicted_lgb)**0.5\n",
    "RMSE_LIGHTGBM_TEST"
   ]
  },
  {
   "cell_type": "markdown",
   "metadata": {},
   "source": [
    "RMSE на тесте снова приятно удивил - значение ниже, чем на кросс-валидации. И ниже, чем в старом решении с упрощенной предобработкой и без генерации признаков. Кроме того, LightGBM имеет невероятную скорость обучения и предикта и подойдёт под любые требования заказчика, когда важна скоростная модель."
   ]
  },
  {
   "cell_type": "code",
   "execution_count": 133,
   "metadata": {},
   "outputs": [
    {
     "data": {
      "image/png": "[encoded data removed]",
      "text/plain": [
       "<Figure size 720x360 with 1 Axes>"
      ]
     },
     "metadata": {},
     "output_type": "display_data"
    }
   ],
   "source": [
    "fi_gbm = pd.DataFrame(data ={'feature': X_train_lgb.columns, 'importance': model_lgb.feature_importances_})\n",
    "fi_gbm.sort_values('importance').plot(kind='barh', x = 'feature', figsize=(10, 5))\n",
    "plt.title('Важность признаков для LightGBM')\n",
    "plt.xlabel('Оценка важности признака (feature importance)')\n",
    "plt.legend(loc=\"lower right\");"
   ]
  },
  {
   "cell_type": "markdown",
   "metadata": {},
   "source": [
    "В LightGBM по-другому распределена важность признаков. Мощность двигателя и год регистрации поменялись местами, а model вошла в топ-3. Дополнительный признак lifetime имеет ещё более высокую важность, а вот принадлежность к классике или ретро также заняли последние места."
   ]
  },
  {
   "cell_type": "markdown",
   "metadata": {},
   "source": [
    "Подготовим отчет по собранным данным о работе моделей:"
   ]
  },
  {
   "cell_type": "code",
   "execution_count": 134,
   "metadata": {},
   "outputs": [],
   "source": [
    "report = {'model' : ['Random forest', 'Catboost', 'LightGBM'], \n",
    "          'RMSE_CV' : [RMSE_FOREST_VALID, RMSE_CATBOOST_VALID, RMSE_LIGHTGBM_VALID],\n",
    "         'RMSE_test' : [RMSE_FOREST_TEST, RMSE_CATBOOST_TEST, RMSE_LIGHTGBM_TEST],\n",
    "         'fit_time' : [FIT_TIME_FOREST, FIT_TIME_CATBOOST, FIT_TIME_LIGHTGBM],\n",
    "         'predict_time' : [PREDICT_TIME_FOREST, PREDICT_TIME_CATBOOST, PREDICT_TIME_LIGHTGBM]}\n",
    "\n",
    "report = pd.DataFrame(data=report).round(2).sort_values('RMSE_test')"
   ]
  },
  {
   "cell_type": "code",
   "execution_count": 135,
   "metadata": {},
   "outputs": [
    {
     "data": {
      "text/html": [
       "<div>\n",
       "<style scoped>\n",
       "    .dataframe tbody tr th:only-of-type {\n",
       "        vertical-align: middle;\n",
       "    }\n",
       "\n",
       "    .dataframe tbody tr th {\n",
       "        vertical-align: top;\n",
       "    }\n",
       "\n",
       "    .dataframe thead th {\n",
       "        text-align: right;\n",
       "    }\n",
       "</style>\n",
       "<table border=\"1\" class=\"dataframe\">\n",
       "  <thead>\n",
       "    <tr style=\"text-align: right;\">\n",
       "      <th></th>\n",
       "      <th>model</th>\n",
       "      <th>RMSE_CV</th>\n",
       "      <th>RMSE_test</th>\n",
       "      <th>fit_time</th>\n",
       "      <th>predict_time</th>\n",
       "    </tr>\n",
       "  </thead>\n",
       "  <tbody>\n",
       "    <tr>\n",
       "      <th>1</th>\n",
       "      <td>Catboost</td>\n",
       "      <td>1467.00</td>\n",
       "      <td>1447.78</td>\n",
       "      <td>212.00</td>\n",
       "      <td>0.41</td>\n",
       "    </tr>\n",
       "    <tr>\n",
       "      <th>2</th>\n",
       "      <td>LightGBM</td>\n",
       "      <td>1489.00</td>\n",
       "      <td>1465.80</td>\n",
       "      <td>1.96</td>\n",
       "      <td>0.44</td>\n",
       "    </tr>\n",
       "    <tr>\n",
       "      <th>0</th>\n",
       "      <td>Random forest</td>\n",
       "      <td>1544.31</td>\n",
       "      <td>1512.22</td>\n",
       "      <td>345.00</td>\n",
       "      <td>2.97</td>\n",
       "    </tr>\n",
       "  </tbody>\n",
       "</table>\n",
       "</div>"
      ],
      "text/plain": [
       "           model  RMSE_CV  RMSE_test  fit_time  predict_time\n",
       "1       Catboost  1467.00    1447.78    212.00          0.41\n",
       "2       LightGBM  1489.00    1465.80      1.96          0.44\n",
       "0  Random forest  1544.31    1512.22    345.00          2.97"
      ]
     },
     "execution_count": 135,
     "metadata": {},
     "output_type": "execute_result"
    }
   ],
   "source": [
    "report"
   ]
  },
  {
   "cell_type": "markdown",
   "metadata": {},
   "source": [
    "Лучшим по качеству снова оказался Catboost, однако у LightGBM отрыв совсем небольшой, а по времени обучения этот алгоритм вне конкуренции."
   ]
  },
  {
   "cell_type": "markdown",
   "metadata": {},
   "source": [
    "Попробуем улучшить качество предикта простым методом - усреднение ответов каждой модели."
   ]
  },
  {
   "cell_type": "code",
   "execution_count": 136,
   "metadata": {},
   "outputs": [],
   "source": [
    "predicted_mean = (predicted_forest + predicted_catboost + predicted_lgb) / 3"
   ]
  },
  {
   "cell_type": "code",
   "execution_count": 137,
   "metadata": {},
   "outputs": [],
   "source": [
    "RMSE_ALL_MODELS_MEAN = mean_squared_error(y_test_lgb, predicted_mean)**0.5"
   ]
  },
  {
   "cell_type": "code",
   "execution_count": 138,
   "metadata": {},
   "outputs": [
    {
     "data": {
      "text/plain": [
       "1420.7400753513655"
      ]
     },
     "execution_count": 138,
     "metadata": {},
     "output_type": "execute_result"
    }
   ],
   "source": [
    "RMSE_ALL_MODELS_MEAN"
   ]
  },
  {
   "cell_type": "markdown",
   "metadata": {},
   "source": [
    "Интересно, что это позволило улучшить скор. Дальнейшее изучение этого вопроса ведёт к генерации метапризнаков и метаалгоритмов (Стекинг, блендинг). Сохраним показатели работы объединенной модели чтобы добавить в отчет:"
   ]
  },
  {
   "cell_type": "code",
   "execution_count": 139,
   "metadata": {},
   "outputs": [],
   "source": [
    "top3_model_mean = {'model' : 'Top3_model_mean', \n",
    "          'RMSE_CV' : [0],\n",
    "         'RMSE_test' : [RMSE_ALL_MODELS_MEAN],\n",
    "         'fit_time' : [report['fit_time'].sum()],\n",
    "         'predict_time' : [report['predict_time'].sum()]}\n",
    "\n",
    "top3_model_mean = pd.DataFrame(data=top3_model_mean).round(1)"
   ]
  },
  {
   "cell_type": "markdown",
   "metadata": {},
   "source": [
    "Добавим данные первого исследования для сравнения:"
   ]
  },
  {
   "cell_type": "code",
   "execution_count": 140,
   "metadata": {},
   "outputs": [],
   "source": [
    "old_results = {'model' : ['Tree_v1', 'Random Forest_v1', 'Linear Regression_v1', 'Caiboost_v1', 'LightGBM_v1', 'XGBoost_v1',\n",
    "                          'Catboost_raw_data'], \n",
    "          'RMSE_CV' : [1754, 1578, 2597, 1539, 1550, 1571, 1672],\n",
    "         'RMSE_test' : [1727, 1533, 2596, 1498, 1505, 1609, 1686],\n",
    "         'fit_time' : [6.6, 159, 5.6, 226, 3, 85, 437],\n",
    "         'predict_time' : [0.6, 4.6, 0.6, 0.5, 0.4, 0.9, 0.8]}\n",
    "\n",
    "old_results = pd.DataFrame(data=old_results).round(1).sort_values('RMSE_test')"
   ]
  },
  {
   "cell_type": "markdown",
   "metadata": {},
   "source": [
    "Объединим данные с текущим исследованием. Данные из первой версии проекта будут с префиксом v1:"
   ]
  },
  {
   "cell_type": "code",
   "execution_count": 141,
   "metadata": {},
   "outputs": [],
   "source": [
    "final_report = pd.concat([report, old_results, top3_model_mean], ignore_index=True)"
   ]
  },
  {
   "cell_type": "markdown",
   "metadata": {},
   "source": [
    "Изменим типы для удобства воспрития:"
   ]
  },
  {
   "cell_type": "code",
   "execution_count": 142,
   "metadata": {},
   "outputs": [],
   "source": [
    "final_report['RMSE_CV'] = final_report['RMSE_CV'].astype('int')\n",
    "final_report['RMSE_test'] = final_report['RMSE_test'].astype('int')\n",
    "final_report['fit_time'] = final_report['fit_time'].round(1)\n",
    "final_report['predict_time'] = final_report['predict_time'].round(1)\n",
    "final_report = final_report.sort_values('RMSE_test')"
   ]
  },
  {
   "cell_type": "markdown",
   "metadata": {},
   "source": [
    "Выведем итоговую версию отчета по всем моделям:"
   ]
  },
  {
   "cell_type": "code",
   "execution_count": 143,
   "metadata": {},
   "outputs": [
    {
     "data": {
      "text/html": [
       "<div>\n",
       "<style scoped>\n",
       "    .dataframe tbody tr th:only-of-type {\n",
       "        vertical-align: middle;\n",
       "    }\n",
       "\n",
       "    .dataframe tbody tr th {\n",
       "        vertical-align: top;\n",
       "    }\n",
       "\n",
       "    .dataframe thead th {\n",
       "        text-align: right;\n",
       "    }\n",
       "</style>\n",
       "<table border=\"1\" class=\"dataframe\">\n",
       "  <thead>\n",
       "    <tr style=\"text-align: right;\">\n",
       "      <th></th>\n",
       "      <th>model</th>\n",
       "      <th>RMSE_CV</th>\n",
       "      <th>RMSE_test</th>\n",
       "      <th>fit_time</th>\n",
       "      <th>predict_time</th>\n",
       "    </tr>\n",
       "  </thead>\n",
       "  <tbody>\n",
       "    <tr>\n",
       "      <th>10</th>\n",
       "      <td>Top3_model_mean</td>\n",
       "      <td>0</td>\n",
       "      <td>1420</td>\n",
       "      <td>559.0</td>\n",
       "      <td>3.8</td>\n",
       "    </tr>\n",
       "    <tr>\n",
       "      <th>0</th>\n",
       "      <td>Catboost</td>\n",
       "      <td>1467</td>\n",
       "      <td>1447</td>\n",
       "      <td>212.0</td>\n",
       "      <td>0.4</td>\n",
       "    </tr>\n",
       "    <tr>\n",
       "      <th>1</th>\n",
       "      <td>LightGBM</td>\n",
       "      <td>1489</td>\n",
       "      <td>1465</td>\n",
       "      <td>2.0</td>\n",
       "      <td>0.4</td>\n",
       "    </tr>\n",
       "    <tr>\n",
       "      <th>3</th>\n",
       "      <td>Caiboost_v1</td>\n",
       "      <td>1539</td>\n",
       "      <td>1498</td>\n",
       "      <td>226.0</td>\n",
       "      <td>0.5</td>\n",
       "    </tr>\n",
       "    <tr>\n",
       "      <th>4</th>\n",
       "      <td>LightGBM_v1</td>\n",
       "      <td>1550</td>\n",
       "      <td>1505</td>\n",
       "      <td>3.0</td>\n",
       "      <td>0.4</td>\n",
       "    </tr>\n",
       "    <tr>\n",
       "      <th>2</th>\n",
       "      <td>Random forest</td>\n",
       "      <td>1544</td>\n",
       "      <td>1512</td>\n",
       "      <td>345.0</td>\n",
       "      <td>3.0</td>\n",
       "    </tr>\n",
       "    <tr>\n",
       "      <th>5</th>\n",
       "      <td>Random Forest_v1</td>\n",
       "      <td>1578</td>\n",
       "      <td>1533</td>\n",
       "      <td>159.0</td>\n",
       "      <td>4.6</td>\n",
       "    </tr>\n",
       "    <tr>\n",
       "      <th>6</th>\n",
       "      <td>XGBoost_v1</td>\n",
       "      <td>1571</td>\n",
       "      <td>1609</td>\n",
       "      <td>85.0</td>\n",
       "      <td>0.9</td>\n",
       "    </tr>\n",
       "    <tr>\n",
       "      <th>7</th>\n",
       "      <td>Catboost_raw_data</td>\n",
       "      <td>1672</td>\n",
       "      <td>1686</td>\n",
       "      <td>437.0</td>\n",
       "      <td>0.8</td>\n",
       "    </tr>\n",
       "    <tr>\n",
       "      <th>8</th>\n",
       "      <td>Tree_v1</td>\n",
       "      <td>1754</td>\n",
       "      <td>1727</td>\n",
       "      <td>6.6</td>\n",
       "      <td>0.6</td>\n",
       "    </tr>\n",
       "    <tr>\n",
       "      <th>9</th>\n",
       "      <td>Linear Regression_v1</td>\n",
       "      <td>2597</td>\n",
       "      <td>2596</td>\n",
       "      <td>5.6</td>\n",
       "      <td>0.6</td>\n",
       "    </tr>\n",
       "  </tbody>\n",
       "</table>\n",
       "</div>"
      ],
      "text/plain": [
       "                   model  RMSE_CV  RMSE_test  fit_time  predict_time\n",
       "10       Top3_model_mean        0       1420     559.0           3.8\n",
       "0               Catboost     1467       1447     212.0           0.4\n",
       "1               LightGBM     1489       1465       2.0           0.4\n",
       "3            Caiboost_v1     1539       1498     226.0           0.5\n",
       "4            LightGBM_v1     1550       1505       3.0           0.4\n",
       "2          Random forest     1544       1512     345.0           3.0\n",
       "5       Random Forest_v1     1578       1533     159.0           4.6\n",
       "6             XGBoost_v1     1571       1609      85.0           0.9\n",
       "7      Catboost_raw_data     1672       1686     437.0           0.8\n",
       "8                Tree_v1     1754       1727       6.6           0.6\n",
       "9   Linear Regression_v1     2597       2596       5.6           0.6"
      ]
     },
     "execution_count": 143,
     "metadata": {},
     "output_type": "execute_result"
    }
   ],
   "source": [
    "final_report"
   ]
  },
  {
   "cell_type": "markdown",
   "metadata": {},
   "source": [
    "## Общий вывод"
   ]
  },
  {
   "cell_type": "markdown",
   "metadata": {},
   "source": [
    "После упрощения подхода к предобработке и добавления новых признаков удалось улучшить качество работы каждой модели по сравнению с первой версией проекта. При этом количество очищенных данных находится примерно на одном уровне. Кроме того, усреднив результаты новых моделей, удалось достичь ещё большего качества на тестовой выборке. Однако, усреднение может быть не применимо в бизнесе из-за ограничений по времени обучения и времени предикта, так как требуется проработка сразу нескольких моделей."
   ]
  },
  {
   "cell_type": "markdown",
   "metadata": {},
   "source": [
    "Основная рекомендация для бизнеса остаётся прежней:\n",
    "\n",
    "Необходимо создать и настроить выпадающие списки и шкалы выбора параметров автомобилей так, чтобы пользователь не вводил их сам с клавиатуры. Сначала пользователь выбирает бренд, затем модель, а затем подтягиваются возможные варианты для выбора мощности мотора, типа кузова, коробки передач, типа топлива. Эти выпадающие списки создать не так сложно, как правило для каждой модели существует 2-3 варианта возможных двигателя (для каждого двигателя заранее известна его мощность), 2 варианта коробки, 1-2 типа топлива и тд. Ключевая идея в том, чтобы не позволять пользователю вводить всякую дурню с клавиатуры или оставлять важные поля пустыми. Без её реализации не получится настроить точную модель оценки авто. Кроме того, это необходимо не только для построения модели оценки, но и для того чтобы объявление пользователя могло находить в поиске приложения как можно больше людей по разным фильтрам. Больше просмотров объявления -> больше потенциальных клиентов -> быстрее и возможно дороже пользователь продаст авто -> больше удовлетворенность от использования сервиса."
   ]
  },
  {
   "cell_type": "markdown",
   "metadata": {},
   "source": [
    "Можно предложить заказчику использовать в работе 4 модели:"
   ]
  },
  {
   "cell_type": "code",
   "execution_count": 144,
   "metadata": {},
   "outputs": [
    {
     "data": {
      "text/html": [
       "<div>\n",
       "<style scoped>\n",
       "    .dataframe tbody tr th:only-of-type {\n",
       "        vertical-align: middle;\n",
       "    }\n",
       "\n",
       "    .dataframe tbody tr th {\n",
       "        vertical-align: top;\n",
       "    }\n",
       "\n",
       "    .dataframe thead th {\n",
       "        text-align: right;\n",
       "    }\n",
       "</style>\n",
       "<table border=\"1\" class=\"dataframe\">\n",
       "  <thead>\n",
       "    <tr style=\"text-align: right;\">\n",
       "      <th></th>\n",
       "      <th>model</th>\n",
       "      <th>RMSE_CV</th>\n",
       "      <th>RMSE_test</th>\n",
       "      <th>fit_time</th>\n",
       "      <th>predict_time</th>\n",
       "    </tr>\n",
       "  </thead>\n",
       "  <tbody>\n",
       "    <tr>\n",
       "      <th>10</th>\n",
       "      <td>Top3_model_mean</td>\n",
       "      <td>0</td>\n",
       "      <td>1420</td>\n",
       "      <td>559.0</td>\n",
       "      <td>3.8</td>\n",
       "    </tr>\n",
       "    <tr>\n",
       "      <th>0</th>\n",
       "      <td>Catboost</td>\n",
       "      <td>1467</td>\n",
       "      <td>1447</td>\n",
       "      <td>212.0</td>\n",
       "      <td>0.4</td>\n",
       "    </tr>\n",
       "    <tr>\n",
       "      <th>1</th>\n",
       "      <td>LightGBM</td>\n",
       "      <td>1489</td>\n",
       "      <td>1465</td>\n",
       "      <td>2.0</td>\n",
       "      <td>0.4</td>\n",
       "    </tr>\n",
       "    <tr>\n",
       "      <th>7</th>\n",
       "      <td>Catboost_raw_data</td>\n",
       "      <td>1672</td>\n",
       "      <td>1686</td>\n",
       "      <td>437.0</td>\n",
       "      <td>0.8</td>\n",
       "    </tr>\n",
       "  </tbody>\n",
       "</table>\n",
       "</div>"
      ],
      "text/plain": [
       "                model  RMSE_CV  RMSE_test  fit_time  predict_time\n",
       "10    Top3_model_mean        0       1420     559.0           3.8\n",
       "0            Catboost     1467       1447     212.0           0.4\n",
       "1            LightGBM     1489       1465       2.0           0.4\n",
       "7   Catboost_raw_data     1672       1686     437.0           0.8"
      ]
     },
     "execution_count": 144,
     "metadata": {},
     "output_type": "execute_result"
    }
   ],
   "source": [
    "final_report.query('model==\"Catboost_raw_data\" or model==\"Catboost\" or model==\"Top3_model_mean\" or model==\"LightGBM\"')"
   ]
  },
  {
   "cell_type": "markdown",
   "metadata": {},
   "source": [
    "<br><b>Catboost_raw_data</b>\n",
    "* Работает с сырыми данными без какой-либо обработки, не нужно использовать рекомендованный вариант при разработки приложения\n",
    "* Точность предсказания, время обучения, время прогнозирования намного хуже, чем у других моделей\n",
    "* Не приведёт к потери клиентов в краткосрочном периоде (пока им не надоест пользоваться не современным приложением и видеть неточные оценки).\n",
    "\n",
    "<br><b>Новые Catboost и LightGBM</b>\n",
    "* Очень высокая точность предсказания\n",
    "* Самая высокая скорость предсказания среди всех моделей\n",
    "* у LightGBM также невероятно высокая скорость обучения\n",
    "* Работает с серьезной предобработкой данных\n",
    "* Требует 100% следования рекомендации по улучшению приложения\n",
    "* В краткосрочном периоде может привести к потери части клиентов (около 3%)\n",
    "* В долгосрочном периоде способствует росту клиентской базы и дальнейшему улучшения как самого сервиса, так и качества прогнозирования\n",
    "\n",
    "<br><b> Top3_model_mean </b>\n",
    "* Самая высокая точность предсказания среди всех моделей\n",
    "* Для реализации необходимо усреднить результаты работы трёх новых моделей Catboost, LightGBM, RF поэтому модель имеет плохие показатели времени обучения и скорости предикта\n",
    "* Можно использовать если указанная в таблице скорость является приемлимой"
   ]
  },
  {
   "cell_type": "markdown",
   "metadata": {},
   "source": [
    "Все подобранные выше обученные модели могут быть полезны бизнесу в зависимости от ситуации: возможно/не возможно разработать приложение, опираясь на рекомендацию, какая скорость обучения/предикта устроит, есть ли возможность использовать рекомендованную предобработку."
   ]
  }
 ],
 "metadata": {
  "kernelspec": {
   "display_name": "Python 3",
   "language": "python",
   "name": "python3"
  },
  "language_info": {
   "codemirror_mode": {
    "name": "ipython",
    "version": 3
   },
   "file_extension": ".py",
   "mimetype": "text/x-python",
   "name": "python",
   "nbconvert_exporter": "python",
   "pygments_lexer": "ipython3",
   "version": "3.8.3"
  }
 },
 "nbformat": 4,
 "nbformat_minor": 4
}
